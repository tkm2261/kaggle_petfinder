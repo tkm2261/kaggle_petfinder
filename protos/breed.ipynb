{
 "cells": [
  {
   "cell_type": "markdown",
   "metadata": {
    "editable": true,
    "id": "8o93AxwOj7s3"
   },
   "source": [
    "![](data:image/jpeg;base64,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)\n",
    "\n",
    "# PLEASE CHECKOUT MY NEW DATASET\n",
    "- https://www.kaggle.com/keagle/mountains-dataset-with-coordinates-and-countries\n",
    "- https://www.kaggle.com/keagle/list-of-indian-festivals-for-2022\n",
    "\n",
    "Based on previous works\n",
    "# Petfinder.my - Pawpularity Contest: Simple EDA and fastai starter"
   ]
  },
  {
   "cell_type": "markdown",
   "metadata": {
    "editable": true,
    "id": "FgtczX04j7s_"
   },
   "source": [
    "## A look at the data\n",
    "Let's start out by setting up our environment by importing the required modules and setting a random seed:"
   ]
  },
  {
   "cell_type": "code",
   "execution_count": 1,
   "metadata": {},
   "outputs": [],
   "source": [
    "#!pip3 install torch==1.10.0+cu113 torchvision==0.11.1+cu113 torchaudio==0.10.0+cu113 -f https://download.pytorch.org/whl/cu113/torch_stable.html"
   ]
  },
  {
   "cell_type": "code",
   "execution_count": 2,
   "metadata": {},
   "outputs": [],
   "source": [
    "import os\n",
    "os.environ[\"CUDA_VISIBLE_DEVICES\"] = \"1\"\n"
   ]
  },
  {
   "cell_type": "code",
   "execution_count": 3,
   "metadata": {
    "editable": true,
    "id": "hQQX6Ci5j7tA"
   },
   "outputs": [],
   "source": [
    "import sys\n",
    "sys.path.append('../input/timm-pytorch-image-models/pytorch-image-models-master')\n",
    "from timm import create_model"
   ]
  },
  {
   "cell_type": "code",
   "execution_count": 4,
   "metadata": {
    "_cell_guid": "b1076dfc-b9ad-4769-8c92-a6c4dae69d19",
    "_uuid": "8f2839f25d086af736a60e9eeb907d3b93b6e0e5",
    "editable": true,
    "id": "-gR0g0B6j7tC"
   },
   "outputs": [],
   "source": [
    "from fastai.vision.all import *"
   ]
  },
  {
   "cell_type": "code",
   "execution_count": 5,
   "metadata": {
    "editable": true,
    "id": "XG-mT90fj7tD"
   },
   "outputs": [],
   "source": [
    "set_seed(999, reproducible=True)\n",
    "BATCH_SIZE = 32"
   ]
  },
  {
   "cell_type": "markdown",
   "metadata": {
    "editable": true,
    "id": "sqWTG_VQj7tE"
   },
   "source": [
    "Let's check what data is available to us:"
   ]
  },
  {
   "cell_type": "code",
   "execution_count": 6,
   "metadata": {
    "editable": true,
    "id": "1QnC7Qo9j7tE"
   },
   "outputs": [
    {
     "data": {
      "text/plain": [
       "(#17) [Path('../input/petfinder-adoption-prediction/test_sentiment'),Path('../input/petfinder-adoption-prediction/ColorLabels.csv'),Path('../input/petfinder-adoption-prediction/train_images'),Path('../input/petfinder-adoption-prediction/breed_labels.csv'),Path('../input/petfinder-adoption-prediction/BreedLabels.csv'),Path('../input/petfinder-adoption-prediction/test_metadata'),Path('../input/petfinder-adoption-prediction/PetFinder-StateLabels.csv'),Path('../input/petfinder-adoption-prediction/train_sentiment'),Path('../input/petfinder-adoption-prediction/StateLabels.csv'),Path('../input/petfinder-adoption-prediction/state_labels.csv')...]"
      ]
     },
     "execution_count": 6,
     "metadata": {},
     "output_type": "execute_result"
    }
   ],
   "source": [
    "dataset_path = Path('../input/petfinder-adoption-prediction/')\n",
    "dataset_path.ls()"
   ]
  },
  {
   "cell_type": "markdown",
   "metadata": {
    "editable": true,
    "id": "WGSJZpskj7tF"
   },
   "source": [
    "We can see that we have our train csv file with the train image names, metadata and labels, the test csv file with test image names and metadata, the sample submission csv with the test image names, and the train and test image folders.\n",
    "\n",
    "Let's check the train csv file:"
   ]
  },
  {
   "cell_type": "code",
   "execution_count": 7,
   "metadata": {
    "editable": true,
    "id": "n-5L27Q6j7tG",
    "tags": []
   },
   "outputs": [
    {
     "data": {
      "text/html": [
       "<div>\n",
       "<style scoped>\n",
       "    .dataframe tbody tr th:only-of-type {\n",
       "        vertical-align: middle;\n",
       "    }\n",
       "\n",
       "    .dataframe tbody tr th {\n",
       "        vertical-align: top;\n",
       "    }\n",
       "\n",
       "    .dataframe thead th {\n",
       "        text-align: right;\n",
       "    }\n",
       "</style>\n",
       "<table border=\"1\" class=\"dataframe\">\n",
       "  <thead>\n",
       "    <tr style=\"text-align: right;\">\n",
       "      <th></th>\n",
       "      <th>0</th>\n",
       "      <th>1</th>\n",
       "      <th>2</th>\n",
       "      <th>3</th>\n",
       "      <th>4</th>\n",
       "    </tr>\n",
       "  </thead>\n",
       "  <tbody>\n",
       "    <tr>\n",
       "      <th>Type</th>\n",
       "      <td>2</td>\n",
       "      <td>2</td>\n",
       "      <td>1</td>\n",
       "      <td>1</td>\n",
       "      <td>1</td>\n",
       "    </tr>\n",
       "    <tr>\n",
       "      <th>Name</th>\n",
       "      <td>Nibble</td>\n",
       "      <td>No Name Yet</td>\n",
       "      <td>Brisco</td>\n",
       "      <td>Miko</td>\n",
       "      <td>Hunter</td>\n",
       "    </tr>\n",
       "    <tr>\n",
       "      <th>Age</th>\n",
       "      <td>3</td>\n",
       "      <td>1</td>\n",
       "      <td>1</td>\n",
       "      <td>4</td>\n",
       "      <td>1</td>\n",
       "    </tr>\n",
       "    <tr>\n",
       "      <th>Breed1</th>\n",
       "      <td>299</td>\n",
       "      <td>265</td>\n",
       "      <td>307</td>\n",
       "      <td>307</td>\n",
       "      <td>307</td>\n",
       "    </tr>\n",
       "    <tr>\n",
       "      <th>Breed2</th>\n",
       "      <td>0</td>\n",
       "      <td>0</td>\n",
       "      <td>0</td>\n",
       "      <td>0</td>\n",
       "      <td>0</td>\n",
       "    </tr>\n",
       "    <tr>\n",
       "      <th>Gender</th>\n",
       "      <td>1</td>\n",
       "      <td>1</td>\n",
       "      <td>1</td>\n",
       "      <td>2</td>\n",
       "      <td>1</td>\n",
       "    </tr>\n",
       "    <tr>\n",
       "      <th>Color1</th>\n",
       "      <td>1</td>\n",
       "      <td>1</td>\n",
       "      <td>2</td>\n",
       "      <td>1</td>\n",
       "      <td>1</td>\n",
       "    </tr>\n",
       "    <tr>\n",
       "      <th>Color2</th>\n",
       "      <td>7</td>\n",
       "      <td>2</td>\n",
       "      <td>7</td>\n",
       "      <td>2</td>\n",
       "      <td>0</td>\n",
       "    </tr>\n",
       "    <tr>\n",
       "      <th>Color3</th>\n",
       "      <td>0</td>\n",
       "      <td>0</td>\n",
       "      <td>0</td>\n",
       "      <td>0</td>\n",
       "      <td>0</td>\n",
       "    </tr>\n",
       "    <tr>\n",
       "      <th>MaturitySize</th>\n",
       "      <td>1</td>\n",
       "      <td>2</td>\n",
       "      <td>2</td>\n",
       "      <td>2</td>\n",
       "      <td>2</td>\n",
       "    </tr>\n",
       "    <tr>\n",
       "      <th>FurLength</th>\n",
       "      <td>1</td>\n",
       "      <td>2</td>\n",
       "      <td>2</td>\n",
       "      <td>1</td>\n",
       "      <td>1</td>\n",
       "    </tr>\n",
       "    <tr>\n",
       "      <th>Vaccinated</th>\n",
       "      <td>2</td>\n",
       "      <td>3</td>\n",
       "      <td>1</td>\n",
       "      <td>1</td>\n",
       "      <td>2</td>\n",
       "    </tr>\n",
       "    <tr>\n",
       "      <th>Dewormed</th>\n",
       "      <td>2</td>\n",
       "      <td>3</td>\n",
       "      <td>1</td>\n",
       "      <td>1</td>\n",
       "      <td>2</td>\n",
       "    </tr>\n",
       "    <tr>\n",
       "      <th>Sterilized</th>\n",
       "      <td>2</td>\n",
       "      <td>3</td>\n",
       "      <td>2</td>\n",
       "      <td>2</td>\n",
       "      <td>2</td>\n",
       "    </tr>\n",
       "    <tr>\n",
       "      <th>Health</th>\n",
       "      <td>1</td>\n",
       "      <td>1</td>\n",
       "      <td>1</td>\n",
       "      <td>1</td>\n",
       "      <td>1</td>\n",
       "    </tr>\n",
       "    <tr>\n",
       "      <th>Quantity</th>\n",
       "      <td>1</td>\n",
       "      <td>1</td>\n",
       "      <td>1</td>\n",
       "      <td>1</td>\n",
       "      <td>1</td>\n",
       "    </tr>\n",
       "    <tr>\n",
       "      <th>Fee</th>\n",
       "      <td>100</td>\n",
       "      <td>0</td>\n",
       "      <td>0</td>\n",
       "      <td>150</td>\n",
       "      <td>0</td>\n",
       "    </tr>\n",
       "    <tr>\n",
       "      <th>State</th>\n",
       "      <td>41326</td>\n",
       "      <td>41401</td>\n",
       "      <td>41326</td>\n",
       "      <td>41401</td>\n",
       "      <td>41326</td>\n",
       "    </tr>\n",
       "    <tr>\n",
       "      <th>RescuerID</th>\n",
       "      <td>8480853f516546f6cf33aa88cd76c379</td>\n",
       "      <td>3082c7125d8fb66f7dd4bff4192c8b14</td>\n",
       "      <td>fa90fa5b1ee11c86938398b60abc32cb</td>\n",
       "      <td>9238e4f44c71a75282e62f7136c6b240</td>\n",
       "      <td>95481e953f8aed9ec3d16fc4509537e8</td>\n",
       "    </tr>\n",
       "    <tr>\n",
       "      <th>VideoAmt</th>\n",
       "      <td>0</td>\n",
       "      <td>0</td>\n",
       "      <td>0</td>\n",
       "      <td>0</td>\n",
       "      <td>0</td>\n",
       "    </tr>\n",
       "    <tr>\n",
       "      <th>Description</th>\n",
       "      <td>Nibble is a 3+ month old ball of cuteness. He is energetic and playful. I rescued a couple of cats a few months ago but could not get them neutered in time as the clinic was fully scheduled. The result was this little kitty. I do not have enough space and funds to care for more cats in my household. Looking for responsible people to take over Nibble's care.</td>\n",
       "      <td>I just found it alone yesterday near my apartment. It was shaking so I had to bring it home to provide temporary care.</td>\n",
       "      <td>Their pregnant mother was dumped by her irresponsible owner at the roadside near some shops in Subang Jaya. Gave birth to them at the roadside. They are all healthy and adorable puppies. Already dewormed, vaccinated and ready to go to a home. No tying or caging for long hours as guard dogs. However, it is acceptable to cage or tie for precautionary purposes. Interested to adopt pls call me.</td>\n",
       "      <td>Good guard dog, very alert, active, obedience waiting for her good master, plz call or sms for more details if you really get interested, thanks!!</td>\n",
       "      <td>This handsome yet cute boy is up for adoption. He is the most playful pal we've seen in our puppies. He loves to nibble on shoelaces , Chase you at such a young age. Imagine what a cute brat he will be when he grows. We are looking for a loving home for Hunter , one that will take care of him and give him the love that he needs. Please call urgently if you would like to adopt this cutie.</td>\n",
       "    </tr>\n",
       "    <tr>\n",
       "      <th>PetID</th>\n",
       "      <td>86e1089a3</td>\n",
       "      <td>6296e909a</td>\n",
       "      <td>3422e4906</td>\n",
       "      <td>5842f1ff5</td>\n",
       "      <td>850a43f90</td>\n",
       "    </tr>\n",
       "    <tr>\n",
       "      <th>PhotoAmt</th>\n",
       "      <td>1.0</td>\n",
       "      <td>2.0</td>\n",
       "      <td>7.0</td>\n",
       "      <td>8.0</td>\n",
       "      <td>3.0</td>\n",
       "    </tr>\n",
       "    <tr>\n",
       "      <th>AdoptionSpeed</th>\n",
       "      <td>2</td>\n",
       "      <td>0</td>\n",
       "      <td>3</td>\n",
       "      <td>2</td>\n",
       "      <td>2</td>\n",
       "    </tr>\n",
       "  </tbody>\n",
       "</table>\n",
       "</div>"
      ],
      "text/plain": [
       "                                                                                                                                                                                                                                                                                                                                                                                     0  \\\n",
       "Type                                                                                                                                                                                                                                                                                                                                                                                 2   \n",
       "Name                                                                                                                                                                                                                                                                                                                                                                            Nibble   \n",
       "Age                                                                                                                                                                                                                                                                                                                                                                                  3   \n",
       "Breed1                                                                                                                                                                                                                                                                                                                                                                             299   \n",
       "Breed2                                                                                                                                                                                                                                                                                                                                                                               0   \n",
       "Gender                                                                                                                                                                                                                                                                                                                                                                               1   \n",
       "Color1                                                                                                                                                                                                                                                                                                                                                                               1   \n",
       "Color2                                                                                                                                                                                                                                                                                                                                                                               7   \n",
       "Color3                                                                                                                                                                                                                                                                                                                                                                               0   \n",
       "MaturitySize                                                                                                                                                                                                                                                                                                                                                                         1   \n",
       "FurLength                                                                                                                                                                                                                                                                                                                                                                            1   \n",
       "Vaccinated                                                                                                                                                                                                                                                                                                                                                                           2   \n",
       "Dewormed                                                                                                                                                                                                                                                                                                                                                                             2   \n",
       "Sterilized                                                                                                                                                                                                                                                                                                                                                                           2   \n",
       "Health                                                                                                                                                                                                                                                                                                                                                                               1   \n",
       "Quantity                                                                                                                                                                                                                                                                                                                                                                             1   \n",
       "Fee                                                                                                                                                                                                                                                                                                                                                                                100   \n",
       "State                                                                                                                                                                                                                                                                                                                                                                            41326   \n",
       "RescuerID                                                                                                                                                                                                                                                                                                                                             8480853f516546f6cf33aa88cd76c379   \n",
       "VideoAmt                                                                                                                                                                                                                                                                                                                                                                             0   \n",
       "Description    Nibble is a 3+ month old ball of cuteness. He is energetic and playful. I rescued a couple of cats a few months ago but could not get them neutered in time as the clinic was fully scheduled. The result was this little kitty. I do not have enough space and funds to care for more cats in my household. Looking for responsible people to take over Nibble's care.   \n",
       "PetID                                                                                                                                                                                                                                                                                                                                                                        86e1089a3   \n",
       "PhotoAmt                                                                                                                                                                                                                                                                                                                                                                           1.0   \n",
       "AdoptionSpeed                                                                                                                                                                                                                                                                                                                                                                        2   \n",
       "\n",
       "                                                                                                                                    1  \\\n",
       "Type                                                                                                                                2   \n",
       "Name                                                                                                                      No Name Yet   \n",
       "Age                                                                                                                                 1   \n",
       "Breed1                                                                                                                            265   \n",
       "Breed2                                                                                                                              0   \n",
       "Gender                                                                                                                              1   \n",
       "Color1                                                                                                                              1   \n",
       "Color2                                                                                                                              2   \n",
       "Color3                                                                                                                              0   \n",
       "MaturitySize                                                                                                                        2   \n",
       "FurLength                                                                                                                           2   \n",
       "Vaccinated                                                                                                                          3   \n",
       "Dewormed                                                                                                                            3   \n",
       "Sterilized                                                                                                                          3   \n",
       "Health                                                                                                                              1   \n",
       "Quantity                                                                                                                            1   \n",
       "Fee                                                                                                                                 0   \n",
       "State                                                                                                                           41401   \n",
       "RescuerID                                                                                            3082c7125d8fb66f7dd4bff4192c8b14   \n",
       "VideoAmt                                                                                                                            0   \n",
       "Description    I just found it alone yesterday near my apartment. It was shaking so I had to bring it home to provide temporary care.   \n",
       "PetID                                                                                                                       6296e909a   \n",
       "PhotoAmt                                                                                                                          2.0   \n",
       "AdoptionSpeed                                                                                                                       0   \n",
       "\n",
       "                                                                                                                                                                                                                                                                                                                                                                                                                       2  \\\n",
       "Type                                                                                                                                                                                                                                                                                                                                                                                                                   1   \n",
       "Name                                                                                                                                                                                                                                                                                                                                                                                                              Brisco   \n",
       "Age                                                                                                                                                                                                                                                                                                                                                                                                                    1   \n",
       "Breed1                                                                                                                                                                                                                                                                                                                                                                                                               307   \n",
       "Breed2                                                                                                                                                                                                                                                                                                                                                                                                                 0   \n",
       "Gender                                                                                                                                                                                                                                                                                                                                                                                                                 1   \n",
       "Color1                                                                                                                                                                                                                                                                                                                                                                                                                 2   \n",
       "Color2                                                                                                                                                                                                                                                                                                                                                                                                                 7   \n",
       "Color3                                                                                                                                                                                                                                                                                                                                                                                                                 0   \n",
       "MaturitySize                                                                                                                                                                                                                                                                                                                                                                                                           2   \n",
       "FurLength                                                                                                                                                                                                                                                                                                                                                                                                              2   \n",
       "Vaccinated                                                                                                                                                                                                                                                                                                                                                                                                             1   \n",
       "Dewormed                                                                                                                                                                                                                                                                                                                                                                                                               1   \n",
       "Sterilized                                                                                                                                                                                                                                                                                                                                                                                                             2   \n",
       "Health                                                                                                                                                                                                                                                                                                                                                                                                                 1   \n",
       "Quantity                                                                                                                                                                                                                                                                                                                                                                                                               1   \n",
       "Fee                                                                                                                                                                                                                                                                                                                                                                                                                    0   \n",
       "State                                                                                                                                                                                                                                                                                                                                                                                                              41326   \n",
       "RescuerID                                                                                                                                                                                                                                                                                                                                                                               fa90fa5b1ee11c86938398b60abc32cb   \n",
       "VideoAmt                                                                                                                                                                                                                                                                                                                                                                                                               0   \n",
       "Description    Their pregnant mother was dumped by her irresponsible owner at the roadside near some shops in Subang Jaya. Gave birth to them at the roadside. They are all healthy and adorable puppies. Already dewormed, vaccinated and ready to go to a home. No tying or caging for long hours as guard dogs. However, it is acceptable to cage or tie for precautionary purposes. Interested to adopt pls call me.   \n",
       "PetID                                                                                                                                                                                                                                                                                                                                                                                                          3422e4906   \n",
       "PhotoAmt                                                                                                                                                                                                                                                                                                                                                                                                             7.0   \n",
       "AdoptionSpeed                                                                                                                                                                                                                                                                                                                                                                                                          3   \n",
       "\n",
       "                                                                                                                                                                3  \\\n",
       "Type                                                                                                                                                            1   \n",
       "Name                                                                                                                                                         Miko   \n",
       "Age                                                                                                                                                             4   \n",
       "Breed1                                                                                                                                                        307   \n",
       "Breed2                                                                                                                                                          0   \n",
       "Gender                                                                                                                                                          2   \n",
       "Color1                                                                                                                                                          1   \n",
       "Color2                                                                                                                                                          2   \n",
       "Color3                                                                                                                                                          0   \n",
       "MaturitySize                                                                                                                                                    2   \n",
       "FurLength                                                                                                                                                       1   \n",
       "Vaccinated                                                                                                                                                      1   \n",
       "Dewormed                                                                                                                                                        1   \n",
       "Sterilized                                                                                                                                                      2   \n",
       "Health                                                                                                                                                          1   \n",
       "Quantity                                                                                                                                                        1   \n",
       "Fee                                                                                                                                                           150   \n",
       "State                                                                                                                                                       41401   \n",
       "RescuerID                                                                                                                        9238e4f44c71a75282e62f7136c6b240   \n",
       "VideoAmt                                                                                                                                                        0   \n",
       "Description    Good guard dog, very alert, active, obedience waiting for her good master, plz call or sms for more details if you really get interested, thanks!!   \n",
       "PetID                                                                                                                                                   5842f1ff5   \n",
       "PhotoAmt                                                                                                                                                      8.0   \n",
       "AdoptionSpeed                                                                                                                                                   2   \n",
       "\n",
       "                                                                                                                                                                                                                                                                                                                                                                                                                    4  \n",
       "Type                                                                                                                                                                                                                                                                                                                                                                                                                1  \n",
       "Name                                                                                                                                                                                                                                                                                                                                                                                                           Hunter  \n",
       "Age                                                                                                                                                                                                                                                                                                                                                                                                                 1  \n",
       "Breed1                                                                                                                                                                                                                                                                                                                                                                                                            307  \n",
       "Breed2                                                                                                                                                                                                                                                                                                                                                                                                              0  \n",
       "Gender                                                                                                                                                                                                                                                                                                                                                                                                              1  \n",
       "Color1                                                                                                                                                                                                                                                                                                                                                                                                              1  \n",
       "Color2                                                                                                                                                                                                                                                                                                                                                                                                              0  \n",
       "Color3                                                                                                                                                                                                                                                                                                                                                                                                              0  \n",
       "MaturitySize                                                                                                                                                                                                                                                                                                                                                                                                        2  \n",
       "FurLength                                                                                                                                                                                                                                                                                                                                                                                                           1  \n",
       "Vaccinated                                                                                                                                                                                                                                                                                                                                                                                                          2  \n",
       "Dewormed                                                                                                                                                                                                                                                                                                                                                                                                            2  \n",
       "Sterilized                                                                                                                                                                                                                                                                                                                                                                                                          2  \n",
       "Health                                                                                                                                                                                                                                                                                                                                                                                                              1  \n",
       "Quantity                                                                                                                                                                                                                                                                                                                                                                                                            1  \n",
       "Fee                                                                                                                                                                                                                                                                                                                                                                                                                 0  \n",
       "State                                                                                                                                                                                                                                                                                                                                                                                                           41326  \n",
       "RescuerID                                                                                                                                                                                                                                                                                                                                                                            95481e953f8aed9ec3d16fc4509537e8  \n",
       "VideoAmt                                                                                                                                                                                                                                                                                                                                                                                                            0  \n",
       "Description    This handsome yet cute boy is up for adoption. He is the most playful pal we've seen in our puppies. He loves to nibble on shoelaces , Chase you at such a young age. Imagine what a cute brat he will be when he grows. We are looking for a loving home for Hunter , one that will take care of him and give him the love that he needs. Please call urgently if you would like to adopt this cutie.  \n",
       "PetID                                                                                                                                                                                                                                                                                                                                                                                                       850a43f90  \n",
       "PhotoAmt                                                                                                                                                                                                                                                                                                                                                                                                          3.0  \n",
       "AdoptionSpeed                                                                                                                                                                                                                                                                                                                                                                                                       2  "
      ]
     },
     "execution_count": 7,
     "metadata": {},
     "output_type": "execute_result"
    }
   ],
   "source": [
    "train_df = pd.read_csv(dataset_path/'train/train.csv')\n",
    "train_df.head().T"
   ]
  },
  {
   "cell_type": "code",
   "execution_count": 8,
   "metadata": {},
   "outputs": [
    {
     "data": {
      "text/plain": [
       "Int64Index([307, 266, 265, 299, 264, 292, 285, 141, 205, 179,\n",
       "            ...\n",
       "            290, 201,  16, 165, 257, 176, 214, 125, 123,  81],\n",
       "           dtype='int64', length=176)"
      ]
     },
     "execution_count": 8,
     "metadata": {},
     "output_type": "execute_result"
    }
   ],
   "source": [
    "(train_df.Breed1.value_counts() > 10).index"
   ]
  },
  {
   "cell_type": "markdown",
   "metadata": {
    "editable": true,
    "id": "rzwOX1S3j7tH"
   },
   "source": [
    "The metadata provided includes information about key visual quality and composition parameters of the photos. The Pawpularity Score is derived from the profile's page view statistics. This is the target we are aiming to predict."
   ]
  },
  {
   "cell_type": "markdown",
   "metadata": {
    "editable": true,
    "id": "hIq1S8bLj7tI"
   },
   "source": [
    "Let's do some quick processing of the image filenames to make it easier to access:"
   ]
  },
  {
   "cell_type": "code",
   "execution_count": 9,
   "metadata": {
    "editable": true,
    "id": "NMzpvBHIj7tJ"
   },
   "outputs": [
    {
     "data": {
      "text/html": [
       "<div>\n",
       "<style scoped>\n",
       "    .dataframe tbody tr th:only-of-type {\n",
       "        vertical-align: middle;\n",
       "    }\n",
       "\n",
       "    .dataframe tbody tr th {\n",
       "        vertical-align: top;\n",
       "    }\n",
       "\n",
       "    .dataframe thead th {\n",
       "        text-align: right;\n",
       "    }\n",
       "</style>\n",
       "<table border=\"1\" class=\"dataframe\">\n",
       "  <thead>\n",
       "    <tr style=\"text-align: right;\">\n",
       "      <th></th>\n",
       "      <th>Type</th>\n",
       "      <th>Name</th>\n",
       "      <th>Age</th>\n",
       "      <th>Breed1</th>\n",
       "      <th>Breed2</th>\n",
       "      <th>Gender</th>\n",
       "      <th>Color1</th>\n",
       "      <th>Color2</th>\n",
       "      <th>Color3</th>\n",
       "      <th>MaturitySize</th>\n",
       "      <th>...</th>\n",
       "      <th>Health</th>\n",
       "      <th>Quantity</th>\n",
       "      <th>Fee</th>\n",
       "      <th>State</th>\n",
       "      <th>RescuerID</th>\n",
       "      <th>VideoAmt</th>\n",
       "      <th>Description</th>\n",
       "      <th>PhotoAmt</th>\n",
       "      <th>AdoptionSpeed</th>\n",
       "      <th>path</th>\n",
       "    </tr>\n",
       "  </thead>\n",
       "  <tbody>\n",
       "    <tr>\n",
       "      <th>0</th>\n",
       "      <td>1</td>\n",
       "      <td>Dexter</td>\n",
       "      <td>41</td>\n",
       "      <td>307</td>\n",
       "      <td>0</td>\n",
       "      <td>1</td>\n",
       "      <td>2</td>\n",
       "      <td>3</td>\n",
       "      <td>0</td>\n",
       "      <td>2</td>\n",
       "      <td>...</td>\n",
       "      <td>1</td>\n",
       "      <td>1</td>\n",
       "      <td>0</td>\n",
       "      <td>41326</td>\n",
       "      <td>28863e2bec16331b9bb916ce484e09b7</td>\n",
       "      <td>0</td>\n",
       "      <td>Very cheerful and loves to play and be around people.</td>\n",
       "      <td>5.0</td>\n",
       "      <td>2</td>\n",
       "      <td>../input/petfinder-adoption-prediction/train_images/7803e9e5d-1.jpg</td>\n",
       "    </tr>\n",
       "    <tr>\n",
       "      <th>1</th>\n",
       "      <td>2</td>\n",
       "      <td>Lola</td>\n",
       "      <td>5</td>\n",
       "      <td>266</td>\n",
       "      <td>0</td>\n",
       "      <td>2</td>\n",
       "      <td>1</td>\n",
       "      <td>6</td>\n",
       "      <td>0</td>\n",
       "      <td>1</td>\n",
       "      <td>...</td>\n",
       "      <td>1</td>\n",
       "      <td>1</td>\n",
       "      <td>0</td>\n",
       "      <td>41326</td>\n",
       "      <td>e25347680c8fbb85cb974112bd6855d5</td>\n",
       "      <td>0</td>\n",
       "      <td>Lola is my name and I am the smallest one..but don't be fool by my innocent face..I can be as fierce as a tiger, rarr! We all need a loving home. If can take me together with Bimba or Boss, it will be much better for us..I will make your life happier! Regards, Lola</td>\n",
       "      <td>5.0</td>\n",
       "      <td>2</td>\n",
       "      <td>../input/petfinder-adoption-prediction/train_images/0415fa071-1.jpg</td>\n",
       "    </tr>\n",
       "    <tr>\n",
       "      <th>2</th>\n",
       "      <td>1</td>\n",
       "      <td>Garlicc</td>\n",
       "      <td>2</td>\n",
       "      <td>307</td>\n",
       "      <td>0</td>\n",
       "      <td>1</td>\n",
       "      <td>2</td>\n",
       "      <td>7</td>\n",
       "      <td>0</td>\n",
       "      <td>2</td>\n",
       "      <td>...</td>\n",
       "      <td>1</td>\n",
       "      <td>1</td>\n",
       "      <td>0</td>\n",
       "      <td>41326</td>\n",
       "      <td>95481e953f8aed9ec3d16fc4509537e8</td>\n",
       "      <td>0</td>\n",
       "      <td>Garlic is a strong and healthy boy. He is full of energy and wants attention. Garlic was rescued off the streets when two of his siblings were crushed by a lorry. If you have a loving home and lots of love to give, call us at.</td>\n",
       "      <td>4.0</td>\n",
       "      <td>2</td>\n",
       "      <td>../input/petfinder-adoption-prediction/train_images/b2f2134bd-1.jpg</td>\n",
       "    </tr>\n",
       "    <tr>\n",
       "      <th>3</th>\n",
       "      <td>2</td>\n",
       "      <td>Vitany</td>\n",
       "      <td>2</td>\n",
       "      <td>241</td>\n",
       "      <td>264</td>\n",
       "      <td>2</td>\n",
       "      <td>5</td>\n",
       "      <td>6</td>\n",
       "      <td>7</td>\n",
       "      <td>2</td>\n",
       "      <td>...</td>\n",
       "      <td>1</td>\n",
       "      <td>1</td>\n",
       "      <td>0</td>\n",
       "      <td>41326</td>\n",
       "      <td>e62135526c27156b8479420aad166317</td>\n",
       "      <td>0</td>\n",
       "      <td>Introducing foxy little Vitany! ♥ Female kitten, 8 weeks old. Silver / gray-coated with long fur and hazel eyes. ♥ A little diva! She acts classy 24/7 (constantly grooming herself and observing her surroundings). She's soft-mannered even during her most playful moods. A very mature girl! ♥ Quite vocal and will be the first to call out to you when she sees you. :) Vitany isn't too hyper and prefers to chill / lay back more than be in any active situation. ♥ Healthy, has been de-wormed (once), is still too young to be vaccinated. Already clever with the litter-box and able to eat kibbles ind...</td>\n",
       "      <td>6.0</td>\n",
       "      <td>1</td>\n",
       "      <td>../input/petfinder-adoption-prediction/train_images/a76cbec89-1.jpg</td>\n",
       "    </tr>\n",
       "    <tr>\n",
       "      <th>4</th>\n",
       "      <td>1</td>\n",
       "      <td>Bobby</td>\n",
       "      <td>3</td>\n",
       "      <td>307</td>\n",
       "      <td>0</td>\n",
       "      <td>1</td>\n",
       "      <td>2</td>\n",
       "      <td>4</td>\n",
       "      <td>0</td>\n",
       "      <td>2</td>\n",
       "      <td>...</td>\n",
       "      <td>1</td>\n",
       "      <td>1</td>\n",
       "      <td>0</td>\n",
       "      <td>41332</td>\n",
       "      <td>c992c6f97bb6cfb719fa9ccb3ef6e53b</td>\n",
       "      <td>0</td>\n",
       "      <td>Bobby is an active and friendly kid. He is a good home pet. ( On 3.7. Bobby is booked by a person.) Will update the status once adopted. Thanks for adopting instead of buying</td>\n",
       "      <td>3.0</td>\n",
       "      <td>4</td>\n",
       "      <td>../input/petfinder-adoption-prediction/train_images/fcf5f5a0d-1.jpg</td>\n",
       "    </tr>\n",
       "  </tbody>\n",
       "</table>\n",
       "<p>5 rows × 24 columns</p>\n",
       "</div>"
      ],
      "text/plain": [
       "   Type     Name  Age  Breed1  Breed2  Gender  Color1  Color2  Color3  \\\n",
       "0     1   Dexter   41     307       0       1       2       3       0   \n",
       "1     2     Lola    5     266       0       2       1       6       0   \n",
       "2     1  Garlicc    2     307       0       1       2       7       0   \n",
       "3     2   Vitany    2     241     264       2       5       6       7   \n",
       "4     1    Bobby    3     307       0       1       2       4       0   \n",
       "\n",
       "   MaturitySize  ...  Health  Quantity  Fee  State  \\\n",
       "0             2  ...       1         1    0  41326   \n",
       "1             1  ...       1         1    0  41326   \n",
       "2             2  ...       1         1    0  41326   \n",
       "3             2  ...       1         1    0  41326   \n",
       "4             2  ...       1         1    0  41332   \n",
       "\n",
       "                          RescuerID  VideoAmt  \\\n",
       "0  28863e2bec16331b9bb916ce484e09b7         0   \n",
       "1  e25347680c8fbb85cb974112bd6855d5         0   \n",
       "2  95481e953f8aed9ec3d16fc4509537e8         0   \n",
       "3  e62135526c27156b8479420aad166317         0   \n",
       "4  c992c6f97bb6cfb719fa9ccb3ef6e53b         0   \n",
       "\n",
       "                                                                                                                                                                                                                                                                                                                                                                                                                                                                                                                                                                                                               Description  \\\n",
       "0                                                                                                                                                                                                                                                                                                                                                                                                                                                                                                                                                                    Very cheerful and loves to play and be around people.   \n",
       "1                                                                                                                                                                                                                                                                                                                                                Lola is my name and I am the smallest one..but don't be fool by my innocent face..I can be as fierce as a tiger, rarr! We all need a loving home. If can take me together with Bimba or Boss, it will be much better for us..I will make your life happier! Regards, Lola   \n",
       "2                                                                                                                                                                                                                                                                                                                                                                                       Garlic is a strong and healthy boy. He is full of energy and wants attention. Garlic was rescued off the streets when two of his siblings were crushed by a lorry. If you have a loving home and lots of love to give, call us at.   \n",
       "3  Introducing foxy little Vitany! ♥ Female kitten, 8 weeks old. Silver / gray-coated with long fur and hazel eyes. ♥ A little diva! She acts classy 24/7 (constantly grooming herself and observing her surroundings). She's soft-mannered even during her most playful moods. A very mature girl! ♥ Quite vocal and will be the first to call out to you when she sees you. :) Vitany isn't too hyper and prefers to chill / lay back more than be in any active situation. ♥ Healthy, has been de-wormed (once), is still too young to be vaccinated. Already clever with the litter-box and able to eat kibbles ind...   \n",
       "4                                                                                                                                                                                                                                                                                                                                                                                                                                           Bobby is an active and friendly kid. He is a good home pet. ( On 3.7. Bobby is booked by a person.) Will update the status once adopted. Thanks for adopting instead of buying   \n",
       "\n",
       "   PhotoAmt AdoptionSpeed  \\\n",
       "0       5.0             2   \n",
       "1       5.0             2   \n",
       "2       4.0             2   \n",
       "3       6.0             1   \n",
       "4       3.0             4   \n",
       "\n",
       "                                                                  path  \n",
       "0  ../input/petfinder-adoption-prediction/train_images/7803e9e5d-1.jpg  \n",
       "1  ../input/petfinder-adoption-prediction/train_images/0415fa071-1.jpg  \n",
       "2  ../input/petfinder-adoption-prediction/train_images/b2f2134bd-1.jpg  \n",
       "3  ../input/petfinder-adoption-prediction/train_images/a76cbec89-1.jpg  \n",
       "4  ../input/petfinder-adoption-prediction/train_images/fcf5f5a0d-1.jpg  \n",
       "\n",
       "[5 rows x 24 columns]"
      ]
     },
     "execution_count": 9,
     "metadata": {},
     "output_type": "execute_result"
    }
   ],
   "source": [
    "train_df['path'] = train_df['PetID'].map(lambda x:str(dataset_path/'train_images'/x)+'-1.jpg')\n",
    "train_df = train_df[train_df['path'].map(os.path.exists)].reset_index(drop=True)\n",
    "train_df = train_df[train_df['Breed1'].isin((train_df['Breed1'].value_counts() > 10).index)].reset_index(drop=True)\n",
    "train_df = train_df.drop(columns=['PetID'])\n",
    "train_df = train_df.sample(frac=1).reset_index(drop=True) #shuffle dataframe\n",
    "train_df.head()"
   ]
  },
  {
   "cell_type": "markdown",
   "metadata": {
    "editable": true,
    "id": "QhfVV0xwj7tO"
   },
   "source": [
    "## Data loading\n",
    "After my quick 'n dirty EDA, let's load the data into fastai as DataLoaders objects. We're using the normalized score as the label. I use some fairly basic augmentations here."
   ]
  },
  {
   "cell_type": "code",
   "execution_count": 10,
   "metadata": {
    "editable": true,
    "id": "dq47MacFj7tP"
   },
   "outputs": [],
   "source": [
    "seed=999\n",
    "set_seed(seed, reproducible=True)\n",
    "torch.manual_seed(seed)\n",
    "torch.cuda.manual_seed(seed)\n",
    "torch.backends.cudnn.deterministic = True\n",
    "torch.use_deterministic_algorithms = True"
   ]
  },
  {
   "cell_type": "code",
   "execution_count": 11,
   "metadata": {
    "editable": true,
    "id": "GZxmwEA7j7tQ"
   },
   "outputs": [
    {
     "name": "stderr",
     "output_type": "stream",
     "text": [
      "/opt/conda/lib/python3.7/site-packages/sklearn/model_selection/_split.py:672: UserWarning: The least populated class in y has only 1 members, which is less than n_splits=10.\n",
      "  % (min_groups, self.n_splits)), UserWarning)\n"
     ]
    },
    {
     "data": {
      "text/plain": [
       "<AxesSubplot:>"
      ]
     },
     "execution_count": 11,
     "metadata": {},
     "output_type": "execute_result"
    },
    {
     "data": {
      "image/png": "[encoded data removed]",
      "text/plain": [
       "<Figure size 432x288 with 1 Axes>"
      ]
     },
     "metadata": {
      "needs_background": "light"
     },
     "output_type": "display_data"
    }
   ],
   "source": [
    "from sklearn.model_selection import KFold\n",
    "from sklearn.model_selection import StratifiedKFold\n",
    "\n",
    "train_df['fold'] = -1\n",
    "\n",
    "\n",
    "N_FOLDS = 10\n",
    "strat_kfold = StratifiedKFold(n_splits=N_FOLDS, random_state=seed, shuffle=True)\n",
    "for i, (_, train_index) in enumerate(strat_kfold.split(train_df.index, train_df['Breed1'])):\n",
    "    train_df.iloc[train_index, -1] = i\n",
    "    \n",
    "train_df['fold'] = train_df['fold'].astype('int')\n",
    "\n",
    "train_df.fold.value_counts().plot.bar()"
   ]
  },
  {
   "cell_type": "code",
   "execution_count": 12,
   "metadata": {
    "editable": true,
    "id": "dZohLljUj7tR"
   },
   "outputs": [],
   "source": [
    "def get_data(fold):\n",
    "#     train_df_no_val = train_df.query(f'fold != {fold}')\n",
    "#     train_df_val = train_df.query(f'fold == {fold}')\n",
    "    \n",
    "#     train_df_bal = pd.concat([train_df_no_val,train_df_val.sample(frac=1).reset_index(drop=True)])\n",
    "    train_df_f = train_df.copy()\n",
    "    # add is_valid for validation fold\n",
    "    train_df_f['is_valid'] = (train_df_f['fold'] == fold)\n",
    "    \n",
    "    dls = ImageDataLoaders.from_df(train_df_f, #pass in train DataFrame\n",
    "#                                valid_pct=0.2, #80-20 train-validation random split\n",
    "                               valid_col='is_valid', #\n",
    "                               seed=999, #seed\n",
    "                               fn_col='path', #filename/path is in the second column of the DataFrame\n",
    "                               label_col='Breed1', #label is in the first column of the DataFrame\n",
    "                               y_block=CategoryBlock, #The type of target\n",
    "                               bs=BATCH_SIZE, #pass in batch size\n",
    "                               num_workers=8,\n",
    "                               item_tfms=Resize(224), #pass in item_tfms\n",
    "                               batch_tfms=setup_aug_tfms([Brightness(), Contrast(), Hue(), Saturation()])) #pass in batch_tfms\n",
    "    \n",
    "    return dls\n"
   ]
  },
  {
   "cell_type": "code",
   "execution_count": 13,
   "metadata": {
    "editable": true,
    "id": "KA-ss0lTj7tS"
   },
   "outputs": [],
   "source": [
    "#Valid Kfolder size\n",
    "the_data = get_data(0)\n",
    "#assert (len(the_data.train) + len(the_data.valid)) == (len(train_df)//BATCH_SIZE)"
   ]
  },
  {
   "cell_type": "code",
   "execution_count": 14,
   "metadata": {
    "editable": true,
    "id": "EuCxLGrOj7tS"
   },
   "outputs": [],
   "source": [
    "def get_learner(fold_num):\n",
    "    data = get_data(fold_num)\n",
    "    \n",
    "    model = create_model('efficientnet_b1', pretrained=True, num_classes=data.c)\n",
    "    print(data.c)\n",
    "\n",
    "    learn = Learner(data, model, loss_func=CrossEntropyLossFlat(), metrics=CrossEntropyLossFlat()).to_fp16()\n",
    "    \n",
    "    return learn"
   ]
  },
  {
   "cell_type": "code",
   "execution_count": 15,
   "metadata": {
    "editable": true,
    "id": "Tl4gYUNyj7tT"
   },
   "outputs": [
    {
     "name": "stdout",
     "output_type": "stream",
     "text": [
      "172\n"
     ]
    },
    {
     "data": {
      "text/html": [],
      "text/plain": [
       "<IPython.core.display.HTML object>"
      ]
     },
     "metadata": {},
     "output_type": "display_data"
    },
    {
     "data": {
      "text/plain": [
       "SuggestedLRs(valley=0.00024877983378246427)"
      ]
     },
     "execution_count": 15,
     "metadata": {},
     "output_type": "execute_result"
    },
    {
     "data": {
      "image/png": "[encoded data removed]",
      "text/plain": [
       "<Figure size 432x288 with 1 Axes>"
      ]
     },
     "metadata": {
      "needs_background": "light"
     },
     "output_type": "display_data"
    }
   ],
   "source": [
    "get_learner(fold_num=0).lr_find(end_lr=3e-2)"
   ]
  },
  {
   "cell_type": "code",
   "execution_count": 16,
   "metadata": {
    "editable": true,
    "id": "kCCC4Ysaj7tT"
   },
   "outputs": [],
   "source": [
    "import gc"
   ]
  },
  {
   "cell_type": "code",
   "execution_count": 17,
   "metadata": {
    "editable": true,
    "id": "zLVqNqwVj7tT",
    "tags": []
   },
   "outputs": [
    {
     "name": "stdout",
     "output_type": "stream",
     "text": [
      "= 0 results\n",
      "172\n"
     ]
    },
    {
     "data": {
      "text/html": [
       "\n",
       "    <div>\n",
       "        <style>\n",
       "            /* Turns off some styling */\n",
       "            progress {\n",
       "                /* gets rid of default border in Firefox and Opera. */\n",
       "                border: none;\n",
       "                /* Needs to be in here for Safari polyfill so background images work as expected. */\n",
       "                background-size: auto;\n",
       "            }\n",
       "            .progress-bar-interrupted, .progress-bar-interrupted::-webkit-progress-bar {\n",
       "                background: #F44336;\n",
       "            }\n",
       "        </style>\n",
       "      <progress value='0' class='' max='5' style='width:300px; height:20px; vertical-align: middle;'></progress>\n",
       "      0.00% [0/5 00:00<00:00]\n",
       "    </div>\n",
       "    \n",
       "<table border=\"1\" class=\"dataframe\">\n",
       "  <thead>\n",
       "    <tr style=\"text-align: left;\">\n",
       "      <th>epoch</th>\n",
       "      <th>train_loss</th>\n",
       "      <th>valid_loss</th>\n",
       "      <th>None</th>\n",
       "      <th>time</th>\n",
       "    </tr>\n",
       "  </thead>\n",
       "  <tbody>\n",
       "  </tbody>\n",
       "</table><p>\n",
       "\n",
       "    <div>\n",
       "        <style>\n",
       "            /* Turns off some styling */\n",
       "            progress {\n",
       "                /* gets rid of default border in Firefox and Opera. */\n",
       "                border: none;\n",
       "                /* Needs to be in here for Safari polyfill so background images work as expected. */\n",
       "                background-size: auto;\n",
       "            }\n",
       "            .progress-bar-interrupted, .progress-bar-interrupted::-webkit-progress-bar {\n",
       "                background: #F44336;\n",
       "            }\n",
       "        </style>\n",
       "      <progress value='24' class='' max='46' style='width:300px; height:20px; vertical-align: middle;'></progress>\n",
       "      52.17% [24/46 00:01<00:01 3.7551]\n",
       "    </div>\n",
       "    "
      ],
      "text/plain": [
       "<IPython.core.display.HTML object>"
      ]
     },
     "metadata": {},
     "output_type": "display_data"
    },
    {
     "ename": "KeyError",
     "evalue": "Caught KeyError in DataLoader worker process 1.\nOriginal Traceback (most recent call last):\n  File \"/opt/conda/lib/python3.7/site-packages/fastai/data/transforms.py\", line 256, in encodes\n    return TensorCategory(self.vocab.o2i[o])\nKeyError: 176\n\nThe above exception was the direct cause of the following exception:\n\nTraceback (most recent call last):\n  File \"/opt/conda/lib/python3.7/site-packages/torch/utils/data/_utils/worker.py\", line 287, in _worker_loop\n    data = fetcher.fetch(index)\n  File \"/opt/conda/lib/python3.7/site-packages/torch/utils/data/_utils/fetch.py\", line 39, in fetch\n    data = next(self.dataset_iter)\n  File \"/opt/conda/lib/python3.7/site-packages/fastai/data/load.py\", line 118, in create_batches\n    yield from map(self.do_batch, self.chunkify(res))\n  File \"/opt/conda/lib/python3.7/site-packages/fastcore/basics.py\", line 217, in chunked\n    res = list(itertools.islice(it, chunk_sz))\n  File \"/opt/conda/lib/python3.7/site-packages/fastai/data/load.py\", line 133, in do_item\n    try: return self.after_item(self.create_item(s))\n  File \"/opt/conda/lib/python3.7/site-packages/fastai/data/load.py\", line 140, in create_item\n    if self.indexed: return self.dataset[s or 0]\n  File \"/opt/conda/lib/python3.7/site-packages/fastai/data/core.py\", line 332, in __getitem__\n    res = tuple([tl[it] for tl in self.tls])\n  File \"/opt/conda/lib/python3.7/site-packages/fastai/data/core.py\", line 332, in <listcomp>\n    res = tuple([tl[it] for tl in self.tls])\n  File \"/opt/conda/lib/python3.7/site-packages/fastai/data/core.py\", line 298, in __getitem__\n    return self._after_item(res) if is_indexer(idx) else res.map(self._after_item)\n  File \"/opt/conda/lib/python3.7/site-packages/fastai/data/core.py\", line 260, in _after_item\n    def _after_item(self, o): return self.tfms(o)\n  File \"/opt/conda/lib/python3.7/site-packages/fastcore/transform.py\", line 200, in __call__\n    def __call__(self, o): return compose_tfms(o, tfms=self.fs, split_idx=self.split_idx)\n  File \"/opt/conda/lib/python3.7/site-packages/fastcore/transform.py\", line 150, in compose_tfms\n    x = f(x, **kwargs)\n  File \"/opt/conda/lib/python3.7/site-packages/fastcore/transform.py\", line 73, in __call__\n    def __call__(self, x, **kwargs): return self._call('encodes', x, **kwargs)\n  File \"/opt/conda/lib/python3.7/site-packages/fastcore/transform.py\", line 83, in _call\n    return self._do_call(getattr(self, fn), x, **kwargs)\n  File \"/opt/conda/lib/python3.7/site-packages/fastcore/transform.py\", line 89, in _do_call\n    return retain_type(f(x, **kwargs), x, ret)\n  File \"/opt/conda/lib/python3.7/site-packages/fastcore/dispatch.py\", line 118, in __call__\n    return f(*args, **kwargs)\n  File \"/opt/conda/lib/python3.7/site-packages/fastai/data/transforms.py\", line 258, in encodes\n    raise KeyError(f\"Label '{o}' was not included in the training dataset\") from e\nKeyError: \"Label '176' was not included in the training dataset\"\n",
     "output_type": "error",
     "traceback": [
      "\u001b[0;31m---------------------------------------------------------------------------\u001b[0m",
      "\u001b[0;31mKeyError\u001b[0m                                  Traceback (most recent call last)",
      "\u001b[0;32m/tmp/ipykernel_27523/1621597863.py\u001b[0m in \u001b[0;36m<module>\u001b[0;34m\u001b[0m\n\u001b[1;32m     11\u001b[0m                                                    \u001b[0mevery_epoch\u001b[0m\u001b[0;34m=\u001b[0m\u001b[0;32mFalse\u001b[0m\u001b[0;34m,\u001b[0m\u001b[0;34m\u001b[0m\u001b[0;34m\u001b[0m\u001b[0m\n\u001b[1;32m     12\u001b[0m                                                 comp=np.less),\n\u001b[0;32m---> 13\u001b[0;31m                                       EarlyStoppingCallback(monitor='valid_loss', comp=np.less, patience=2)]) \n\u001b[0m\u001b[1;32m     14\u001b[0m \u001b[0;34m\u001b[0m\u001b[0m\n\u001b[1;32m     15\u001b[0m \u001b[0;34m\u001b[0m\u001b[0m\n",
      "\u001b[0;32m/opt/conda/lib/python3.7/site-packages/fastai/callback/schedule.py\u001b[0m in \u001b[0;36mfit_one_cycle\u001b[0;34m(self, n_epoch, lr_max, div, div_final, pct_start, wd, moms, cbs, reset_opt)\u001b[0m\n\u001b[1;32m    114\u001b[0m     scheds = {'lr': combined_cos(pct_start, lr_max/div, lr_max, lr_max/div_final),\n\u001b[1;32m    115\u001b[0m               'mom': combined_cos(pct_start, *(self.moms if moms is None else moms))}\n\u001b[0;32m--> 116\u001b[0;31m     \u001b[0mself\u001b[0m\u001b[0;34m.\u001b[0m\u001b[0mfit\u001b[0m\u001b[0;34m(\u001b[0m\u001b[0mn_epoch\u001b[0m\u001b[0;34m,\u001b[0m \u001b[0mcbs\u001b[0m\u001b[0;34m=\u001b[0m\u001b[0mParamScheduler\u001b[0m\u001b[0;34m(\u001b[0m\u001b[0mscheds\u001b[0m\u001b[0;34m)\u001b[0m\u001b[0;34m+\u001b[0m\u001b[0mL\u001b[0m\u001b[0;34m(\u001b[0m\u001b[0mcbs\u001b[0m\u001b[0;34m)\u001b[0m\u001b[0;34m,\u001b[0m \u001b[0mreset_opt\u001b[0m\u001b[0;34m=\u001b[0m\u001b[0mreset_opt\u001b[0m\u001b[0;34m,\u001b[0m \u001b[0mwd\u001b[0m\u001b[0;34m=\u001b[0m\u001b[0mwd\u001b[0m\u001b[0;34m)\u001b[0m\u001b[0;34m\u001b[0m\u001b[0;34m\u001b[0m\u001b[0m\n\u001b[0m\u001b[1;32m    117\u001b[0m \u001b[0;34m\u001b[0m\u001b[0m\n\u001b[1;32m    118\u001b[0m \u001b[0;31m# Cell\u001b[0m\u001b[0;34m\u001b[0m\u001b[0;34m\u001b[0m\u001b[0;34m\u001b[0m\u001b[0m\n",
      "\u001b[0;32m/opt/conda/lib/python3.7/site-packages/fastai/learner.py\u001b[0m in \u001b[0;36mfit\u001b[0;34m(self, n_epoch, lr, wd, cbs, reset_opt)\u001b[0m\n\u001b[1;32m    219\u001b[0m             \u001b[0mself\u001b[0m\u001b[0;34m.\u001b[0m\u001b[0mopt\u001b[0m\u001b[0;34m.\u001b[0m\u001b[0mset_hypers\u001b[0m\u001b[0;34m(\u001b[0m\u001b[0mlr\u001b[0m\u001b[0;34m=\u001b[0m\u001b[0mself\u001b[0m\u001b[0;34m.\u001b[0m\u001b[0mlr\u001b[0m \u001b[0;32mif\u001b[0m \u001b[0mlr\u001b[0m \u001b[0;32mis\u001b[0m \u001b[0;32mNone\u001b[0m \u001b[0;32melse\u001b[0m \u001b[0mlr\u001b[0m\u001b[0;34m)\u001b[0m\u001b[0;34m\u001b[0m\u001b[0;34m\u001b[0m\u001b[0m\n\u001b[1;32m    220\u001b[0m             \u001b[0mself\u001b[0m\u001b[0;34m.\u001b[0m\u001b[0mn_epoch\u001b[0m \u001b[0;34m=\u001b[0m \u001b[0mn_epoch\u001b[0m\u001b[0;34m\u001b[0m\u001b[0;34m\u001b[0m\u001b[0m\n\u001b[0;32m--> 221\u001b[0;31m             \u001b[0mself\u001b[0m\u001b[0;34m.\u001b[0m\u001b[0m_with_events\u001b[0m\u001b[0;34m(\u001b[0m\u001b[0mself\u001b[0m\u001b[0;34m.\u001b[0m\u001b[0m_do_fit\u001b[0m\u001b[0;34m,\u001b[0m \u001b[0;34m'fit'\u001b[0m\u001b[0;34m,\u001b[0m \u001b[0mCancelFitException\u001b[0m\u001b[0;34m,\u001b[0m \u001b[0mself\u001b[0m\u001b[0;34m.\u001b[0m\u001b[0m_end_cleanup\u001b[0m\u001b[0;34m)\u001b[0m\u001b[0;34m\u001b[0m\u001b[0;34m\u001b[0m\u001b[0m\n\u001b[0m\u001b[1;32m    222\u001b[0m \u001b[0;34m\u001b[0m\u001b[0m\n\u001b[1;32m    223\u001b[0m     \u001b[0;32mdef\u001b[0m \u001b[0m_end_cleanup\u001b[0m\u001b[0;34m(\u001b[0m\u001b[0mself\u001b[0m\u001b[0;34m)\u001b[0m\u001b[0;34m:\u001b[0m \u001b[0mself\u001b[0m\u001b[0;34m.\u001b[0m\u001b[0mdl\u001b[0m\u001b[0;34m,\u001b[0m\u001b[0mself\u001b[0m\u001b[0;34m.\u001b[0m\u001b[0mxb\u001b[0m\u001b[0;34m,\u001b[0m\u001b[0mself\u001b[0m\u001b[0;34m.\u001b[0m\u001b[0myb\u001b[0m\u001b[0;34m,\u001b[0m\u001b[0mself\u001b[0m\u001b[0;34m.\u001b[0m\u001b[0mpred\u001b[0m\u001b[0;34m,\u001b[0m\u001b[0mself\u001b[0m\u001b[0;34m.\u001b[0m\u001b[0mloss\u001b[0m \u001b[0;34m=\u001b[0m \u001b[0;32mNone\u001b[0m\u001b[0;34m,\u001b[0m\u001b[0;34m(\u001b[0m\u001b[0;32mNone\u001b[0m\u001b[0;34m,\u001b[0m\u001b[0;34m)\u001b[0m\u001b[0;34m,\u001b[0m\u001b[0;34m(\u001b[0m\u001b[0;32mNone\u001b[0m\u001b[0;34m,\u001b[0m\u001b[0;34m)\u001b[0m\u001b[0;34m,\u001b[0m\u001b[0;32mNone\u001b[0m\u001b[0;34m,\u001b[0m\u001b[0;32mNone\u001b[0m\u001b[0;34m\u001b[0m\u001b[0;34m\u001b[0m\u001b[0m\n",
      "\u001b[0;32m/opt/conda/lib/python3.7/site-packages/fastai/learner.py\u001b[0m in \u001b[0;36m_with_events\u001b[0;34m(self, f, event_type, ex, final)\u001b[0m\n\u001b[1;32m    161\u001b[0m \u001b[0;34m\u001b[0m\u001b[0m\n\u001b[1;32m    162\u001b[0m     \u001b[0;32mdef\u001b[0m \u001b[0m_with_events\u001b[0m\u001b[0;34m(\u001b[0m\u001b[0mself\u001b[0m\u001b[0;34m,\u001b[0m \u001b[0mf\u001b[0m\u001b[0;34m,\u001b[0m \u001b[0mevent_type\u001b[0m\u001b[0;34m,\u001b[0m \u001b[0mex\u001b[0m\u001b[0;34m,\u001b[0m \u001b[0mfinal\u001b[0m\u001b[0;34m=\u001b[0m\u001b[0mnoop\u001b[0m\u001b[0;34m)\u001b[0m\u001b[0;34m:\u001b[0m\u001b[0;34m\u001b[0m\u001b[0;34m\u001b[0m\u001b[0m\n\u001b[0;32m--> 163\u001b[0;31m         \u001b[0;32mtry\u001b[0m\u001b[0;34m:\u001b[0m \u001b[0mself\u001b[0m\u001b[0;34m(\u001b[0m\u001b[0;34mf'before_{event_type}'\u001b[0m\u001b[0;34m)\u001b[0m\u001b[0;34m;\u001b[0m  \u001b[0mf\u001b[0m\u001b[0;34m(\u001b[0m\u001b[0;34m)\u001b[0m\u001b[0;34m\u001b[0m\u001b[0;34m\u001b[0m\u001b[0m\n\u001b[0m\u001b[1;32m    164\u001b[0m         \u001b[0;32mexcept\u001b[0m \u001b[0mex\u001b[0m\u001b[0;34m:\u001b[0m \u001b[0mself\u001b[0m\u001b[0;34m(\u001b[0m\u001b[0;34mf'after_cancel_{event_type}'\u001b[0m\u001b[0;34m)\u001b[0m\u001b[0;34m\u001b[0m\u001b[0;34m\u001b[0m\u001b[0m\n\u001b[1;32m    165\u001b[0m         \u001b[0mself\u001b[0m\u001b[0;34m(\u001b[0m\u001b[0;34mf'after_{event_type}'\u001b[0m\u001b[0;34m)\u001b[0m\u001b[0;34m;\u001b[0m  \u001b[0mfinal\u001b[0m\u001b[0;34m(\u001b[0m\u001b[0;34m)\u001b[0m\u001b[0;34m\u001b[0m\u001b[0;34m\u001b[0m\u001b[0m\n",
      "\u001b[0;32m/opt/conda/lib/python3.7/site-packages/fastai/learner.py\u001b[0m in \u001b[0;36m_do_fit\u001b[0;34m(self)\u001b[0m\n\u001b[1;32m    210\u001b[0m         \u001b[0;32mfor\u001b[0m \u001b[0mepoch\u001b[0m \u001b[0;32min\u001b[0m \u001b[0mrange\u001b[0m\u001b[0;34m(\u001b[0m\u001b[0mself\u001b[0m\u001b[0;34m.\u001b[0m\u001b[0mn_epoch\u001b[0m\u001b[0;34m)\u001b[0m\u001b[0;34m:\u001b[0m\u001b[0;34m\u001b[0m\u001b[0;34m\u001b[0m\u001b[0m\n\u001b[1;32m    211\u001b[0m             \u001b[0mself\u001b[0m\u001b[0;34m.\u001b[0m\u001b[0mepoch\u001b[0m\u001b[0;34m=\u001b[0m\u001b[0mepoch\u001b[0m\u001b[0;34m\u001b[0m\u001b[0;34m\u001b[0m\u001b[0m\n\u001b[0;32m--> 212\u001b[0;31m             \u001b[0mself\u001b[0m\u001b[0;34m.\u001b[0m\u001b[0m_with_events\u001b[0m\u001b[0;34m(\u001b[0m\u001b[0mself\u001b[0m\u001b[0;34m.\u001b[0m\u001b[0m_do_epoch\u001b[0m\u001b[0;34m,\u001b[0m \u001b[0;34m'epoch'\u001b[0m\u001b[0;34m,\u001b[0m \u001b[0mCancelEpochException\u001b[0m\u001b[0;34m)\u001b[0m\u001b[0;34m\u001b[0m\u001b[0;34m\u001b[0m\u001b[0m\n\u001b[0m\u001b[1;32m    213\u001b[0m \u001b[0;34m\u001b[0m\u001b[0m\n\u001b[1;32m    214\u001b[0m     \u001b[0;32mdef\u001b[0m \u001b[0mfit\u001b[0m\u001b[0;34m(\u001b[0m\u001b[0mself\u001b[0m\u001b[0;34m,\u001b[0m \u001b[0mn_epoch\u001b[0m\u001b[0;34m,\u001b[0m \u001b[0mlr\u001b[0m\u001b[0;34m=\u001b[0m\u001b[0;32mNone\u001b[0m\u001b[0;34m,\u001b[0m \u001b[0mwd\u001b[0m\u001b[0;34m=\u001b[0m\u001b[0;32mNone\u001b[0m\u001b[0;34m,\u001b[0m \u001b[0mcbs\u001b[0m\u001b[0;34m=\u001b[0m\u001b[0;32mNone\u001b[0m\u001b[0;34m,\u001b[0m \u001b[0mreset_opt\u001b[0m\u001b[0;34m=\u001b[0m\u001b[0;32mFalse\u001b[0m\u001b[0;34m)\u001b[0m\u001b[0;34m:\u001b[0m\u001b[0;34m\u001b[0m\u001b[0;34m\u001b[0m\u001b[0m\n",
      "\u001b[0;32m/opt/conda/lib/python3.7/site-packages/fastai/learner.py\u001b[0m in \u001b[0;36m_with_events\u001b[0;34m(self, f, event_type, ex, final)\u001b[0m\n\u001b[1;32m    161\u001b[0m \u001b[0;34m\u001b[0m\u001b[0m\n\u001b[1;32m    162\u001b[0m     \u001b[0;32mdef\u001b[0m \u001b[0m_with_events\u001b[0m\u001b[0;34m(\u001b[0m\u001b[0mself\u001b[0m\u001b[0;34m,\u001b[0m \u001b[0mf\u001b[0m\u001b[0;34m,\u001b[0m \u001b[0mevent_type\u001b[0m\u001b[0;34m,\u001b[0m \u001b[0mex\u001b[0m\u001b[0;34m,\u001b[0m \u001b[0mfinal\u001b[0m\u001b[0;34m=\u001b[0m\u001b[0mnoop\u001b[0m\u001b[0;34m)\u001b[0m\u001b[0;34m:\u001b[0m\u001b[0;34m\u001b[0m\u001b[0;34m\u001b[0m\u001b[0m\n\u001b[0;32m--> 163\u001b[0;31m         \u001b[0;32mtry\u001b[0m\u001b[0;34m:\u001b[0m \u001b[0mself\u001b[0m\u001b[0;34m(\u001b[0m\u001b[0;34mf'before_{event_type}'\u001b[0m\u001b[0;34m)\u001b[0m\u001b[0;34m;\u001b[0m  \u001b[0mf\u001b[0m\u001b[0;34m(\u001b[0m\u001b[0;34m)\u001b[0m\u001b[0;34m\u001b[0m\u001b[0;34m\u001b[0m\u001b[0m\n\u001b[0m\u001b[1;32m    164\u001b[0m         \u001b[0;32mexcept\u001b[0m \u001b[0mex\u001b[0m\u001b[0;34m:\u001b[0m \u001b[0mself\u001b[0m\u001b[0;34m(\u001b[0m\u001b[0;34mf'after_cancel_{event_type}'\u001b[0m\u001b[0;34m)\u001b[0m\u001b[0;34m\u001b[0m\u001b[0;34m\u001b[0m\u001b[0m\n\u001b[1;32m    165\u001b[0m         \u001b[0mself\u001b[0m\u001b[0;34m(\u001b[0m\u001b[0;34mf'after_{event_type}'\u001b[0m\u001b[0;34m)\u001b[0m\u001b[0;34m;\u001b[0m  \u001b[0mfinal\u001b[0m\u001b[0;34m(\u001b[0m\u001b[0;34m)\u001b[0m\u001b[0;34m\u001b[0m\u001b[0;34m\u001b[0m\u001b[0m\n",
      "\u001b[0;32m/opt/conda/lib/python3.7/site-packages/fastai/learner.py\u001b[0m in \u001b[0;36m_do_epoch\u001b[0;34m(self)\u001b[0m\n\u001b[1;32m    205\u001b[0m     \u001b[0;32mdef\u001b[0m \u001b[0m_do_epoch\u001b[0m\u001b[0;34m(\u001b[0m\u001b[0mself\u001b[0m\u001b[0;34m)\u001b[0m\u001b[0;34m:\u001b[0m\u001b[0;34m\u001b[0m\u001b[0;34m\u001b[0m\u001b[0m\n\u001b[1;32m    206\u001b[0m         \u001b[0mself\u001b[0m\u001b[0;34m.\u001b[0m\u001b[0m_do_epoch_train\u001b[0m\u001b[0;34m(\u001b[0m\u001b[0;34m)\u001b[0m\u001b[0;34m\u001b[0m\u001b[0;34m\u001b[0m\u001b[0m\n\u001b[0;32m--> 207\u001b[0;31m         \u001b[0mself\u001b[0m\u001b[0;34m.\u001b[0m\u001b[0m_do_epoch_validate\u001b[0m\u001b[0;34m(\u001b[0m\u001b[0;34m)\u001b[0m\u001b[0;34m\u001b[0m\u001b[0;34m\u001b[0m\u001b[0m\n\u001b[0m\u001b[1;32m    208\u001b[0m \u001b[0;34m\u001b[0m\u001b[0m\n\u001b[1;32m    209\u001b[0m     \u001b[0;32mdef\u001b[0m \u001b[0m_do_fit\u001b[0m\u001b[0;34m(\u001b[0m\u001b[0mself\u001b[0m\u001b[0;34m)\u001b[0m\u001b[0;34m:\u001b[0m\u001b[0;34m\u001b[0m\u001b[0;34m\u001b[0m\u001b[0m\n",
      "\u001b[0;32m/opt/conda/lib/python3.7/site-packages/fastai/learner.py\u001b[0m in \u001b[0;36m_do_epoch_validate\u001b[0;34m(self, ds_idx, dl)\u001b[0m\n\u001b[1;32m    201\u001b[0m         \u001b[0;32mif\u001b[0m \u001b[0mdl\u001b[0m \u001b[0;32mis\u001b[0m \u001b[0;32mNone\u001b[0m\u001b[0;34m:\u001b[0m \u001b[0mdl\u001b[0m \u001b[0;34m=\u001b[0m \u001b[0mself\u001b[0m\u001b[0;34m.\u001b[0m\u001b[0mdls\u001b[0m\u001b[0;34m[\u001b[0m\u001b[0mds_idx\u001b[0m\u001b[0;34m]\u001b[0m\u001b[0;34m\u001b[0m\u001b[0;34m\u001b[0m\u001b[0m\n\u001b[1;32m    202\u001b[0m         \u001b[0mself\u001b[0m\u001b[0;34m.\u001b[0m\u001b[0mdl\u001b[0m \u001b[0;34m=\u001b[0m \u001b[0mdl\u001b[0m\u001b[0;34m\u001b[0m\u001b[0;34m\u001b[0m\u001b[0m\n\u001b[0;32m--> 203\u001b[0;31m         \u001b[0;32mwith\u001b[0m \u001b[0mtorch\u001b[0m\u001b[0;34m.\u001b[0m\u001b[0mno_grad\u001b[0m\u001b[0;34m(\u001b[0m\u001b[0;34m)\u001b[0m\u001b[0;34m:\u001b[0m \u001b[0mself\u001b[0m\u001b[0;34m.\u001b[0m\u001b[0m_with_events\u001b[0m\u001b[0;34m(\u001b[0m\u001b[0mself\u001b[0m\u001b[0;34m.\u001b[0m\u001b[0mall_batches\u001b[0m\u001b[0;34m,\u001b[0m \u001b[0;34m'validate'\u001b[0m\u001b[0;34m,\u001b[0m \u001b[0mCancelValidException\u001b[0m\u001b[0;34m)\u001b[0m\u001b[0;34m\u001b[0m\u001b[0;34m\u001b[0m\u001b[0m\n\u001b[0m\u001b[1;32m    204\u001b[0m \u001b[0;34m\u001b[0m\u001b[0m\n\u001b[1;32m    205\u001b[0m     \u001b[0;32mdef\u001b[0m \u001b[0m_do_epoch\u001b[0m\u001b[0;34m(\u001b[0m\u001b[0mself\u001b[0m\u001b[0;34m)\u001b[0m\u001b[0;34m:\u001b[0m\u001b[0;34m\u001b[0m\u001b[0;34m\u001b[0m\u001b[0m\n",
      "\u001b[0;32m/opt/conda/lib/python3.7/site-packages/fastai/learner.py\u001b[0m in \u001b[0;36m_with_events\u001b[0;34m(self, f, event_type, ex, final)\u001b[0m\n\u001b[1;32m    161\u001b[0m \u001b[0;34m\u001b[0m\u001b[0m\n\u001b[1;32m    162\u001b[0m     \u001b[0;32mdef\u001b[0m \u001b[0m_with_events\u001b[0m\u001b[0;34m(\u001b[0m\u001b[0mself\u001b[0m\u001b[0;34m,\u001b[0m \u001b[0mf\u001b[0m\u001b[0;34m,\u001b[0m \u001b[0mevent_type\u001b[0m\u001b[0;34m,\u001b[0m \u001b[0mex\u001b[0m\u001b[0;34m,\u001b[0m \u001b[0mfinal\u001b[0m\u001b[0;34m=\u001b[0m\u001b[0mnoop\u001b[0m\u001b[0;34m)\u001b[0m\u001b[0;34m:\u001b[0m\u001b[0;34m\u001b[0m\u001b[0;34m\u001b[0m\u001b[0m\n\u001b[0;32m--> 163\u001b[0;31m         \u001b[0;32mtry\u001b[0m\u001b[0;34m:\u001b[0m \u001b[0mself\u001b[0m\u001b[0;34m(\u001b[0m\u001b[0;34mf'before_{event_type}'\u001b[0m\u001b[0;34m)\u001b[0m\u001b[0;34m;\u001b[0m  \u001b[0mf\u001b[0m\u001b[0;34m(\u001b[0m\u001b[0;34m)\u001b[0m\u001b[0;34m\u001b[0m\u001b[0;34m\u001b[0m\u001b[0m\n\u001b[0m\u001b[1;32m    164\u001b[0m         \u001b[0;32mexcept\u001b[0m \u001b[0mex\u001b[0m\u001b[0;34m:\u001b[0m \u001b[0mself\u001b[0m\u001b[0;34m(\u001b[0m\u001b[0;34mf'after_cancel_{event_type}'\u001b[0m\u001b[0;34m)\u001b[0m\u001b[0;34m\u001b[0m\u001b[0;34m\u001b[0m\u001b[0m\n\u001b[1;32m    165\u001b[0m         \u001b[0mself\u001b[0m\u001b[0;34m(\u001b[0m\u001b[0;34mf'after_{event_type}'\u001b[0m\u001b[0;34m)\u001b[0m\u001b[0;34m;\u001b[0m  \u001b[0mfinal\u001b[0m\u001b[0;34m(\u001b[0m\u001b[0;34m)\u001b[0m\u001b[0;34m\u001b[0m\u001b[0;34m\u001b[0m\u001b[0m\n",
      "\u001b[0;32m/opt/conda/lib/python3.7/site-packages/fastai/learner.py\u001b[0m in \u001b[0;36mall_batches\u001b[0;34m(self)\u001b[0m\n\u001b[1;32m    167\u001b[0m     \u001b[0;32mdef\u001b[0m \u001b[0mall_batches\u001b[0m\u001b[0;34m(\u001b[0m\u001b[0mself\u001b[0m\u001b[0;34m)\u001b[0m\u001b[0;34m:\u001b[0m\u001b[0;34m\u001b[0m\u001b[0;34m\u001b[0m\u001b[0m\n\u001b[1;32m    168\u001b[0m         \u001b[0mself\u001b[0m\u001b[0;34m.\u001b[0m\u001b[0mn_iter\u001b[0m \u001b[0;34m=\u001b[0m \u001b[0mlen\u001b[0m\u001b[0;34m(\u001b[0m\u001b[0mself\u001b[0m\u001b[0;34m.\u001b[0m\u001b[0mdl\u001b[0m\u001b[0;34m)\u001b[0m\u001b[0;34m\u001b[0m\u001b[0;34m\u001b[0m\u001b[0m\n\u001b[0;32m--> 169\u001b[0;31m         \u001b[0;32mfor\u001b[0m \u001b[0mo\u001b[0m \u001b[0;32min\u001b[0m \u001b[0menumerate\u001b[0m\u001b[0;34m(\u001b[0m\u001b[0mself\u001b[0m\u001b[0;34m.\u001b[0m\u001b[0mdl\u001b[0m\u001b[0;34m)\u001b[0m\u001b[0;34m:\u001b[0m \u001b[0mself\u001b[0m\u001b[0;34m.\u001b[0m\u001b[0mone_batch\u001b[0m\u001b[0;34m(\u001b[0m\u001b[0;34m*\u001b[0m\u001b[0mo\u001b[0m\u001b[0;34m)\u001b[0m\u001b[0;34m\u001b[0m\u001b[0;34m\u001b[0m\u001b[0m\n\u001b[0m\u001b[1;32m    170\u001b[0m \u001b[0;34m\u001b[0m\u001b[0m\n\u001b[1;32m    171\u001b[0m     \u001b[0;32mdef\u001b[0m \u001b[0m_do_one_batch\u001b[0m\u001b[0;34m(\u001b[0m\u001b[0mself\u001b[0m\u001b[0;34m)\u001b[0m\u001b[0;34m:\u001b[0m\u001b[0;34m\u001b[0m\u001b[0;34m\u001b[0m\u001b[0m\n",
      "\u001b[0;32m/opt/conda/lib/python3.7/site-packages/fastai/data/load.py\u001b[0m in \u001b[0;36m__iter__\u001b[0;34m(self)\u001b[0m\n\u001b[1;32m    107\u001b[0m         \u001b[0mself\u001b[0m\u001b[0;34m.\u001b[0m\u001b[0mbefore_iter\u001b[0m\u001b[0;34m(\u001b[0m\u001b[0;34m)\u001b[0m\u001b[0;34m\u001b[0m\u001b[0;34m\u001b[0m\u001b[0m\n\u001b[1;32m    108\u001b[0m         \u001b[0mself\u001b[0m\u001b[0;34m.\u001b[0m\u001b[0m__idxs\u001b[0m\u001b[0;34m=\u001b[0m\u001b[0mself\u001b[0m\u001b[0;34m.\u001b[0m\u001b[0mget_idxs\u001b[0m\u001b[0;34m(\u001b[0m\u001b[0;34m)\u001b[0m \u001b[0;31m# called in context of main process (not workers/subprocesses)\u001b[0m\u001b[0;34m\u001b[0m\u001b[0;34m\u001b[0m\u001b[0m\n\u001b[0;32m--> 109\u001b[0;31m         \u001b[0;32mfor\u001b[0m \u001b[0mb\u001b[0m \u001b[0;32min\u001b[0m \u001b[0m_loaders\u001b[0m\u001b[0;34m[\u001b[0m\u001b[0mself\u001b[0m\u001b[0;34m.\u001b[0m\u001b[0mfake_l\u001b[0m\u001b[0;34m.\u001b[0m\u001b[0mnum_workers\u001b[0m\u001b[0;34m==\u001b[0m\u001b[0;36m0\u001b[0m\u001b[0;34m]\u001b[0m\u001b[0;34m(\u001b[0m\u001b[0mself\u001b[0m\u001b[0;34m.\u001b[0m\u001b[0mfake_l\u001b[0m\u001b[0;34m)\u001b[0m\u001b[0;34m:\u001b[0m\u001b[0;34m\u001b[0m\u001b[0;34m\u001b[0m\u001b[0m\n\u001b[0m\u001b[1;32m    110\u001b[0m             \u001b[0;32mif\u001b[0m \u001b[0mself\u001b[0m\u001b[0;34m.\u001b[0m\u001b[0mdevice\u001b[0m \u001b[0;32mis\u001b[0m \u001b[0;32mnot\u001b[0m \u001b[0;32mNone\u001b[0m\u001b[0;34m:\u001b[0m \u001b[0mb\u001b[0m \u001b[0;34m=\u001b[0m \u001b[0mto_device\u001b[0m\u001b[0;34m(\u001b[0m\u001b[0mb\u001b[0m\u001b[0;34m,\u001b[0m \u001b[0mself\u001b[0m\u001b[0;34m.\u001b[0m\u001b[0mdevice\u001b[0m\u001b[0;34m)\u001b[0m\u001b[0;34m\u001b[0m\u001b[0;34m\u001b[0m\u001b[0m\n\u001b[1;32m    111\u001b[0m             \u001b[0;32myield\u001b[0m \u001b[0mself\u001b[0m\u001b[0;34m.\u001b[0m\u001b[0mafter_batch\u001b[0m\u001b[0;34m(\u001b[0m\u001b[0mb\u001b[0m\u001b[0;34m)\u001b[0m\u001b[0;34m\u001b[0m\u001b[0;34m\u001b[0m\u001b[0m\n",
      "\u001b[0;32m/opt/conda/lib/python3.7/site-packages/torch/utils/data/dataloader.py\u001b[0m in \u001b[0;36m__next__\u001b[0;34m(self)\u001b[0m\n\u001b[1;32m    519\u001b[0m             \u001b[0;32mif\u001b[0m \u001b[0mself\u001b[0m\u001b[0;34m.\u001b[0m\u001b[0m_sampler_iter\u001b[0m \u001b[0;32mis\u001b[0m \u001b[0;32mNone\u001b[0m\u001b[0;34m:\u001b[0m\u001b[0;34m\u001b[0m\u001b[0;34m\u001b[0m\u001b[0m\n\u001b[1;32m    520\u001b[0m                 \u001b[0mself\u001b[0m\u001b[0;34m.\u001b[0m\u001b[0m_reset\u001b[0m\u001b[0;34m(\u001b[0m\u001b[0;34m)\u001b[0m\u001b[0;34m\u001b[0m\u001b[0;34m\u001b[0m\u001b[0m\n\u001b[0;32m--> 521\u001b[0;31m             \u001b[0mdata\u001b[0m \u001b[0;34m=\u001b[0m \u001b[0mself\u001b[0m\u001b[0;34m.\u001b[0m\u001b[0m_next_data\u001b[0m\u001b[0;34m(\u001b[0m\u001b[0;34m)\u001b[0m\u001b[0;34m\u001b[0m\u001b[0;34m\u001b[0m\u001b[0m\n\u001b[0m\u001b[1;32m    522\u001b[0m             \u001b[0mself\u001b[0m\u001b[0;34m.\u001b[0m\u001b[0m_num_yielded\u001b[0m \u001b[0;34m+=\u001b[0m \u001b[0;36m1\u001b[0m\u001b[0;34m\u001b[0m\u001b[0;34m\u001b[0m\u001b[0m\n\u001b[1;32m    523\u001b[0m             \u001b[0;32mif\u001b[0m \u001b[0mself\u001b[0m\u001b[0;34m.\u001b[0m\u001b[0m_dataset_kind\u001b[0m \u001b[0;34m==\u001b[0m \u001b[0m_DatasetKind\u001b[0m\u001b[0;34m.\u001b[0m\u001b[0mIterable\u001b[0m \u001b[0;32mand\u001b[0m\u001b[0;31m \u001b[0m\u001b[0;31m\\\u001b[0m\u001b[0;34m\u001b[0m\u001b[0;34m\u001b[0m\u001b[0m\n",
      "\u001b[0;32m/opt/conda/lib/python3.7/site-packages/torch/utils/data/dataloader.py\u001b[0m in \u001b[0;36m_next_data\u001b[0;34m(self)\u001b[0m\n\u001b[1;32m   1181\u001b[0m             \u001b[0;32mif\u001b[0m \u001b[0mlen\u001b[0m\u001b[0;34m(\u001b[0m\u001b[0mself\u001b[0m\u001b[0;34m.\u001b[0m\u001b[0m_task_info\u001b[0m\u001b[0;34m[\u001b[0m\u001b[0mself\u001b[0m\u001b[0;34m.\u001b[0m\u001b[0m_rcvd_idx\u001b[0m\u001b[0;34m]\u001b[0m\u001b[0;34m)\u001b[0m \u001b[0;34m==\u001b[0m \u001b[0;36m2\u001b[0m\u001b[0;34m:\u001b[0m\u001b[0;34m\u001b[0m\u001b[0;34m\u001b[0m\u001b[0m\n\u001b[1;32m   1182\u001b[0m                 \u001b[0mdata\u001b[0m \u001b[0;34m=\u001b[0m \u001b[0mself\u001b[0m\u001b[0;34m.\u001b[0m\u001b[0m_task_info\u001b[0m\u001b[0;34m.\u001b[0m\u001b[0mpop\u001b[0m\u001b[0;34m(\u001b[0m\u001b[0mself\u001b[0m\u001b[0;34m.\u001b[0m\u001b[0m_rcvd_idx\u001b[0m\u001b[0;34m)\u001b[0m\u001b[0;34m[\u001b[0m\u001b[0;36m1\u001b[0m\u001b[0;34m]\u001b[0m\u001b[0;34m\u001b[0m\u001b[0;34m\u001b[0m\u001b[0m\n\u001b[0;32m-> 1183\u001b[0;31m                 \u001b[0;32mreturn\u001b[0m \u001b[0mself\u001b[0m\u001b[0;34m.\u001b[0m\u001b[0m_process_data\u001b[0m\u001b[0;34m(\u001b[0m\u001b[0mdata\u001b[0m\u001b[0;34m)\u001b[0m\u001b[0;34m\u001b[0m\u001b[0;34m\u001b[0m\u001b[0m\n\u001b[0m\u001b[1;32m   1184\u001b[0m \u001b[0;34m\u001b[0m\u001b[0m\n\u001b[1;32m   1185\u001b[0m             \u001b[0;32massert\u001b[0m \u001b[0;32mnot\u001b[0m \u001b[0mself\u001b[0m\u001b[0;34m.\u001b[0m\u001b[0m_shutdown\u001b[0m \u001b[0;32mand\u001b[0m \u001b[0mself\u001b[0m\u001b[0;34m.\u001b[0m\u001b[0m_tasks_outstanding\u001b[0m \u001b[0;34m>\u001b[0m \u001b[0;36m0\u001b[0m\u001b[0;34m\u001b[0m\u001b[0;34m\u001b[0m\u001b[0m\n",
      "\u001b[0;32m/opt/conda/lib/python3.7/site-packages/torch/utils/data/dataloader.py\u001b[0m in \u001b[0;36m_process_data\u001b[0;34m(self, data)\u001b[0m\n\u001b[1;32m   1227\u001b[0m         \u001b[0mself\u001b[0m\u001b[0;34m.\u001b[0m\u001b[0m_try_put_index\u001b[0m\u001b[0;34m(\u001b[0m\u001b[0;34m)\u001b[0m\u001b[0;34m\u001b[0m\u001b[0;34m\u001b[0m\u001b[0m\n\u001b[1;32m   1228\u001b[0m         \u001b[0;32mif\u001b[0m \u001b[0misinstance\u001b[0m\u001b[0;34m(\u001b[0m\u001b[0mdata\u001b[0m\u001b[0;34m,\u001b[0m \u001b[0mExceptionWrapper\u001b[0m\u001b[0;34m)\u001b[0m\u001b[0;34m:\u001b[0m\u001b[0;34m\u001b[0m\u001b[0;34m\u001b[0m\u001b[0m\n\u001b[0;32m-> 1229\u001b[0;31m             \u001b[0mdata\u001b[0m\u001b[0;34m.\u001b[0m\u001b[0mreraise\u001b[0m\u001b[0;34m(\u001b[0m\u001b[0;34m)\u001b[0m\u001b[0;34m\u001b[0m\u001b[0;34m\u001b[0m\u001b[0m\n\u001b[0m\u001b[1;32m   1230\u001b[0m         \u001b[0;32mreturn\u001b[0m \u001b[0mdata\u001b[0m\u001b[0;34m\u001b[0m\u001b[0;34m\u001b[0m\u001b[0m\n\u001b[1;32m   1231\u001b[0m \u001b[0;34m\u001b[0m\u001b[0m\n",
      "\u001b[0;32m/opt/conda/lib/python3.7/site-packages/torch/_utils.py\u001b[0m in \u001b[0;36mreraise\u001b[0;34m(self)\u001b[0m\n\u001b[1;32m    432\u001b[0m             \u001b[0;31m# instantiate since we don't know how to\u001b[0m\u001b[0;34m\u001b[0m\u001b[0;34m\u001b[0m\u001b[0;34m\u001b[0m\u001b[0m\n\u001b[1;32m    433\u001b[0m             \u001b[0;32mraise\u001b[0m \u001b[0mRuntimeError\u001b[0m\u001b[0;34m(\u001b[0m\u001b[0mmsg\u001b[0m\u001b[0;34m)\u001b[0m \u001b[0;32mfrom\u001b[0m \u001b[0;32mNone\u001b[0m\u001b[0;34m\u001b[0m\u001b[0;34m\u001b[0m\u001b[0m\n\u001b[0;32m--> 434\u001b[0;31m         \u001b[0;32mraise\u001b[0m \u001b[0mexception\u001b[0m\u001b[0;34m\u001b[0m\u001b[0;34m\u001b[0m\u001b[0m\n\u001b[0m\u001b[1;32m    435\u001b[0m \u001b[0;34m\u001b[0m\u001b[0m\n\u001b[1;32m    436\u001b[0m \u001b[0;34m\u001b[0m\u001b[0m\n",
      "\u001b[0;31mKeyError\u001b[0m: Caught KeyError in DataLoader worker process 1.\nOriginal Traceback (most recent call last):\n  File \"/opt/conda/lib/python3.7/site-packages/fastai/data/transforms.py\", line 256, in encodes\n    return TensorCategory(self.vocab.o2i[o])\nKeyError: 176\n\nThe above exception was the direct cause of the following exception:\n\nTraceback (most recent call last):\n  File \"/opt/conda/lib/python3.7/site-packages/torch/utils/data/_utils/worker.py\", line 287, in _worker_loop\n    data = fetcher.fetch(index)\n  File \"/opt/conda/lib/python3.7/site-packages/torch/utils/data/_utils/fetch.py\", line 39, in fetch\n    data = next(self.dataset_iter)\n  File \"/opt/conda/lib/python3.7/site-packages/fastai/data/load.py\", line 118, in create_batches\n    yield from map(self.do_batch, self.chunkify(res))\n  File \"/opt/conda/lib/python3.7/site-packages/fastcore/basics.py\", line 217, in chunked\n    res = list(itertools.islice(it, chunk_sz))\n  File \"/opt/conda/lib/python3.7/site-packages/fastai/data/load.py\", line 133, in do_item\n    try: return self.after_item(self.create_item(s))\n  File \"/opt/conda/lib/python3.7/site-packages/fastai/data/load.py\", line 140, in create_item\n    if self.indexed: return self.dataset[s or 0]\n  File \"/opt/conda/lib/python3.7/site-packages/fastai/data/core.py\", line 332, in __getitem__\n    res = tuple([tl[it] for tl in self.tls])\n  File \"/opt/conda/lib/python3.7/site-packages/fastai/data/core.py\", line 332, in <listcomp>\n    res = tuple([tl[it] for tl in self.tls])\n  File \"/opt/conda/lib/python3.7/site-packages/fastai/data/core.py\", line 298, in __getitem__\n    return self._after_item(res) if is_indexer(idx) else res.map(self._after_item)\n  File \"/opt/conda/lib/python3.7/site-packages/fastai/data/core.py\", line 260, in _after_item\n    def _after_item(self, o): return self.tfms(o)\n  File \"/opt/conda/lib/python3.7/site-packages/fastcore/transform.py\", line 200, in __call__\n    def __call__(self, o): return compose_tfms(o, tfms=self.fs, split_idx=self.split_idx)\n  File \"/opt/conda/lib/python3.7/site-packages/fastcore/transform.py\", line 150, in compose_tfms\n    x = f(x, **kwargs)\n  File \"/opt/conda/lib/python3.7/site-packages/fastcore/transform.py\", line 73, in __call__\n    def __call__(self, x, **kwargs): return self._call('encodes', x, **kwargs)\n  File \"/opt/conda/lib/python3.7/site-packages/fastcore/transform.py\", line 83, in _call\n    return self._do_call(getattr(self, fn), x, **kwargs)\n  File \"/opt/conda/lib/python3.7/site-packages/fastcore/transform.py\", line 89, in _do_call\n    return retain_type(f(x, **kwargs), x, ret)\n  File \"/opt/conda/lib/python3.7/site-packages/fastcore/dispatch.py\", line 118, in __call__\n    return f(*args, **kwargs)\n  File \"/opt/conda/lib/python3.7/site-packages/fastai/data/transforms.py\", line 258, in encodes\n    raise KeyError(f\"Label '{o}' was not included in the training dataset\") from e\nKeyError: \"Label '176' was not included in the training dataset\"\n"
     ]
    }
   ],
   "source": [
    "all_preds = []\n",
    "\n",
    "for i in range(N_FOLDS):\n",
    "\n",
    "    print(f'= {i} results')\n",
    "    \n",
    "    learn = get_learner(fold_num=i)\n",
    "\n",
    "    learn.fit_one_cycle(5, 2e-5, cbs=[SaveModelCallback(fname=f'model_breed_{i}', \n",
    "                                                   monitor='valid_loss',\n",
    "                                                   every_epoch=False,\n",
    "                                                comp=np.less),\n",
    "                                      EarlyStoppingCallback(monitor='valid_loss', comp=np.less, patience=2)]) \n",
    "    \n",
    "    \n",
    "    del learn\n",
    "\n",
    "    torch.cuda.empty_cache()\n",
    "\n",
    "    gc.collect()"
   ]
  },
  {
   "cell_type": "code",
   "execution_count": null,
   "metadata": {},
   "outputs": [],
   "source": []
  }
 ],
 "metadata": {
  "kernelspec": {
   "display_name": "Python 3 (ipykernel)",
   "language": "python",
   "name": "python3"
  },
  "language_info": {
   "codemirror_mode": {
    "name": "ipython",
    "version": 3
   },
   "file_extension": ".py",
   "mimetype": "text/x-python",
   "name": "python",
   "nbconvert_exporter": "python",
   "pygments_lexer": "ipython3",
   "version": "3.7.12"
  }
 },
 "nbformat": 4,
 "nbformat_minor": 4
}
