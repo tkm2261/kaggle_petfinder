{
 "cells": [
  {
   "cell_type": "code",
   "execution_count": 1,
   "id": "2462bc96-c5d2-4acf-9af7-8ef8c668cc7b",
   "metadata": {},
   "outputs": [],
   "source": [
    "import pandas as pd"
   ]
  },
  {
   "cell_type": "code",
   "execution_count": 134,
   "id": "4fe5ddd5-7b8d-4cb8-a4a2-75a97ffe0944",
   "metadata": {},
   "outputs": [
    {
     "name": "stdout",
     "output_type": "stream",
     "text": [
      "[0.51786334 0.16002144 0.32729411]\n"
     ]
    },
    {
     "name": "stderr",
     "output_type": "stream",
     "text": [
      "/opt/conda/lib/python3.7/site-packages/ipykernel_launcher.py:19: PerformanceWarning: DataFrame is highly fragmented.  This is usually the result of calling `frame.insert` many times, which has poor performance.  Consider joining all columns at once using pd.concat(axis=1) instead.  To get a de-fragmented frame, use `newframe = frame.copy()`\n",
      "/opt/conda/lib/python3.7/site-packages/ipykernel_launcher.py:20: PerformanceWarning: DataFrame is highly fragmented.  This is usually the result of calling `frame.insert` many times, which has poor performance.  Consider joining all columns at once using pd.concat(axis=1) instead.  To get a de-fragmented frame, use `newframe = frame.copy()`\n",
      "/opt/conda/lib/python3.7/site-packages/ipykernel_launcher.py:21: PerformanceWarning: DataFrame is highly fragmented.  This is usually the result of calling `frame.insert` many times, which has poor performance.  Consider joining all columns at once using pd.concat(axis=1) instead.  To get a de-fragmented frame, use `newframe = frame.copy()`\n",
      "/opt/conda/lib/python3.7/site-packages/ipykernel_launcher.py:23: FutureWarning: `rcond` parameter will change to the default of machine precision times ``max(M, N)`` where M and N are the input matrix dimensions.\n",
      "To use the future default and silence this warning we advise to pass `rcond=None`, to keep using the old, explicitly pass `rcond=-1`.\n"
     ]
    },
    {
     "data": {
      "image/png": "[encoded data removed]",
      "text/plain": [
       "<Figure size 432x288 with 1 Axes>"
      ]
     },
     "metadata": {
      "needs_background": "light"
     },
     "output_type": "display_data"
    }
   ],
   "source": [
    "df1 = pd.read_feather('../input/pet-data/df_allfeats_4nd.ftr')\n",
    "#df1['AdoptionSpeed'] += pd.read_csv('../input/pet-data/df1_train_test_v3.csv')['AdoptionSpeed']\n",
    "#df1['AdoptionSpeed'] /= 2\n",
    "df2 = pd.read_csv('../input/pet-data/df2.csv')\n",
    "\n",
    "#df1.to_csv('train_last_comp.csv', index=False)\n",
    "df = pd.merge(df2, df1.drop('PetID', axis=1), how='left', on='hash')\n",
    "\n",
    "train = pd.read_csv('../input/petfinder-pawpularity-score/train.csv')['Id'].map(lambda x:str(f'../input/petfinder-pawpularity-score/train/{x}.jpg'))\n",
    "oof = pd.concat([train,\n",
    "                 pd.read_csv('../input/petfinder-ensumble/exp085_ensumble/exp085_ensumble_oof.csv')['oof']], \n",
    "                 axis=1).set_index('Id')['oof']/100\n",
    "oof2 = pd.concat([train,\n",
    "                 pd.read_csv('../input/exp108/exp108_oof.csv')['pred']], \n",
    "                 axis=1).set_index('Id')['pred']/100\n",
    "\n",
    "\n",
    "#df['pred4'] = df['path_x'].map(pd.read_csv('../input/pet-data/ens_exp15.csv', index_col='path')['pred'])\n",
    "df['pred1'] = df['path'].map(pd.read_csv('../input/pet-data/ens_exp4-7-8-9-15.csv', index_col='path')['pred'])\n",
    "df['pred2'] = df['path'].map(oof)\n",
    "df['pred3'] = df['path'].map(oof2)\n",
    "\n",
    "coef = np.linalg.lstsq(df[['pred1', 'pred2', 'pred3']], df['Pawpularity'] / 100)[0]\n",
    "print(coef)\n",
    "pd.Series(coef).plot(kind='bar')\n",
    "\n",
    "df['pred'] = np.dot(df[['pred1', 'pred2', 'pred3']], coef)\n",
    "df.to_feather('df_allfeats_4nd_merged.ftr')"
   ]
  },
  {
   "cell_type": "code",
   "execution_count": 135,
   "id": "a9d145ae-a8d2-44d0-b783-d667bcbfa4d0",
   "metadata": {},
   "outputs": [
    {
     "data": {
      "text/plain": [
       "(9999, 249)"
      ]
     },
     "execution_count": 135,
     "metadata": {},
     "output_type": "execute_result"
    }
   ],
   "source": [
    "df.shape"
   ]
  },
  {
   "cell_type": "code",
   "execution_count": 131,
   "id": "ab2d1146-866b-4dd5-916c-7b675b3fa833",
   "metadata": {},
   "outputs": [],
   "source": [
    "df1 = pd.read_feather('best_1st.ftr').drop_duplicates(subset=['PetID', 'hash'])\n",
    "df2 = pd.read_feather('best_2nd.ftr').drop_duplicates(subset=['PetID', 'hash'])\n",
    "df3 = pd.read_feather('best_4nd.ftr').drop_duplicates(subset=['PetID', 'hash'])"
   ]
  },
  {
   "cell_type": "code",
   "execution_count": 130,
   "id": "2b81ece9-f839-4516-b0f0-68f312817e93",
   "metadata": {},
   "outputs": [
    {
     "data": {
      "text/plain": [
       "((71835, 158), (71835, 47), (71835, 30))"
      ]
     },
     "execution_count": 130,
     "metadata": {},
     "output_type": "execute_result"
    }
   ],
   "source": [
    "df1.shape, df2.shape, df3.shape"
   ]
  },
  {
   "cell_type": "code",
   "execution_count": 132,
   "id": "b349a3d1-8150-473d-8d2b-c4462625459b",
   "metadata": {},
   "outputs": [],
   "source": [
    "tmp = pd.merge(df1, df2, how='inner', on=['PetID', 'hash'])\n",
    "tmp = pd.merge(tmp, df3, how='inner', on=['PetID', 'hash'])"
   ]
  },
  {
   "cell_type": "code",
   "execution_count": 133,
   "id": "e1dd3329-d995-488e-b8d9-4b5d178c4b1d",
   "metadata": {},
   "outputs": [],
   "source": [
    "tmp = tmp.rename({c : c.replace(' ', '_') for c in \n",
    "                ['General Health_main_breed_all',\n",
    "                 'Affectionate with Family',\n",
    "                 'Friendly Toward Strangers_main_breed_all']}, axis=1)\n",
    "\n",
    "tmp.to_feather('../input/pet-data/df_allfeats_4nd.ftr')"
   ]
  },
  {
   "cell_type": "code",
   "execution_count": 137,
   "id": "d3952dca-545b-4caa-8194-421b92c42582",
   "metadata": {},
   "outputs": [
    {
     "data": {
      "text/plain": [
       "((9999, 221), (9999, 249))"
      ]
     },
     "execution_count": 137,
     "metadata": {},
     "output_type": "execute_result"
    }
   ],
   "source": [
    "pd.read_feather('df_allfeat_merged.ftr').shape, pd.read_feather('df_allfeats_4nd_merged.ftr').shape"
   ]
  },
  {
   "cell_type": "code",
   "execution_count": 138,
   "id": "2dffff6b-c19d-4dd6-932e-f76437e53bff",
   "metadata": {},
   "outputs": [
    {
     "data": {
      "text/html": [
       "<div>\n",
       "<style scoped>\n",
       "    .dataframe tbody tr th:only-of-type {\n",
       "        vertical-align: middle;\n",
       "    }\n",
       "\n",
       "    .dataframe tbody tr th {\n",
       "        vertical-align: top;\n",
       "    }\n",
       "\n",
       "    .dataframe thead th {\n",
       "        text-align: right;\n",
       "    }\n",
       "</style>\n",
       "<table border=\"1\" class=\"dataframe\">\n",
       "  <thead>\n",
       "    <tr style=\"text-align: right;\">\n",
       "      <th></th>\n",
       "      <th>f</th>\n",
       "      <th>s</th>\n",
       "    </tr>\n",
       "  </thead>\n",
       "  <tbody>\n",
       "    <tr>\n",
       "      <th>76</th>\n",
       "      <td>169 dense121_2_218 16.74279009044769\\n</td>\n",
       "      <td>16.742790</td>\n",
       "    </tr>\n",
       "    <tr>\n",
       "      <th>89</th>\n",
       "      <td>180 inception_resnet_338 16.745254441801002\\n</td>\n",
       "      <td>16.745254</td>\n",
       "    </tr>\n",
       "    <tr>\n",
       "      <th>84</th>\n",
       "      <td>176 gnvec45 16.7457802651044\\n</td>\n",
       "      <td>16.745780</td>\n",
       "    </tr>\n",
       "    <tr>\n",
       "      <th>47</th>\n",
       "      <td>142 SVD_Description_42 16.74786405985567\\n</td>\n",
       "      <td>16.747864</td>\n",
       "    </tr>\n",
       "    <tr>\n",
       "      <th>60</th>\n",
       "      <td>154 meta_label_score_max_STD 16.74832116201451\\n</td>\n",
       "      <td>16.748321</td>\n",
       "    </tr>\n",
       "    <tr>\n",
       "      <th>45</th>\n",
       "      <td>140 gnvec233 16.748521292020506\\n</td>\n",
       "      <td>16.748521</td>\n",
       "    </tr>\n",
       "    <tr>\n",
       "      <th>61</th>\n",
       "      <td>155 densenet121_g_svd_9 16.74915858642252\\n</td>\n",
       "      <td>16.749159</td>\n",
       "    </tr>\n",
       "    <tr>\n",
       "      <th>83</th>\n",
       "      <td>175 dense121_2_232 16.749653417706252\\n</td>\n",
       "      <td>16.749653</td>\n",
       "    </tr>\n",
       "    <tr>\n",
       "      <th>97</th>\n",
       "      <td>188 Friendly_Toward_Strangers_main_breed_all ...</td>\n",
       "      <td>16.749803</td>\n",
       "    </tr>\n",
       "    <tr>\n",
       "      <th>67</th>\n",
       "      <td>160 ratio_sum_MaturitySize_groupby_Type_Breed...</td>\n",
       "      <td>16.749986</td>\n",
       "    </tr>\n",
       "    <tr>\n",
       "      <th>72</th>\n",
       "      <td>165 AdoptionSpeed_x 16.750499554967597\\n</td>\n",
       "      <td>16.750500</td>\n",
       "    </tr>\n",
       "    <tr>\n",
       "      <th>74</th>\n",
       "      <td>167 inception_resnet_88 16.750657351392356\\n</td>\n",
       "      <td>16.750657</td>\n",
       "    </tr>\n",
       "    <tr>\n",
       "      <th>81</th>\n",
       "      <td>173 var_Sterilized_groupby_RescuerID_Type 16....</td>\n",
       "      <td>16.751005</td>\n",
       "    </tr>\n",
       "    <tr>\n",
       "      <th>63</th>\n",
       "      <td>157 meta_label_score_mean_MAX 16.751113226759...</td>\n",
       "      <td>16.751113</td>\n",
       "    </tr>\n",
       "    <tr>\n",
       "      <th>51</th>\n",
       "      <td>146 glove_mag52 16.751158369422196\\n</td>\n",
       "      <td>16.751158</td>\n",
       "    </tr>\n",
       "    <tr>\n",
       "      <th>56</th>\n",
       "      <td>150 dense121_2_215 16.75167112729142\\n</td>\n",
       "      <td>16.751671</td>\n",
       "    </tr>\n",
       "    <tr>\n",
       "      <th>241</th>\n",
       "      <td>92 dense121_2_92 16.751709548407717\\n</td>\n",
       "      <td>16.751710</td>\n",
       "    </tr>\n",
       "    <tr>\n",
       "      <th>50</th>\n",
       "      <td>145 SVD_Description_24 16.751821989700737\\n</td>\n",
       "      <td>16.751822</td>\n",
       "    </tr>\n",
       "    <tr>\n",
       "      <th>49</th>\n",
       "      <td>144 Affectionate_with_Family 16.7518360912922...</td>\n",
       "      <td>16.751836</td>\n",
       "    </tr>\n",
       "    <tr>\n",
       "      <th>190</th>\n",
       "      <td>46 inception_resnet_319 16.751884130231538\\n</td>\n",
       "      <td>16.751884</td>\n",
       "    </tr>\n",
       "  </tbody>\n",
       "</table>\n",
       "</div>"
      ],
      "text/plain": [
       "                                                     f          s\n",
       "76              169 dense121_2_218 16.74279009044769\\n  16.742790\n",
       "89       180 inception_resnet_338 16.745254441801002\\n  16.745254\n",
       "84                      176 gnvec45 16.7457802651044\\n  16.745780\n",
       "47          142 SVD_Description_42 16.74786405985567\\n  16.747864\n",
       "60    154 meta_label_score_max_STD 16.74832116201451\\n  16.748321\n",
       "45                   140 gnvec233 16.748521292020506\\n  16.748521\n",
       "61         155 densenet121_g_svd_9 16.74915858642252\\n  16.749159\n",
       "83             175 dense121_2_232 16.749653417706252\\n  16.749653\n",
       "97    188 Friendly_Toward_Strangers_main_breed_all ...  16.749803\n",
       "67    160 ratio_sum_MaturitySize_groupby_Type_Breed...  16.749986\n",
       "72            165 AdoptionSpeed_x 16.750499554967597\\n  16.750500\n",
       "74        167 inception_resnet_88 16.750657351392356\\n  16.750657\n",
       "81    173 var_Sterilized_groupby_RescuerID_Type 16....  16.751005\n",
       "63    157 meta_label_score_mean_MAX 16.751113226759...  16.751113\n",
       "51                146 glove_mag52 16.751158369422196\\n  16.751158\n",
       "56              150 dense121_2_215 16.75167112729142\\n  16.751671\n",
       "241              92 dense121_2_92 16.751709548407717\\n  16.751710\n",
       "50         145 SVD_Description_24 16.751821989700737\\n  16.751822\n",
       "49    144 Affectionate_with_Family 16.7518360912922...  16.751836\n",
       "190       46 inception_resnet_319 16.751884130231538\\n  16.751884"
      ]
     },
     "execution_count": 138,
     "metadata": {},
     "output_type": "execute_result"
    }
   ],
   "source": [
    "res = []\n",
    "for line in open('res_final.csv'):\n",
    "    ret = line.strip().split()\n",
    "    fi = ret[0]\n",
    "    sc = float(ret[-1])\n",
    "    res.append([line.split('AAA')[1], sc])\n",
    "pd.options.display.max_rows = 1000\n",
    "aaa = pd.DataFrame(res, columns=['f', 's']).sort_values('s', ascending=True)\n",
    "aaa.head(20)"
   ]
  },
  {
   "cell_type": "code",
   "execution_count": 109,
   "id": "8d1616cf-6745-4fee-81e1-cc8f3ab79cd1",
   "metadata": {},
   "outputs": [
    {
     "data": {
      "text/html": [
       "<div>\n",
       "<style scoped>\n",
       "    .dataframe tbody tr th:only-of-type {\n",
       "        vertical-align: middle;\n",
       "    }\n",
       "\n",
       "    .dataframe tbody tr th {\n",
       "        vertical-align: top;\n",
       "    }\n",
       "\n",
       "    .dataframe thead th {\n",
       "        text-align: right;\n",
       "    }\n",
       "</style>\n",
       "<table border=\"1\" class=\"dataframe\">\n",
       "  <thead>\n",
       "    <tr style=\"text-align: right;\">\n",
       "      <th></th>\n",
       "      <th>f</th>\n",
       "      <th>s</th>\n",
       "    </tr>\n",
       "  </thead>\n",
       "  <tbody>\n",
       "  </tbody>\n",
       "</table>\n",
       "</div>"
      ],
      "text/plain": [
       "Empty DataFrame\n",
       "Columns: [f, s]\n",
       "Index: []"
      ]
     },
     "execution_count": 109,
     "metadata": {},
     "output_type": "execute_result"
    }
   ],
   "source": [
    "aaa[aaa.f.str.find('prd') > -1]"
   ]
  },
  {
   "cell_type": "code",
   "execution_count": 102,
   "id": "b79b65dc-f917-4f3b-b228-60f565adec4e",
   "metadata": {},
   "outputs": [],
   "source": [
    "#AAA None None 16.82667320441962"
   ]
  },
  {
   "cell_type": "code",
   "execution_count": 66,
   "id": "d2491336-1885-4f40-b41b-d8102eec6fd4",
   "metadata": {},
   "outputs": [
    {
     "data": {
      "text/html": [
       "<div>\n",
       "<style scoped>\n",
       "    .dataframe tbody tr th:only-of-type {\n",
       "        vertical-align: middle;\n",
       "    }\n",
       "\n",
       "    .dataframe tbody tr th {\n",
       "        vertical-align: top;\n",
       "    }\n",
       "\n",
       "    .dataframe thead th {\n",
       "        text-align: right;\n",
       "    }\n",
       "</style>\n",
       "<table border=\"1\" class=\"dataframe\">\n",
       "  <thead>\n",
       "    <tr style=\"text-align: right;\">\n",
       "      <th></th>\n",
       "      <th>0</th>\n",
       "      <th>2</th>\n",
       "    </tr>\n",
       "    <tr>\n",
       "      <th>1</th>\n",
       "      <th></th>\n",
       "      <th></th>\n",
       "    </tr>\n",
       "  </thead>\n",
       "  <tbody>\n",
       "    <tr>\n",
       "      <th>159</th>\n",
       "      <td>log1/out_159.txt:AAA</td>\n",
       "      <td>16.816028</td>\n",
       "    </tr>\n",
       "    <tr>\n",
       "      <th>152</th>\n",
       "      <td>log1/out_152.txt:AAA</td>\n",
       "      <td>16.816356</td>\n",
       "    </tr>\n",
       "    <tr>\n",
       "      <th>123</th>\n",
       "      <td>log1/out_123.txt:AAA</td>\n",
       "      <td>16.818385</td>\n",
       "    </tr>\n",
       "    <tr>\n",
       "      <th>107</th>\n",
       "      <td>log1/out_107.txt:AAA</td>\n",
       "      <td>16.818505</td>\n",
       "    </tr>\n",
       "    <tr>\n",
       "      <th>143</th>\n",
       "      <td>log1/out_143.txt:AAA</td>\n",
       "      <td>16.822295</td>\n",
       "    </tr>\n",
       "    <tr>\n",
       "      <th>...</th>\n",
       "      <td>...</td>\n",
       "      <td>...</td>\n",
       "    </tr>\n",
       "    <tr>\n",
       "      <th>18</th>\n",
       "      <td>log1/out_18.txt:AAA</td>\n",
       "      <td>17.006814</td>\n",
       "    </tr>\n",
       "    <tr>\n",
       "      <th>13</th>\n",
       "      <td>log1/out_13.txt:AAA</td>\n",
       "      <td>17.042271</td>\n",
       "    </tr>\n",
       "    <tr>\n",
       "      <th>12</th>\n",
       "      <td>log1/out_12.txt:AAA</td>\n",
       "      <td>17.052367</td>\n",
       "    </tr>\n",
       "    <tr>\n",
       "      <th>11</th>\n",
       "      <td>log1/out_11.txt:AAA</td>\n",
       "      <td>17.054354</td>\n",
       "    </tr>\n",
       "    <tr>\n",
       "      <th>10</th>\n",
       "      <td>log1/out_10.txt:AAA</td>\n",
       "      <td>17.066073</td>\n",
       "    </tr>\n",
       "  </tbody>\n",
       "</table>\n",
       "<p>491 rows × 2 columns</p>\n",
       "</div>"
      ],
      "text/plain": [
       "                        0          2\n",
       "1                                   \n",
       "159  log1/out_159.txt:AAA  16.816028\n",
       "152  log1/out_152.txt:AAA  16.816356\n",
       "123  log1/out_123.txt:AAA  16.818385\n",
       "107  log1/out_107.txt:AAA  16.818505\n",
       "143  log1/out_143.txt:AAA  16.822295\n",
       "..                    ...        ...\n",
       "18    log1/out_18.txt:AAA  17.006814\n",
       "13    log1/out_13.txt:AAA  17.042271\n",
       "12    log1/out_12.txt:AAA  17.052367\n",
       "11    log1/out_11.txt:AAA  17.054354\n",
       "10    log1/out_10.txt:AAA  17.066073\n",
       "\n",
       "[491 rows x 2 columns]"
      ]
     },
     "execution_count": 66,
     "metadata": {},
     "output_type": "execute_result"
    }
   ],
   "source": [
    "tmp = pd.read_csv('res_1st.csv', sep=' ', header=None).sort_values(1).reset_index(drop=True)#[2]#.plot.bar()\n",
    "tmp = tmp.set_index(1)\n",
    "tmp.sort_values(2)"
   ]
  },
  {
   "cell_type": "code",
   "execution_count": 68,
   "id": "a96d4889-4eef-47c2-8cde-f8acd4f54815",
   "metadata": {},
   "outputs": [
    {
     "data": {
      "text/plain": [
       "(203,)"
      ]
     },
     "execution_count": 68,
     "metadata": {},
     "output_type": "execute_result"
    }
   ],
   "source": [
    "np.load('opt_final.npy').shape"
   ]
  },
  {
   "cell_type": "code",
   "execution_count": 67,
   "id": "da172a05-c5aa-4aa5-a6f7-f266bddb65b0",
   "metadata": {},
   "outputs": [
    {
     "data": {
      "text/html": [
       "<div>\n",
       "<style scoped>\n",
       "    .dataframe tbody tr th:only-of-type {\n",
       "        vertical-align: middle;\n",
       "    }\n",
       "\n",
       "    .dataframe tbody tr th {\n",
       "        vertical-align: top;\n",
       "    }\n",
       "\n",
       "    .dataframe thead th {\n",
       "        text-align: right;\n",
       "    }\n",
       "</style>\n",
       "<table border=\"1\" class=\"dataframe\">\n",
       "  <thead>\n",
       "    <tr style=\"text-align: right;\">\n",
       "      <th></th>\n",
       "      <th>0</th>\n",
       "      <th>2</th>\n",
       "    </tr>\n",
       "    <tr>\n",
       "      <th>1</th>\n",
       "      <th></th>\n",
       "      <th></th>\n",
       "    </tr>\n",
       "  </thead>\n",
       "  <tbody>\n",
       "    <tr>\n",
       "      <th>37</th>\n",
       "      <td>log2/out_37.txt:AAA</td>\n",
       "      <td>16.924197</td>\n",
       "    </tr>\n",
       "    <tr>\n",
       "      <th>48</th>\n",
       "      <td>log2/out_48.txt:AAA</td>\n",
       "      <td>16.928785</td>\n",
       "    </tr>\n",
       "    <tr>\n",
       "      <th>39</th>\n",
       "      <td>log2/out_39.txt:AAA</td>\n",
       "      <td>16.932638</td>\n",
       "    </tr>\n",
       "    <tr>\n",
       "      <th>45</th>\n",
       "      <td>log2/out_45.txt:AAA</td>\n",
       "      <td>16.932763</td>\n",
       "    </tr>\n",
       "    <tr>\n",
       "      <th>66</th>\n",
       "      <td>log2/out_66.txt:AAA</td>\n",
       "      <td>16.932961</td>\n",
       "    </tr>\n",
       "    <tr>\n",
       "      <th>...</th>\n",
       "      <td>...</td>\n",
       "      <td>...</td>\n",
       "    </tr>\n",
       "    <tr>\n",
       "      <th>389</th>\n",
       "      <td>log2/out_389.txt:AAA</td>\n",
       "      <td>17.038013</td>\n",
       "    </tr>\n",
       "    <tr>\n",
       "      <th>376</th>\n",
       "      <td>log2/out_376.txt:AAA</td>\n",
       "      <td>17.038308</td>\n",
       "    </tr>\n",
       "    <tr>\n",
       "      <th>386</th>\n",
       "      <td>log2/out_386.txt:AAA</td>\n",
       "      <td>17.041396</td>\n",
       "    </tr>\n",
       "    <tr>\n",
       "      <th>395</th>\n",
       "      <td>log2/out_395.txt:AAA</td>\n",
       "      <td>17.041607</td>\n",
       "    </tr>\n",
       "    <tr>\n",
       "      <th>420</th>\n",
       "      <td>log2/out_420.txt:AAA</td>\n",
       "      <td>17.044177</td>\n",
       "    </tr>\n",
       "  </tbody>\n",
       "</table>\n",
       "<p>422 rows × 2 columns</p>\n",
       "</div>"
      ],
      "text/plain": [
       "                        0          2\n",
       "1                                   \n",
       "37    log2/out_37.txt:AAA  16.924197\n",
       "48    log2/out_48.txt:AAA  16.928785\n",
       "39    log2/out_39.txt:AAA  16.932638\n",
       "45    log2/out_45.txt:AAA  16.932763\n",
       "66    log2/out_66.txt:AAA  16.932961\n",
       "..                    ...        ...\n",
       "389  log2/out_389.txt:AAA  17.038013\n",
       "376  log2/out_376.txt:AAA  17.038308\n",
       "386  log2/out_386.txt:AAA  17.041396\n",
       "395  log2/out_395.txt:AAA  17.041607\n",
       "420  log2/out_420.txt:AAA  17.044177\n",
       "\n",
       "[422 rows x 2 columns]"
      ]
     },
     "execution_count": 67,
     "metadata": {},
     "output_type": "execute_result"
    }
   ],
   "source": [
    "tmp = pd.read_csv('res_2nd.csv', sep=' ', header=None).sort_values(1).reset_index(drop=True)#[2]#.plot.bar()\n",
    "tmp = tmp.set_index(1)\n",
    "tmp.sort_values(2)"
   ]
  },
  {
   "cell_type": "code",
   "execution_count": 43,
   "id": "421269f9-7da2-46c0-aa9d-b8ffc06b87a1",
   "metadata": {},
   "outputs": [
    {
     "data": {
      "text/html": [
       "<div>\n",
       "<style scoped>\n",
       "    .dataframe tbody tr th:only-of-type {\n",
       "        vertical-align: middle;\n",
       "    }\n",
       "\n",
       "    .dataframe tbody tr th {\n",
       "        vertical-align: top;\n",
       "    }\n",
       "\n",
       "    .dataframe thead th {\n",
       "        text-align: right;\n",
       "    }\n",
       "</style>\n",
       "<table border=\"1\" class=\"dataframe\">\n",
       "  <thead>\n",
       "    <tr style=\"text-align: right;\">\n",
       "      <th></th>\n",
       "      <th>0</th>\n",
       "      <th>2</th>\n",
       "    </tr>\n",
       "    <tr>\n",
       "      <th>1</th>\n",
       "      <th></th>\n",
       "      <th></th>\n",
       "    </tr>\n",
       "  </thead>\n",
       "  <tbody>\n",
       "    <tr>\n",
       "      <th>37</th>\n",
       "      <td>log2/out_37.txt:AAA</td>\n",
       "      <td>16.924197</td>\n",
       "    </tr>\n",
       "    <tr>\n",
       "      <th>48</th>\n",
       "      <td>log2/out_48.txt:AAA</td>\n",
       "      <td>16.928785</td>\n",
       "    </tr>\n",
       "    <tr>\n",
       "      <th>39</th>\n",
       "      <td>log2/out_39.txt:AAA</td>\n",
       "      <td>16.932638</td>\n",
       "    </tr>\n",
       "    <tr>\n",
       "      <th>45</th>\n",
       "      <td>log2/out_45.txt:AAA</td>\n",
       "      <td>16.932763</td>\n",
       "    </tr>\n",
       "    <tr>\n",
       "      <th>66</th>\n",
       "      <td>log2/out_66.txt:AAA</td>\n",
       "      <td>16.932961</td>\n",
       "    </tr>\n",
       "    <tr>\n",
       "      <th>47</th>\n",
       "      <td>log2/out_47.txt:AAA</td>\n",
       "      <td>16.933339</td>\n",
       "    </tr>\n",
       "    <tr>\n",
       "      <th>52</th>\n",
       "      <td>log2/out_52.txt:AAA</td>\n",
       "      <td>16.935426</td>\n",
       "    </tr>\n",
       "    <tr>\n",
       "      <th>42</th>\n",
       "      <td>log2/out_42.txt:AAA</td>\n",
       "      <td>16.937377</td>\n",
       "    </tr>\n",
       "    <tr>\n",
       "      <th>50</th>\n",
       "      <td>log2/out_50.txt:AAA</td>\n",
       "      <td>16.937420</td>\n",
       "    </tr>\n",
       "    <tr>\n",
       "      <th>43</th>\n",
       "      <td>log2/out_43.txt:AAA</td>\n",
       "      <td>16.937568</td>\n",
       "    </tr>\n",
       "  </tbody>\n",
       "</table>\n",
       "</div>"
      ],
      "text/plain": [
       "                      0          2\n",
       "1                                 \n",
       "37  log2/out_37.txt:AAA  16.924197\n",
       "48  log2/out_48.txt:AAA  16.928785\n",
       "39  log2/out_39.txt:AAA  16.932638\n",
       "45  log2/out_45.txt:AAA  16.932763\n",
       "66  log2/out_66.txt:AAA  16.932961\n",
       "47  log2/out_47.txt:AAA  16.933339\n",
       "52  log2/out_52.txt:AAA  16.935426\n",
       "42  log2/out_42.txt:AAA  16.937377\n",
       "50  log2/out_50.txt:AAA  16.937420\n",
       "43  log2/out_43.txt:AAA  16.937568"
      ]
     },
     "execution_count": 43,
     "metadata": {},
     "output_type": "execute_result"
    }
   ],
   "source": [
    "tmp.sort_values(2).head(10)"
   ]
  },
  {
   "cell_type": "code",
   "execution_count": 2,
   "id": "ee398c0c-d5bf-43f8-8630-e09c996fcf2b",
   "metadata": {},
   "outputs": [],
   "source": [
    "df_train = pd.read_feather('../input/prevfeats/X_train_t.feather')\n",
    "df_test = pd.read_feather('../input/prevfeats/X_test_t.feather')"
   ]
  },
  {
   "cell_type": "code",
   "execution_count": 3,
   "id": "190f0d7d-4360-4c7c-82c3-680bf5172bda",
   "metadata": {},
   "outputs": [
    {
     "data": {
      "text/plain": [
       "((14993, 150), (3972, 150))"
      ]
     },
     "execution_count": 3,
     "metadata": {},
     "output_type": "execute_result"
    }
   ],
   "source": [
    "df_train.shape, df_test.shape"
   ]
  },
  {
   "cell_type": "code",
   "execution_count": 25,
   "id": "5c254226-5829-464d-9995-69873967a3f6",
   "metadata": {},
   "outputs": [
    {
     "data": {
      "text/plain": [
       "(18965, 4852)"
      ]
     },
     "execution_count": 25,
     "metadata": {},
     "output_type": "execute_result"
    }
   ],
   "source": [
    "df_all = pd.read_feather('../input/prevfeats/all_data.feather')\n",
    "df_all.shape"
   ]
  },
  {
   "cell_type": "code",
   "execution_count": 16,
   "id": "c2e93ac8-60b1-4dad-b3b7-f51798eb4827",
   "metadata": {
    "tags": []
   },
   "outputs": [],
   "source": [
    "def proc(x):\n",
    "    try:\n",
    "        x.astype('float32')\n",
    "        return True\n",
    "    except ValueError:\n",
    "        return False"
   ]
  },
  {
   "cell_type": "code",
   "execution_count": 19,
   "id": "6c314a93-129e-479a-a4f8-ccb79ae93707",
   "metadata": {},
   "outputs": [],
   "source": [
    "cols = [col for col in df_all if proc(df_all[col]) and col != 'AdoptionSpeed']"
   ]
  },
  {
   "cell_type": "code",
   "execution_count": 6,
   "id": "6ec54100-c7ab-4097-9c96-c56270a554c7",
   "metadata": {},
   "outputs": [
    {
     "data": {
      "text/plain": [
       "Index(['annots_score_normal_mean_mean', 'BreedName_second_breed',\n",
       "       'inception_resnet_187', 'inception_resnet_373', 'dense121_2_249',\n",
       "       'inception_resnet_197', 'dense121_2_172',\n",
       "       'var_Age_groupby_RescuerID_State', 'gnvec249',\n",
       "       'diff_var_Age_groupby_MaturitySize',\n",
       "       ...\n",
       "       'inception_resnet_215', 'dense121_2_9',\n",
       "       'annots_score_normal_sum_median', 'inception_resnet_227',\n",
       "       'var_Quantity_groupby_RescuerID', 'inception_resnet_237',\n",
       "       'annots_score_normal_sum_max',\n",
       "       'var_MaturitySize_groupby_RescuerID_State', 'inception_resnet_94',\n",
       "       'glove_mag44'],\n",
       "      dtype='object', length=150)"
      ]
     },
     "execution_count": 6,
     "metadata": {},
     "output_type": "execute_result"
    }
   ],
   "source": [
    "df_train.columns"
   ]
  },
  {
   "cell_type": "code",
   "execution_count": 20,
   "id": "70f5aef3-5de8-49a0-93f9-5a745b62b3f4",
   "metadata": {},
   "outputs": [],
   "source": [
    "df_all = df_all[['PetID'] + cols]#df_train.columns.values.tolist()]"
   ]
  },
  {
   "cell_type": "code",
   "execution_count": 8,
   "id": "17d28768-b570-44b1-8b0b-9dc6628c1d27",
   "metadata": {},
   "outputs": [
    {
     "name": "stderr",
     "output_type": "stream",
     "text": [
      "[Parallel(n_jobs=-1)]: Using backend LokyBackend with 32 concurrent workers.\n",
      "[Parallel(n_jobs=-1)]: Done 176 tasks      | elapsed:    1.2s\n",
      "[Parallel(n_jobs=-1)]: Done 1776 tasks      | elapsed:    2.4s\n",
      "[Parallel(n_jobs=-1)]: Done 4576 tasks      | elapsed:    3.9s\n",
      "[Parallel(n_jobs=-1)]: Done 8176 tasks      | elapsed:    5.8s\n",
      "[Parallel(n_jobs=-1)]: Done 12576 tasks      | elapsed:    8.1s\n",
      "[Parallel(n_jobs=-1)]: Done 17776 tasks      | elapsed:   10.8s\n",
      "[Parallel(n_jobs=-1)]: Done 23776 tasks      | elapsed:   14.1s\n",
      "[Parallel(n_jobs=-1)]: Done 30576 tasks      | elapsed:   17.6s\n",
      "[Parallel(n_jobs=-1)]: Done 38176 tasks      | elapsed:   21.6s\n",
      "[Parallel(n_jobs=-1)]: Done 46576 tasks      | elapsed:   26.0s\n",
      "[Parallel(n_jobs=-1)]: Done 55776 tasks      | elapsed:   30.9s\n",
      "[Parallel(n_jobs=-1)]: Done 65776 tasks      | elapsed:   36.2s\n",
      "[Parallel(n_jobs=-1)]: Done 72776 out of 72776 | elapsed:   39.8s finished\n"
     ]
    }
   ],
   "source": [
    "import numpy as np\n",
    "import glob\n",
    "import joblib\n",
    "import os\n",
    "from PIL import Image\n",
    "import imagehash\n",
    "from tqdm.auto import tqdm\n",
    "\n",
    "paths = glob.glob('../input/petfinder-adoption-prediction/*/*jpg')\n",
    "\n",
    "result = joblib.Parallel(n_jobs=-1, verbose=1)(joblib.delayed(lambda x: imagehash.average_hash(Image.open(x)))(path) for path in paths)\n",
    "\n",
    "\n",
    "tmp = pd.DataFrame()\n",
    "tmp['path'] = paths\n",
    "tmp['hash'] = result\n",
    "tmp['hash'] = tmp['hash'].astype(str)\n",
    "\n",
    "tmp['is_train'] = tmp['path'].str.find('train') > -1\n",
    "tmp['is_test'] = tmp['path'].str.find('test') > -1\n",
    "tmp['idx'] = tmp['path'].map(lambda x: int(x.split('-')[-1][:-4]))\n",
    "tmp['PetID'] = tmp['path'].map(lambda x: x.split('/')[-1].split('-')[0])\n",
    "\n",
    "df1_train = pd.read_csv('../input/petfinder-adoption-prediction/train/train.csv')\n",
    "df1_test = pd.read_csv('../input/petfinder-adoption-prediction/test/test.csv')\n",
    "\n",
    "aaa = [df1_test['PetID'].map(pd.read_csv(path, index_col='PetID')['AdoptionSpeed']).values\n",
    " for path in ['../input/pet-data/prev1st.csv']]\n",
    "aaa = np.mean([t for t in aaa if not np.isnan(t.sum())], axis=0)\n",
    "\n",
    "#df1_test['AdoptionSpeed'] = aaa\n",
    "df1_train = df1_train.append(df1_test)\n",
    "\n",
    "df1 = pd.merge(tmp, df1_train, how='left', on='PetID')\n",
    "\n",
    "df1['is_train'] = df1['is_train'].astype(np.float32)\n",
    "df1['is_test'] = df1['is_train'].astype(np.float32)\n",
    "df1['hash'] = df1['hash'].astype(str)\n",
    "#df1 = df1[(df1['is_train'] > 0 ) | (~df1['hash'].isin(df1.loc[df1['is_train'] > 0, 'hash']))].reset_index(drop=True)\n",
    "#df1.to_csv('df1_train_test_v6.csv', index=False)"
   ]
  },
  {
   "cell_type": "code",
   "execution_count": 21,
   "id": "6a1d1e28-27d2-46e8-9733-929d458c1e98",
   "metadata": {},
   "outputs": [],
   "source": [
    "\n",
    "df_all2 = pd.merge(df1[['PetID', 'AdoptionSpeed', 'hash']], df_all, on='PetID', how='left')"
   ]
  },
  {
   "cell_type": "code",
   "execution_count": 22,
   "id": "fdb7ca96-e7a5-4b7c-a292-5fcbeef597d3",
   "metadata": {},
   "outputs": [
    {
     "name": "stderr",
     "output_type": "stream",
     "text": [
      "\n",
      "KeyboardInterrupt\n",
      "\n"
     ]
    }
   ],
   "source": [
    "df_all2.to_csv('../input/pet-data/df1_train_test_all_3.csv', index=False)"
   ]
  },
  {
   "cell_type": "code",
   "execution_count": 24,
   "id": "5cac9c7e-cf35-4284-b2f4-519e7a59d1ec",
   "metadata": {},
   "outputs": [],
   "source": [
    "df_all2.to_feather('../input/pet-data/df1_train_test_all_3.ftr')"
   ]
  },
  {
   "cell_type": "code",
   "execution_count": null,
   "id": "33a014ce-5cc0-4d0f-9fd0-bdf10631a1d6",
   "metadata": {},
   "outputs": [],
   "source": [
    "df_all2[['AdoptionSpeed']].isna().mean()"
   ]
  }
 ],
 "metadata": {
  "kernelspec": {
   "display_name": "Python 3 (ipykernel)",
   "language": "python",
   "name": "python3"
  },
  "language_info": {
   "codemirror_mode": {
    "name": "ipython",
    "version": 3
   },
   "file_extension": ".py",
   "mimetype": "text/x-python",
   "name": "python",
   "nbconvert_exporter": "python",
   "pygments_lexer": "ipython3",
   "version": "3.7.12"
  }
 },
 "nbformat": 4,
 "nbformat_minor": 5
}
