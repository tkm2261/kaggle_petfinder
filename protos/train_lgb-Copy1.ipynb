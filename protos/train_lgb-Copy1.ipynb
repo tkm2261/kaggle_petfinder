{
 "cells": [
  {
   "cell_type": "code",
   "execution_count": 1,
   "id": "17614600-d928-4269-b599-94238359ad66",
   "metadata": {},
   "outputs": [
    {
     "data": {
      "text/html": [
       "<style type='text/css'>\n",
       ".datatable table.frame { margin-bottom: 0; }\n",
       ".datatable table.frame thead { border-bottom: none; }\n",
       ".datatable table.frame tr.coltypes td {  color: #FFFFFF;  line-height: 6px;  padding: 0 0.5em;}\n",
       ".datatable .bool    { background: #DDDD99; }\n",
       ".datatable .object  { background: #565656; }\n",
       ".datatable .int     { background: #5D9E5D; }\n",
       ".datatable .float   { background: #4040CC; }\n",
       ".datatable .str     { background: #CC4040; }\n",
       ".datatable .time    { background: #40CC40; }\n",
       ".datatable .row_index {  background: var(--jp-border-color3);  border-right: 1px solid var(--jp-border-color0);  color: var(--jp-ui-font-color3);  font-size: 9px;}\n",
       ".datatable .frame tbody td { text-align: left; }\n",
       ".datatable .frame tr.coltypes .row_index {  background: var(--jp-border-color0);}\n",
       ".datatable th:nth-child(2) { padding-left: 12px; }\n",
       ".datatable .hellipsis {  color: var(--jp-cell-editor-border-color);}\n",
       ".datatable .vellipsis {  background: var(--jp-layout-color0);  color: var(--jp-cell-editor-border-color);}\n",
       ".datatable .na {  color: var(--jp-cell-editor-border-color);  font-size: 80%;}\n",
       ".datatable .sp {  opacity: 0.25;}\n",
       ".datatable .footer { font-size: 9px; }\n",
       ".datatable .frame_dimensions {  background: var(--jp-border-color3);  border-top: 1px solid var(--jp-border-color0);  color: var(--jp-ui-font-color3);  display: inline-block;  opacity: 0.6;  padding: 1px 10px 1px 5px;}\n",
       "</style>\n"
      ],
      "text/plain": [
       "<IPython.core.display.HTML object>"
      ]
     },
     "metadata": {},
     "output_type": "display_data"
    }
   ],
   "source": [
    "import numpy as np\n",
    "import pandas as pd\n",
    "import lightgbm as lgb\n",
    "import cv2\n",
    "import torch\n",
    "import pickle\n",
    "from tqdm.auto import tqdm\n",
    "import matplotlib.pyplot as plt\n",
    "\n",
    "from sklearn.model_selection import ParameterGrid"
   ]
  },
  {
   "cell_type": "code",
   "execution_count": 53,
   "id": "8d0e528b-55d1-49d1-89f6-f2d84f818272",
   "metadata": {},
   "outputs": [
    {
     "data": {
      "text/plain": [
       "array([2.33333333, 1.33333333, 1.66666667, ..., 3.        , 2.66666667,\n",
       "       2.33333333])"
      ]
     },
     "execution_count": 53,
     "metadata": {},
     "output_type": "execute_result"
    }
   ],
   "source": []
  },
  {
   "cell_type": "code",
   "execution_count": 56,
   "id": "b9843f11-b133-465c-8417-7cfc9cf2ebcc",
   "metadata": {},
   "outputs": [
    {
     "name": "stderr",
     "output_type": "stream",
     "text": [
      "[Parallel(n_jobs=-1)]: Using backend LokyBackend with 32 concurrent workers.\n",
      "[Parallel(n_jobs=-1)]: Done 224 tasks      | elapsed:    0.6s\n",
      "[Parallel(n_jobs=-1)]: Done 1224 tasks      | elapsed:    1.6s\n",
      "[Parallel(n_jobs=-1)]: Done 2624 tasks      | elapsed:    3.0s\n",
      "[Parallel(n_jobs=-1)]: Done 4424 tasks      | elapsed:    4.9s\n",
      "[Parallel(n_jobs=-1)]: Done 6624 tasks      | elapsed:    7.1s\n",
      "[Parallel(n_jobs=-1)]: Done 9224 tasks      | elapsed:    9.7s\n",
      "[Parallel(n_jobs=-1)]: Done 12224 tasks      | elapsed:   12.6s\n",
      "[Parallel(n_jobs=-1)]: Done 15624 tasks      | elapsed:   15.9s\n",
      "[Parallel(n_jobs=-1)]: Done 20608 tasks      | elapsed:   20.6s\n",
      "[Parallel(n_jobs=-1)]: Done 29008 tasks      | elapsed:   28.0s\n",
      "[Parallel(n_jobs=-1)]: Done 38208 tasks      | elapsed:   35.9s\n",
      "[Parallel(n_jobs=-1)]: Done 50016 tasks      | elapsed:   45.6s\n",
      "[Parallel(n_jobs=-1)]: Done 71616 tasks      | elapsed:  1.1min\n",
      "[Parallel(n_jobs=-1)]: Done 72776 out of 72776 | elapsed:  1.1min finished\n"
     ]
    }
   ],
   "source": [
    "if 1:\n",
    "    import glob\n",
    "    import joblib\n",
    "    import os\n",
    "    from PIL import Image\n",
    "    import imagehash\n",
    "    from tqdm.auto import tqdm\n",
    "\n",
    "    paths = glob.glob('../input/petfinder-adoption-prediction/*/*jpg')\n",
    "\n",
    "    result = joblib.Parallel(n_jobs=-1, verbose=1)(joblib.delayed(lambda x: imagehash.average_hash(Image.open(x)))(path) for path in paths)\n",
    "\n",
    "\n",
    "    tmp = pd.DataFrame()\n",
    "    tmp['path'] = paths\n",
    "    tmp['hash'] = result\n",
    "    tmp['hash'] = tmp['hash'].astype(str)\n",
    "\n",
    "    tmp['is_train'] = tmp['path'].str.find('train') > -1\n",
    "    tmp['is_test'] = tmp['path'].str.find('test') > -1\n",
    "    tmp['idx'] = tmp['path'].map(lambda x: int(x.split('-')[-1][:-4]))\n",
    "    tmp['PetID'] = tmp['path'].map(lambda x: x.split('/')[-1].split('-')[0])\n",
    "    \n",
    "    df1_train = pd.read_csv('../input/petfinder-adoption-prediction/train/train.csv')\n",
    "    df1_test = pd.read_csv('../input/petfinder-adoption-prediction/test/test.csv')\n",
    "    \n",
    "    aaa = [df1_test['PetID'].map(pd.read_csv(path, index_col='PetID')['AdoptionSpeed']).values\n",
    "     for path in glob.glob('../input/pet-data/prev*.csv')]\n",
    "    aaa = np.mean([t for t in aaa if not np.isnan(t.sum())], axis=0)\n",
    "\n",
    "    df1_test['AdoptionSpeed'] = aaa\n",
    "\n",
    "    df1_train = pd.merge(tmp, df1_train, how='left', on='PetID')\n",
    "\n",
    "    df1['is_train'] = df1['is_train'].astype(np.float32)\n",
    "    df1['is_test'] = df1['is_train'].astype(np.float32)\n",
    "    df1['hash'] = df1['hash'].astype(str)\n",
    "    df1 = df1[(df1['is_train'] > 0 ) | (~df1['hash'].isin(df1.loc[df1['is_train'] > 0, 'hash']))].reset_index(drop=True)\n",
    "    df1.to_csv('df1_train_test_v4.csv', index=False)"
   ]
  },
  {
   "cell_type": "code",
   "execution_count": 3,
   "id": "7ae71b09-cdd2-41ef-b3f9-d001fb85af8a",
   "metadata": {},
   "outputs": [],
   "source": [
    "import os\n",
    "from PIL import Image\n",
    "import imagehash\n",
    "from tqdm.auto import tqdm\n",
    "\n",
    "if 0:\n",
    "    df1 = pd.read_csv('../input/petfinder-adoption-prediction/train/train.csv')\n",
    "    df1['path'] = '../input/petfinder-adoption-prediction/train_images/' + df1['PetID'] + '-1.jpg'\n",
    "    df1 = df1[df1['path'].map(os.path.exists)]\n",
    "\n",
    "    df2 = pd.read_csv('../input/petfinder-pawpularity-score/train.csv')\n",
    "    df2['path'] = df2['Id'].map(lambda x:str(f'../input/petfinder-pawpularity-score/train/{x}.jpg'))\n",
    "\n",
    "    df1['hash'] = [imagehash.average_hash(Image.open(x))\n",
    "                        for x in tqdm(df1['path'].values)]\n",
    "    df2['hash'] = [imagehash.average_hash(Image.open(x))\n",
    "                        for x in tqdm(df2['path'].values)]\n",
    "    #train_df_prev['hash'] = [imagehash.average_hash(Image.open(x))\n",
    "    #                    for x in tqdm(train_df_prev['path'].values)]\n",
    "\n",
    "    df1.to_csv('df1.csv', index=False)\n",
    "    df2.to_csv('df2.csv', index=False)\n",
    "else:\n",
    "    df1 = pd.read_csv('df1_train_test.csv')\n",
    "    df2 = pd.read_csv('df2.csv')"
   ]
  },
  {
   "cell_type": "code",
   "execution_count": 4,
   "id": "b8808a1f-1264-40c5-b2cf-7511c7ac79fe",
   "metadata": {},
   "outputs": [
    {
     "data": {
      "text/plain": [
       "((72776, 29), 70437)"
      ]
     },
     "execution_count": 4,
     "metadata": {},
     "output_type": "execute_result"
    }
   ],
   "source": [
    "df1.shape, df1.hash.nunique()"
   ]
  },
  {
   "cell_type": "code",
   "execution_count": 5,
   "id": "836756a6-0f40-4e8a-ba86-de0447fa3f87",
   "metadata": {},
   "outputs": [],
   "source": [
    "if 0:\n",
    "    import json\n",
    "    def read_json(path):\n",
    "        try:\n",
    "            with open(path) as f:\n",
    "                dict_f = json.load(f)\n",
    "            return dict_f['documentSentiment']\n",
    "        except FileNotFoundError:\n",
    "            return {}\n",
    "    aaa = ('../input/petfinder-adoption-prediction/train_sentiment/' + df1['PetID'] + '.json').map(read_json)\n",
    "    tmp = pd.DataFrame(aaa.values.tolist())\n",
    "    df1 = pd.concat([df1, tmp], axis=1)"
   ]
  },
  {
   "cell_type": "code",
   "execution_count": 58,
   "id": "5794088a-5d70-494a-8a1f-d6b4fd126c81",
   "metadata": {},
   "outputs": [
    {
     "name": "stdout",
     "output_type": "stream",
     "text": [
      "(72686, 6610)\n"
     ]
    }
   ],
   "source": [
    "if 1:\n",
    "    from sklearn.feature_extraction.text import TfidfVectorizer\n",
    "    model = TfidfVectorizer(stop_words=None,#np.load('stop_words.npy').tolist(),\n",
    "                                binary=False,\n",
    "                                norm=None,#'l1',\n",
    "                                #analyzer='char_wb',\n",
    "                                #ngram_range=(2, 5),\n",
    "                                # tokenizer=tokenizer,\n",
    "                                # max_features=50000,\n",
    "                                #max_df=50,\n",
    "                                min_df=2,\n",
    "                                dtype=np.float32)\n",
    "\n",
    "    #data = model.fit_transform(df1['Description'].fillna('').str.lower().values)\n",
    "    #df1['desc_sum'] = np.array(data.sum(axis=1))[:, 0]\n",
    "    #df1['desc_max'] = np.array(data.max(axis=1).todense())[:, 0]\n",
    "    #df1['desc_mean'] = df1['desc_sum'] / (data.getnnz(axis=1))\n",
    "\n",
    "\n",
    "    data = model.fit_transform(df1['Name'].fillna('').str.lower().values)\n",
    "    print(data.shape)\n",
    "    df1['name_sum'] = np.array(data.sum(axis=1))[:, 0]\n",
    "    df1['name_max'] = np.array(data.max(axis=1).todense())[:, 0]\n",
    "    df1['name_mean'] =  df1['name_sum'] / data.getnnz(axis=1)"
   ]
  },
  {
   "cell_type": "code",
   "execution_count": 60,
   "id": "344f0a50-6ae4-4735-aa7f-c3fd45081d3f",
   "metadata": {},
   "outputs": [
    {
     "data": {
      "text/plain": [
       "matrix([[63.448727],\n",
       "        [30.17784 ],\n",
       "        [ 9.796022],\n",
       "        ...,\n",
       "        [ 0.      ],\n",
       "        [ 9.303546],\n",
       "        [31.719341]], dtype=float32)"
      ]
     },
     "execution_count": 60,
     "metadata": {},
     "output_type": "execute_result"
    }
   ],
   "source": [
    "np.norm(data)"
   ]
  },
  {
   "cell_type": "code",
   "execution_count": 7,
   "id": "de1d1715-2230-43cc-8634-7ca65866af73",
   "metadata": {},
   "outputs": [],
   "source": [
    "if 0:\n",
    "    #vocab = ['abandoned', 'active', 'adopt', 'adopted', 'adoption', 'after', 'all', 'an', 'and', 'are', 'as', 'at', 'be', 'been', 'being', 'bring', 'but', 'by', 'call', 'can', 'care', 'cat', 'contact', 'cute', 'dog', 'family', 'for', 'forever', 'found', 'from', 'give', 'good', 'has', 'have', 'he', 'healthy', 'heavy', 'her', 'him', 'home', 'if', 'in', 'interested', 'is', 'it', 'likes', 'looking', 'loving', 'male', 'me', 'months', 'mother', 'must', 'my', 'new', 'no', 'not', 'of', 'old', 'on', 'or', 'other', 'out', 'playful', 'please', 'puppy', 'rescued', 'she', 'so', 'spayed', 'take', 'than', 'that', 'the', 'they', 'this', 'to', 'trained', 'vaccination', 'very', 'visit', 'was', 'we', 'well', 'whatsapp', 'who', 'will', 'with', 'would', 'you']\n",
    "    vocab = ['active', 'adopt', 'adoption', 'all', 'an', 'and', 'are', 'as', 'at', 'be', 'bring', 'but', 'by', 'call', 'can', 'care', 'cat', 'contact', 'cute', 'dog', 'family', 'for', 'from', 'give', 'good', 'has', 'have', 'he', 'healthy', 'her', 'him', 'home', 'if', 'in', 'interested', 'is', 'it', 'looking', 'loving', 'me', 'must', 'my', 'no', 'not', 'of', 'old', 'on', 'or', 'playful', 'please', 'rescued', 'she', 'spayed', 'that', 'the', 'they', 'this', 'to', 'trained', 'very', 'was', 'we', 'whatsapp', 'will', 'with', 'you']\n",
    "    #vocab = ['active', 'adopt', 'adoption', 'all', 'an', 'and', 'are', 'as', 'at', 'be', 'bring', 'but', 'by', 'can', 'care', 'cat', 'contact', 'cute', 'dog', 'family', 'for', 'give', 'good', 'has', 'have', 'he', 'healthy', 'her', 'him', 'home', 'if', 'in', 'interested', 'is', 'it', 'looking', 'loving', 'me', 'must', 'my', 'no', 'not', 'of', 'old', 'on', 'or', 'playful', 'please', 'rescued', 'she', 'spayed', 'that', 'the', 'they', 'this', 'to', 'trained', 'very', 'was', 'we', 'will', 'with', 'you']\n",
    "    model = TfidfVectorizer(stop_words=None,#np.load('stop_words.npy').tolist(),\n",
    "                                binary=False,\n",
    "                                #norm='l1',\n",
    "                                #analyzer='char_wb',\n",
    "                                #ngram_range=(2, 5),\n",
    "                                # tokenizer=tokenizer,\n",
    "                                # max_features=50000,\n",
    "                                #max_df=50,\n",
    "                                #vocabulary=vocab,\n",
    "                                min_df=2,\n",
    "                                dtype=np.float32)\n",
    "\n",
    "    tmp = df1['Description'].fillna('').str.lower()# + ' ' + df1['Name'].fillna('').str.lower() \n",
    "    #data = model.fit_transform(df1['Description'].fillna('').str.lower().values)\n",
    "    data = model.fit_transform(tmp.values)\n",
    "\n",
    "    map_i2w = {v:k for k, v in model.vocabulary_.items()}\n",
    "    #data = np.array(data.todense())\n",
    "\n",
    "    if 1:\n",
    "        for w in vocab:\n",
    "            if w in model.vocabulary_:\n",
    "                df1[f'tfidf_{w}'] = np.array(data[:, model.vocabulary_[w]].todense())\n",
    "    else:\n",
    "        for w, i in model.vocabulary_.items():\n",
    "            df1[f'tfidf_{w}'] = np.array(data[:, i].todense())\n",
    "\n",
    "    #for w in ['white', 'boy']:\n",
    "    #    df1[f'tfidf_{w}'] = np.array(data[:, model.vocabulary_[w]].todense())\n",
    "\n"
   ]
  },
  {
   "cell_type": "code",
   "execution_count": 8,
   "id": "e099d7b0-6cb0-4c7c-8487-aca6c8c810a2",
   "metadata": {},
   "outputs": [],
   "source": [
    "#!pip install -U transformers"
   ]
  },
  {
   "cell_type": "code",
   "execution_count": 9,
   "id": "b34f8295-7e1f-4fa9-8f51-5b53d979b7fe",
   "metadata": {},
   "outputs": [
    {
     "data": {
      "text/plain": [
       "'4.15.0'"
      ]
     },
     "execution_count": 9,
     "metadata": {},
     "output_type": "execute_result"
    }
   ],
   "source": [
    "import transformers\n",
    "transformers.__version__"
   ]
  },
  {
   "cell_type": "code",
   "execution_count": 10,
   "id": "18dc52bc-087a-4451-9010-6ddcc9862aaa",
   "metadata": {},
   "outputs": [],
   "source": [
    "#df2 = pd.merge(df2, pd.read_csv('breed.csv'), how='left', on='path')"
   ]
  },
  {
   "cell_type": "code",
   "execution_count": 11,
   "id": "6eb12915-0b7b-41c0-81de-03dc792638e7",
   "metadata": {},
   "outputs": [],
   "source": [
    "#df1.to_csv('train_last_comp.csv', index=False)\n",
    "df = pd.merge(df2, df1, how='left', on='hash')"
   ]
  },
  {
   "cell_type": "code",
   "execution_count": 12,
   "id": "b8224255-2073-40c0-86e0-23de607be00b",
   "metadata": {},
   "outputs": [],
   "source": [
    "df['len_desc'] = df['Description'].fillna('').map(len)\n",
    "df['len_word_desc'] = df['Description'].fillna('').map(lambda x: len(x.split()))\n",
    "for n in ['No Name Yet']:#, 'No Name', 'Unknown']:\n",
    "    df['Name'] = df['Name'].fillna('').replace(n, '')\n",
    "df['len_name'] = df['Name'].map(len)\n",
    "df['len_word_name'] = df['Name'].fillna('').map(lambda x: len(x.split()))\n",
    "\n",
    "df['cnt_RescuerID'] = df['RescuerID'].map(df1['RescuerID'].value_counts())"
   ]
  },
  {
   "cell_type": "code",
   "execution_count": 13,
   "id": "158e843a-9e34-4773-9b77-c0c907d9ee85",
   "metadata": {},
   "outputs": [],
   "source": [
    "#df = pd.read_csv('../exps/exp1_swin_large_patch4_window12_384/train_cv_score.csv')\n",
    "#df = pd.read_csv('ens_exp15.csv')"
   ]
  },
  {
   "cell_type": "code",
   "execution_count": 14,
   "id": "c7dbb7d2-d233-4734-998b-b07edff10eb0",
   "metadata": {},
   "outputs": [
    {
     "data": {
      "text/plain": [
       "0        0.471986\n",
       "1        0.402806\n",
       "2        0.440848\n",
       "3        0.603114\n",
       "4        0.386127\n",
       "           ...   \n",
       "10013    0.276084\n",
       "10014    0.371682\n",
       "10015    0.293679\n",
       "10016    0.469386\n",
       "10017    0.434194\n",
       "Name: pred, Length: 10018, dtype: float64"
      ]
     },
     "execution_count": 14,
     "metadata": {},
     "output_type": "execute_result"
    }
   ],
   "source": [
    "df['pred'] = df['path_x'].map(pd.read_csv('ens_exp15.csv', index_col='path')['pred'])\n",
    "df['pred'] += df['path_x'].map(pd.read_csv('ens_exp9.csv', index_col='path')['pred'])\n",
    "df['pred'] /= 2\n",
    "df['pred']"
   ]
  },
  {
   "cell_type": "code",
   "execution_count": 15,
   "id": "ee4709c1-b656-4854-abf2-28b3fd48fe6e",
   "metadata": {},
   "outputs": [],
   "source": [
    "if 0:\n",
    "    from transformers import pipeline, AutoTokenizer\n",
    "    model_name = \"bert-base-multilingual-uncased\"\n",
    "    #tokenizer = AutoTokenizer.from_pretrained(model_name, max_length=512)\n",
    "    feature_extraction = pipeline('feature-extraction', model=model_name, tokenizer=model_name, padding=True, truncation=True, device=0)\n",
    "    features = feature_extraction(df['Name'].fillna('').str.lower().values.tolist())\n",
    "    #features = feature_extraction(df['Description'].fillna('').str.lower().values.tolist())\n",
    "\n",
    "    data = np.stack([np.mean(f[0], axis=0) for f in features])\n",
    "    for i in range(data.shape[1]):\n",
    "        df[f'bert_{i}'] = data[:, i]"
   ]
  },
  {
   "cell_type": "code",
   "execution_count": 16,
   "id": "3bc968c2-28f2-4a04-b308-10456dfd1482",
   "metadata": {},
   "outputs": [
    {
     "name": "stderr",
     "output_type": "stream",
     "text": [
      "/opt/conda/lib/python3.7/site-packages/sklearn/model_selection/_split.py:672: UserWarning: The least populated class in y has only 4 members, which is less than n_splits=5.\n",
      "  % (min_groups, self.n_splits)), UserWarning)\n"
     ]
    }
   ],
   "source": [
    "from sklearn.model_selection import KFold\n",
    "from sklearn.model_selection import StratifiedKFold\n",
    "\n",
    "df['fold'] = -1\n",
    "\n",
    "\n",
    "N_FOLDS = 5\n",
    "strat_kfold = StratifiedKFold(n_splits=5, random_state=365, shuffle=True)\n",
    "for i, (_, train_index) in enumerate(strat_kfold.split(df.index, df['Pawpularity'])):\n",
    "    df.loc[train_index, 'fold'] = i"
   ]
  },
  {
   "cell_type": "code",
   "execution_count": 17,
   "id": "7853b4fd-f063-41f0-ab2f-9c3292b93f12",
   "metadata": {},
   "outputs": [],
   "source": [
    "COL_FEATURES = ['Blur', \n",
    "                #'Face', \n",
    "                #'Occlusion',\n",
    "                'Eyes',\n",
    "                #'Accessory',\n",
    "               #'Group',\n",
    "                #'Human',\n",
    "                #'Near',\n",
    "                #'Collage',\n",
    "                #'Info',# \n",
    "                #'Action',\n",
    "                \n",
    "                'pred',\n",
    "                \n",
    "                'len_desc', 'len_name', \n",
    "                #'breed_label',# 'breed_prob',\n",
    "                #'len_word_desc', 'len_word_name',\n",
    "                #'isin'\n",
    "                #'breed_label', 'breed_prob',\n",
    "                #'img_h', 'img_w',\n",
    "                #'det_label', 'det_left', 'det_top', 'det_right', 'det_bottom', 'det_prob'\n",
    "               ] + df1.drop(['Name', 'RescuerID', 'Description', 'PetID', 'path', 'hash',\n",
    "                             'Type', 'VideoAmt', 'Sterilized', 'MaturitySize', 'Health', 'Dewormed',# 'Breed1'\n",
    "                             #'is_train', 'is_test', 'idx',\n",
    "                            ], axis=1, errors='ignore').columns.tolist() + [c for c in df.columns if 'bert_' in c]\n",
    "\n",
    "#COL_FEATURES = COL_FEATURES[:7]"
   ]
  },
  {
   "cell_type": "code",
   "execution_count": 18,
   "id": "06c985aa-3d6f-4e9f-b33f-ed34b6408263",
   "metadata": {},
   "outputs": [],
   "source": [
    "if df['Pawpularity'].values.min() == 0:\n",
    "    df['Pawpularity'] += 1"
   ]
  },
  {
   "cell_type": "code",
   "execution_count": 19,
   "id": "fa350009-717a-4737-a6f3-9ee1fd900de7",
   "metadata": {},
   "outputs": [],
   "source": [
    "def rmse(preds, train_data):\n",
    "    labels = train_data.get_label()\n",
    "    #import pdb;pdb.set_trace()\n",
    "    loss = np.sqrt(((labels - preds.clip(0.01, 1)) ** 2).mean()) * 100\n",
    "    \n",
    "    #loss = np.sqrt(((labels - preds.reshape(-1, 100).argmax(axis=1)) ** 2).mean())\n",
    "    return 'rmse', loss, False\n",
    "\n",
    "\n",
    "def train(fold, param):\n",
    "     \n",
    "    X_train = df.loc[df['fold'] != fold, COL_FEATURES]\n",
    "    y_train = df.loc[df['fold'] != fold, 'Pawpularity'].values  / 100\n",
    "    \n",
    "    X_valid = df.loc[df['fold'] == fold, COL_FEATURES]\n",
    "    y_valid = df.loc[df['fold'] == fold, 'Pawpularity'].values  / 100\n",
    "    \n",
    "    train_data = lgb.Dataset(X_train, label=y_train)\n",
    "    valid_data = lgb.Dataset(X_valid, label=y_valid)\n",
    "    \n",
    "    model = lgb.train(param,\n",
    "                      train_data,\n",
    "                      valid_sets=valid_data,\n",
    "                      #early_stopping_rounds=50,\n",
    "                      verbose_eval=1000,\n",
    "                      feval=rmse\n",
    "                      )\n",
    "    return model\n",
    "\n",
    "def train_all(param):\n",
    "     \n",
    "    X_train = df.loc[:, COL_FEATURES]\n",
    "    y_train = df.loc[:, 'Pawpularity'].values  / 100\n",
    "    \n",
    "    X_valid = df.loc[:, COL_FEATURES]\n",
    "    y_valid = df.loc[:, 'Pawpularity'].values  / 100\n",
    "    \n",
    "    train_data = lgb.Dataset(X_train, label=y_train)\n",
    "    valid_data = lgb.Dataset(X_valid, label=y_valid)\n",
    "    \n",
    "    model = lgb.train(param,\n",
    "                      train_data,\n",
    "                      valid_sets=valid_data,\n",
    "                      early_stopping_rounds=50,\n",
    "                      verbose_eval=1000,\n",
    "                      feval=rmse\n",
    "                      )\n",
    "    return model"
   ]
  },
  {
   "cell_type": "code",
   "execution_count": 20,
   "id": "bd671d69-c6ee-4881-a5c9-a87de117e6a4",
   "metadata": {},
   "outputs": [],
   "source": [
    "all_params = {'objective': ['tweedie'],\n",
    "              'tweedie_variance_power': [1.2],\n",
    "             'verbosity': [-1],\n",
    "             'boosting_type': ['gbdt'],\n",
    "             'feature_pre_filter': [False],\n",
    "             #'bagging_fraction': [0.7, 0.8, 0.9, 1],\n",
    "             'bagging_freq': [1],\n",
    "             'num_iterations': [10000],\n",
    "             'early_stopping_round': [100],\n",
    "             'n_jobs': [16],\n",
    "             'seed': [114],\n",
    "             'metric':  ['None'],  # trial.suggest_categorical('metric', ['auc', 'binary_logloss', ]), #'auc',\n",
    "             'learning_rate': [0.05],\n",
    "              'lambda_l1': [0],\n",
    "              'lambda_l2': [1],\n",
    "              'min_child_samples': [170],\n",
    "              'num_leaves': [7],\n",
    "              'feature_fraction': [0.8],\n",
    "              'min_gain_to_split': [0.02],\n",
    "              'linear_tree': [False],\n",
    "              #'max_bins': [8, 16, 32, 62, 128, 256, 512]\n",
    "             }"
   ]
  },
  {
   "cell_type": "code",
   "execution_count": 21,
   "id": "eb9d4d7f-6a80-46d3-99dd-8577a97a2189",
   "metadata": {
    "tags": []
   },
   "outputs": [
    {
     "data": {
      "application/vnd.jupyter.widget-view+json": {
       "model_id": "fb26dc0249014aedb53e447918832e10",
       "version_major": 2,
       "version_minor": 0
      },
      "text/plain": [
       "  0%|          | 0/1 [00:00<?, ?it/s]"
      ]
     },
     "metadata": {},
     "output_type": "display_data"
    },
    {
     "name": "stderr",
     "output_type": "stream",
     "text": [
      "/opt/conda/lib/python3.7/site-packages/lightgbm/engine.py:177: UserWarning: Found `num_iterations` in params. Will use it instead of argument\n",
      "  _log_warning(f\"Found `{alias}` in params. Will use it instead of argument\")\n",
      "/opt/conda/lib/python3.7/site-packages/lightgbm/engine.py:239: UserWarning: 'verbose_eval' argument is deprecated and will be removed in a future release of LightGBM. Pass 'log_evaluation()' callback via 'callbacks' argument instead.\n",
      "  _log_warning(\"'verbose_eval' argument is deprecated and will be removed in a future release of LightGBM. \"\n"
     ]
    },
    {
     "name": "stdout",
     "output_type": "stream",
     "text": [
      "{'bagging_freq': 1, 'boosting_type': 'gbdt', 'early_stopping_round': 100, 'feature_fraction': 0.8, 'feature_pre_filter': False, 'lambda_l1': 0, 'lambda_l2': 1, 'learning_rate': 0.05, 'linear_tree': False, 'metric': 'None', 'min_child_samples': 170, 'min_gain_to_split': 0.02, 'n_jobs': 16, 'num_iterations': 10000, 'num_leaves': 7, 'objective': 'tweedie', 'seed': 114, 'tweedie_variance_power': 1.2, 'verbosity': -1}\n",
      "Training until validation scores don't improve for 100 rounds\n",
      "Early stopping, best iteration is:\n",
      "[60]\tvalid_0's rmse: 17.485\n",
      "Training until validation scores don't improve for 100 rounds\n",
      "Early stopping, best iteration is:\n",
      "[124]\tvalid_0's rmse: 16.7592\n",
      "Training until validation scores don't improve for 100 rounds\n",
      "Early stopping, best iteration is:\n",
      "[107]\tvalid_0's rmse: 17.0413\n",
      "Training until validation scores don't improve for 100 rounds\n",
      "Early stopping, best iteration is:\n",
      "[151]\tvalid_0's rmse: 17.4323\n",
      "Training until validation scores don't improve for 100 rounds\n",
      "Early stopping, best iteration is:\n",
      "[148]\tvalid_0's rmse: 17.018\n"
     ]
    }
   ],
   "source": [
    "best_score = 1.0e10\n",
    "best_param = None\n",
    "for param in tqdm(ParameterGrid(all_params)):\n",
    "    print(param)\n",
    "    list_loss = []\n",
    "    list_imp = []\n",
    "    list_num = []\n",
    "    for fold in range(5):\n",
    "        model = train(fold, param)\n",
    "        sc = model.best_score['valid_0']['rmse']# * 100\n",
    "        list_loss.append(sc)\n",
    "        list_num.append(model.best_iteration)\n",
    "        \n",
    "        imp = pd.DataFrame(model.feature_importance(importance_type='gain'), columns=['imp'])\n",
    "        imp['col'] = COL_FEATURES\n",
    "        list_imp.append(imp.set_index('col'))\n",
    "    sc = np.mean(list_loss)\n",
    "    if sc < best_score:\n",
    "        best_score = sc\n",
    "        best_param = param"
   ]
  },
  {
   "cell_type": "code",
   "execution_count": 22,
   "id": "67f04282-698e-499c-8a9a-37686c5f1a16",
   "metadata": {},
   "outputs": [
    {
     "name": "stdout",
     "output_type": "stream",
     "text": [
      "{'bagging_freq': 1, 'boosting_type': 'gbdt', 'early_stopping_round': 100, 'feature_fraction': 0.8, 'feature_pre_filter': False, 'lambda_l1': 0, 'lambda_l2': 1, 'learning_rate': 0.05, 'linear_tree': False, 'metric': 'None', 'min_child_samples': 170, 'min_gain_to_split': 0.02, 'n_jobs': 16, 'num_iterations': 10000, 'num_leaves': 7, 'objective': 'tweedie', 'seed': 114, 'tweedie_variance_power': 1.2, 'verbosity': -1}\n",
      "17.147163499364762\n"
     ]
    }
   ],
   "source": [
    "17.122953793907463\n",
    "17.12237161917507\n",
    "17.12206798235878\n",
    "17.118772493988214\n",
    "17.11253518980743\n",
    "17.10951939364919\n",
    "17.10667371043545\n",
    "print(best_param)\n",
    "print(best_score)"
   ]
  },
  {
   "cell_type": "code",
   "execution_count": 23,
   "id": "81ed8bf9-c750-4e4d-85d7-3a71292422b9",
   "metadata": {},
   "outputs": [],
   "source": [
    "best_param['num_iterations'] = round(np.mean(list_num) * 1.1)"
   ]
  },
  {
   "cell_type": "code",
   "execution_count": 24,
   "id": "5cca590f-49d1-49e0-8ef8-f02a32067004",
   "metadata": {},
   "outputs": [
    {
     "name": "stdout",
     "output_type": "stream",
     "text": [
      "Training until validation scores don't improve for 100 rounds\n",
      "Did not meet early stopping. Best iteration is:\n",
      "[130]\tvalid_0's rmse: 16.8588\n"
     ]
    },
    {
     "name": "stderr",
     "output_type": "stream",
     "text": [
      "/opt/conda/lib/python3.7/site-packages/lightgbm/engine.py:181: UserWarning: 'early_stopping_rounds' argument is deprecated and will be removed in a future release of LightGBM. Pass 'early_stopping()' callback via 'callbacks' argument instead.\n",
      "  _log_warning(\"'early_stopping_rounds' argument is deprecated and will be removed in a future release of LightGBM. \"\n"
     ]
    }
   ],
   "source": [
    "model = train_all(best_param)"
   ]
  },
  {
   "cell_type": "code",
   "execution_count": 25,
   "id": "5f98a767-4ac0-49e9-b040-073f23770ee4",
   "metadata": {},
   "outputs": [
    {
     "data": {
      "text/plain": [
       "17.26982888789386"
      ]
     },
     "execution_count": 25,
     "metadata": {},
     "output_type": "execute_result"
    }
   ],
   "source": [
    "aaa = 0\n",
    "for i in range(5):\n",
    "    aaa += np.sqrt(((df.loc[df['fold']==i, 'pred'] * 100 - df.loc[df['fold']==i, 'Pawpularity']) ** 2).mean())\n",
    "aaa / 5"
   ]
  },
  {
   "cell_type": "code",
   "execution_count": 26,
   "id": "e43a7add-0935-4645-93f2-e283bc54cc83",
   "metadata": {},
   "outputs": [],
   "source": [
    "with open('models/model_lgb_last_comp_all.pkl', 'wb') as f:\n",
    "    pickle.dump(model, f, -1)"
   ]
  },
  {
   "cell_type": "code",
   "execution_count": 27,
   "id": "7a3d00a0-a4cd-4955-89c2-3f4f9940c0a3",
   "metadata": {
    "tags": []
   },
   "outputs": [
    {
     "data": {
      "text/plain": [
       "<Figure size 576x432 with 0 Axes>"
      ]
     },
     "metadata": {},
     "output_type": "display_data"
    },
    {
     "data": {
      "image/png": "[encoded data removed]",
      "text/plain": [
       "<Figure size 432x288 with 1 Axes>"
      ]
     },
     "metadata": {
      "needs_background": "light"
     },
     "output_type": "display_data"
    }
   ],
   "source": [
    "#imp = pd.DataFrame(model.feature_importance(importance_type='gain'), columns=['imp'])\n",
    "#imp['col'] = COL_FEATURES\n",
    "import matplotlib.pyplot as plt\n",
    "plt.figure(figsize=(8, 6))\n",
    "pd.options.display.max_rows = 3000\n",
    "imp = sum(list_imp) / 5\n",
    "#imp = imp[imp.imp > 0]\n",
    "imp.sort_values('imp', ascending=True).tail(20).plot(kind='barh')\n",
    "plt.show()"
   ]
  },
  {
   "cell_type": "code",
   "execution_count": 28,
   "id": "f8ce748a-2d6a-490b-85a8-0f4f82cad39c",
   "metadata": {},
   "outputs": [
    {
     "name": "stdout",
     "output_type": "stream",
     "text": [
      "[]\n"
     ]
    }
   ],
   "source": [
    "print([c[6:] for c in imp.index if 'tfidf_' in c])"
   ]
  },
  {
   "cell_type": "code",
   "execution_count": 29,
   "id": "fb92f49a-52c1-4c24-b0ac-f6350c3f751b",
   "metadata": {},
   "outputs": [
    {
     "name": "stdout",
     "output_type": "stream",
     "text": [
      "[]\n"
     ]
    }
   ],
   "source": [
    "print([c for c in imp.index if 'tfidf_name_' in c])"
   ]
  },
  {
   "cell_type": "code",
   "execution_count": 30,
   "id": "2b41f27a-0dc8-4f76-acee-3cdc28fa9562",
   "metadata": {},
   "outputs": [
    {
     "data": {
      "text/plain": [
       "0        102\n",
       "1        601\n",
       "2         88\n",
       "3          0\n",
       "4          0\n",
       "        ... \n",
       "10013      0\n",
       "10014      0\n",
       "10015      0\n",
       "10016    157\n",
       "10017      0\n",
       "Name: len_desc, Length: 10018, dtype: int64"
      ]
     },
     "execution_count": 30,
     "metadata": {},
     "output_type": "execute_result"
    }
   ],
   "source": [
    "df.len_desc"
   ]
  },
  {
   "cell_type": "code",
   "execution_count": 31,
   "id": "b721e93b-6d0a-4be5-a713-c2357bd79578",
   "metadata": {},
   "outputs": [
    {
     "data": {
      "text/plain": [
       "['Blur',\n",
       " 'Eyes',\n",
       " 'pred',\n",
       " 'len_desc',\n",
       " 'len_name',\n",
       " 'is_train',\n",
       " 'is_test',\n",
       " 'idx',\n",
       " 'Age',\n",
       " 'Breed1',\n",
       " 'Breed2',\n",
       " 'Gender',\n",
       " 'Color1',\n",
       " 'Color2',\n",
       " 'Color3',\n",
       " 'FurLength',\n",
       " 'Vaccinated',\n",
       " 'Quantity',\n",
       " 'Fee',\n",
       " 'State',\n",
       " 'PhotoAmt',\n",
       " 'AdoptionSpeed']"
      ]
     },
     "execution_count": 31,
     "metadata": {},
     "output_type": "execute_result"
    }
   ],
   "source": [
    "model.feature_name()"
   ]
  }
 ],
 "metadata": {
  "kernelspec": {
   "display_name": "Python 3 (ipykernel)",
   "language": "python",
   "name": "python3"
  },
  "language_info": {
   "codemirror_mode": {
    "name": "ipython",
    "version": 3
   },
   "file_extension": ".py",
   "mimetype": "text/x-python",
   "name": "python",
   "nbconvert_exporter": "python",
   "pygments_lexer": "ipython3",
   "version": "3.7.12"
  }
 },
 "nbformat": 4,
 "nbformat_minor": 5
}
