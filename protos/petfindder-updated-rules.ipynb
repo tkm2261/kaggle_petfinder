{
 "cells": [
  {
   "cell_type": "markdown",
   "metadata": {
    "editable": true,
    "id": "8o93AxwOj7s3"
   },
   "source": [
    "![](data:image/jpeg;base64,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)\n",
    "\n",
    "# PLEASE CHECKOUT MY NEW DATASET\n",
    "- https://www.kaggle.com/keagle/mountains-dataset-with-coordinates-and-countries\n",
    "- https://www.kaggle.com/keagle/list-of-indian-festivals-for-2022\n",
    "\n",
    "Based on previous works\n",
    "# Petfinder.my - Pawpularity Contest: Simple EDA and fastai starter"
   ]
  },
  {
   "cell_type": "markdown",
   "metadata": {
    "editable": true,
    "id": "FgtczX04j7s_"
   },
   "source": [
    "## A look at the data\n",
    "Let's start out by setting up our environment by importing the required modules and setting a random seed:"
   ]
  },
  {
   "cell_type": "code",
   "execution_count": null,
   "metadata": {},
   "outputs": [],
   "source": [
    "!pip3 install torch==1.10.0+cu113 torchvision==0.11.1+cu113 torchaudio==0.10.0+cu113 -f https://download.pytorch.org/whl/cu113/torch_stable.html"
   ]
  },
  {
   "cell_type": "code",
   "execution_count": null,
   "metadata": {
    "editable": true,
    "execution": {
     "iopub.execute_input": "2021-11-16T06:54:48.79868Z",
     "iopub.status.busy": "2021-11-16T06:54:48.797885Z",
     "iopub.status.idle": "2021-11-16T06:54:56.131306Z",
     "shell.execute_reply": "2021-11-16T06:54:56.13032Z",
     "shell.execute_reply.started": "2021-11-16T06:54:48.798581Z"
    },
    "id": "hQQX6Ci5j7tA"
   },
   "outputs": [],
   "source": [
    "import sys\n",
    "sys.path.append('../input/timm-pytorch-image-models/pytorch-image-models-master')\n",
    "from timm import create_model"
   ]
  },
  {
   "cell_type": "code",
   "execution_count": null,
   "metadata": {
    "_cell_guid": "b1076dfc-b9ad-4769-8c92-a6c4dae69d19",
    "_uuid": "8f2839f25d086af736a60e9eeb907d3b93b6e0e5",
    "editable": true,
    "execution": {
     "iopub.execute_input": "2021-11-16T06:54:56.133926Z",
     "iopub.status.busy": "2021-11-16T06:54:56.133637Z",
     "iopub.status.idle": "2021-11-16T06:54:56.92357Z",
     "shell.execute_reply": "2021-11-16T06:54:56.922797Z",
     "shell.execute_reply.started": "2021-11-16T06:54:56.133887Z"
    },
    "id": "-gR0g0B6j7tC"
   },
   "outputs": [],
   "source": [
    "from fastai.vision.all import *"
   ]
  },
  {
   "cell_type": "code",
   "execution_count": null,
   "metadata": {
    "editable": true,
    "execution": {
     "iopub.execute_input": "2021-11-16T06:54:56.930719Z",
     "iopub.status.busy": "2021-11-16T06:54:56.930465Z",
     "iopub.status.idle": "2021-11-16T06:54:56.935403Z",
     "shell.execute_reply": "2021-11-16T06:54:56.934583Z",
     "shell.execute_reply.started": "2021-11-16T06:54:56.930684Z"
    },
    "id": "XG-mT90fj7tD"
   },
   "outputs": [],
   "source": [
    "set_seed(999, reproducible=True)\n",
    "BATCH_SIZE = 32"
   ]
  },
  {
   "cell_type": "markdown",
   "metadata": {
    "editable": true,
    "id": "sqWTG_VQj7tE"
   },
   "source": [
    "Let's check what data is available to us:"
   ]
  },
  {
   "cell_type": "code",
   "execution_count": null,
   "metadata": {
    "editable": true,
    "execution": {
     "iopub.execute_input": "2021-11-16T06:54:56.937151Z",
     "iopub.status.busy": "2021-11-16T06:54:56.936879Z",
     "iopub.status.idle": "2021-11-16T06:54:56.952244Z",
     "shell.execute_reply": "2021-11-16T06:54:56.951232Z",
     "shell.execute_reply.started": "2021-11-16T06:54:56.937116Z"
    },
    "id": "1QnC7Qo9j7tE"
   },
   "outputs": [],
   "source": [
    "dataset_path = Path('../input/petfinder-pawpularity-score/')\n",
    "dataset_path.ls()"
   ]
  },
  {
   "cell_type": "markdown",
   "metadata": {
    "editable": true,
    "id": "WGSJZpskj7tF"
   },
   "source": [
    "We can see that we have our train csv file with the train image names, metadata and labels, the test csv file with test image names and metadata, the sample submission csv with the test image names, and the train and test image folders.\n",
    "\n",
    "Let's check the train csv file:"
   ]
  },
  {
   "cell_type": "code",
   "execution_count": null,
   "metadata": {
    "editable": true,
    "execution": {
     "iopub.execute_input": "2021-11-16T06:54:56.954357Z",
     "iopub.status.busy": "2021-11-16T06:54:56.954075Z",
     "iopub.status.idle": "2021-11-16T06:54:57.005808Z",
     "shell.execute_reply": "2021-11-16T06:54:57.005054Z",
     "shell.execute_reply.started": "2021-11-16T06:54:56.95432Z"
    },
    "id": "n-5L27Q6j7tG"
   },
   "outputs": [],
   "source": [
    "train_df = pd.read_csv(dataset_path/'train.csv')\n",
    "train_df.head()"
   ]
  },
  {
   "cell_type": "markdown",
   "metadata": {
    "editable": true,
    "id": "rzwOX1S3j7tH"
   },
   "source": [
    "The metadata provided includes information about key visual quality and composition parameters of the photos. The Pawpularity Score is derived from the profile's page view statistics. This is the target we are aiming to predict."
   ]
  },
  {
   "cell_type": "markdown",
   "metadata": {
    "editable": true,
    "id": "hIq1S8bLj7tI"
   },
   "source": [
    "Let's do some quick processing of the image filenames to make it easier to access:"
   ]
  },
  {
   "cell_type": "code",
   "execution_count": null,
   "metadata": {
    "editable": true,
    "execution": {
     "iopub.execute_input": "2021-11-16T06:54:57.009468Z",
     "iopub.status.busy": "2021-11-16T06:54:57.009255Z",
     "iopub.status.idle": "2021-11-16T06:54:57.157758Z",
     "shell.execute_reply": "2021-11-16T06:54:57.157063Z",
     "shell.execute_reply.started": "2021-11-16T06:54:57.009443Z"
    },
    "id": "NMzpvBHIj7tJ"
   },
   "outputs": [],
   "source": [
    "train_df['path'] = train_df['Id'].map(lambda x:str(dataset_path/'train'/x)+'.jpg')\n",
    "train_df = train_df.drop(columns=['Id'])\n",
    "train_df = train_df.sample(frac=1).reset_index(drop=True) #shuffle dataframe\n",
    "train_df.head()"
   ]
  },
  {
   "cell_type": "markdown",
   "metadata": {
    "editable": true,
    "id": "CvII9oKTj7tJ"
   },
   "source": [
    "Okay, let's check how many images are available in the training dataset:"
   ]
  },
  {
   "cell_type": "code",
   "execution_count": null,
   "metadata": {
    "editable": true,
    "execution": {
     "iopub.execute_input": "2021-11-16T06:54:57.15983Z",
     "iopub.status.busy": "2021-11-16T06:54:57.159029Z",
     "iopub.status.idle": "2021-11-16T06:54:57.165046Z",
     "shell.execute_reply": "2021-11-16T06:54:57.164177Z",
     "shell.execute_reply.started": "2021-11-16T06:54:57.159788Z"
    },
    "id": "qGrQFO4_j7tK"
   },
   "outputs": [],
   "source": [
    "len_df = len(train_df)\n",
    "print(f\"There are {len_df} images\")"
   ]
  },
  {
   "cell_type": "markdown",
   "metadata": {
    "editable": true,
    "id": "vCEtwcCCj7tK"
   },
   "source": [
    "Let's check the distribution of the Pawpularity Score:"
   ]
  },
  {
   "cell_type": "code",
   "execution_count": null,
   "metadata": {
    "editable": true,
    "execution": {
     "iopub.execute_input": "2021-11-16T06:54:57.167169Z",
     "iopub.status.busy": "2021-11-16T06:54:57.166801Z",
     "iopub.status.idle": "2021-11-16T06:54:57.430516Z",
     "shell.execute_reply": "2021-11-16T06:54:57.429769Z",
     "shell.execute_reply.started": "2021-11-16T06:54:57.167061Z"
    },
    "id": "4c2S0hgQj7tL"
   },
   "outputs": [],
   "source": [
    "train_df['Pawpularity'].hist(figsize = (10, 5))\n",
    "print(f\"The mean Pawpularity score is {train_df['Pawpularity'].mean()}\")\n",
    "print(f\"The median Pawpularity score is {train_df['Pawpularity'].median()}\")\n",
    "print(f\"The standard deviation of the Pawpularity score is {train_df['Pawpularity'].std()}\")"
   ]
  },
  {
   "cell_type": "code",
   "execution_count": null,
   "metadata": {
    "editable": true,
    "execution": {
     "iopub.execute_input": "2021-11-16T06:54:57.433597Z",
     "iopub.status.busy": "2021-11-16T06:54:57.433218Z",
     "iopub.status.idle": "2021-11-16T06:54:57.441415Z",
     "shell.execute_reply": "2021-11-16T06:54:57.44059Z",
     "shell.execute_reply.started": "2021-11-16T06:54:57.433558Z"
    },
    "id": "PQ67-1dZj7tM"
   },
   "outputs": [],
   "source": [
    "print(f\"There are {len(train_df['Pawpularity'].unique())} unique values of Pawpularity score\")"
   ]
  },
  {
   "cell_type": "markdown",
   "metadata": {
    "editable": true,
    "id": "5lOzT0Fdj7tM"
   },
   "source": [
    "Note that the Pawpularity score is an integer, so in addition to being a regression problem, it could also be treated as a 100-class classification problem. Alternatively, it can be treated as a binary classification problem if the Pawpularity Score is normalized between 0 and 1:"
   ]
  },
  {
   "cell_type": "code",
   "execution_count": null,
   "metadata": {
    "editable": true,
    "execution": {
     "iopub.execute_input": "2021-11-16T06:54:57.443411Z",
     "iopub.status.busy": "2021-11-16T06:54:57.443093Z",
     "iopub.status.idle": "2021-11-16T06:54:57.455136Z",
     "shell.execute_reply": "2021-11-16T06:54:57.454134Z",
     "shell.execute_reply.started": "2021-11-16T06:54:57.443376Z"
    },
    "id": "zaBelTLwj7tN"
   },
   "outputs": [],
   "source": [
    "train_df['norm_score'] = train_df['Pawpularity']/100\n",
    "train_df['norm_score']"
   ]
  },
  {
   "cell_type": "markdown",
   "metadata": {
    "editable": true,
    "id": "rDu5zNF5j7tN"
   },
   "source": [
    "Let's check an example image to see what it looks like:"
   ]
  },
  {
   "cell_type": "code",
   "execution_count": null,
   "metadata": {
    "editable": true,
    "execution": {
     "iopub.execute_input": "2021-11-16T06:54:57.456835Z",
     "iopub.status.busy": "2021-11-16T06:54:57.456586Z",
     "iopub.status.idle": "2021-11-16T06:54:57.469495Z",
     "shell.execute_reply": "2021-11-16T06:54:57.468747Z",
     "shell.execute_reply.started": "2021-11-16T06:54:57.456803Z"
    },
    "id": "7nd404vgj7tO"
   },
   "outputs": [],
   "source": [
    "im = Image.open(train_df['path'][1])\n",
    "width, height = im.size\n",
    "print(width,height)"
   ]
  },
  {
   "cell_type": "code",
   "execution_count": null,
   "metadata": {
    "editable": true,
    "execution": {
     "iopub.execute_input": "2021-11-16T06:54:57.471286Z",
     "iopub.status.busy": "2021-11-16T06:54:57.470831Z",
     "iopub.status.idle": "2021-11-16T06:54:57.817697Z",
     "shell.execute_reply": "2021-11-16T06:54:57.809859Z",
     "shell.execute_reply.started": "2021-11-16T06:54:57.471252Z"
    },
    "id": "z96aEMCpj7tO"
   },
   "outputs": [],
   "source": [
    "im"
   ]
  },
  {
   "cell_type": "markdown",
   "metadata": {
    "editable": true,
    "id": "QhfVV0xwj7tO"
   },
   "source": [
    "## Data loading\n",
    "After my quick 'n dirty EDA, let's load the data into fastai as DataLoaders objects. We're using the normalized score as the label. I use some fairly basic augmentations here."
   ]
  },
  {
   "cell_type": "code",
   "execution_count": null,
   "metadata": {
    "editable": true,
    "execution": {
     "iopub.execute_input": "2021-11-16T06:54:57.81908Z",
     "iopub.status.busy": "2021-11-16T06:54:57.818826Z",
     "iopub.status.idle": "2021-11-16T06:55:07.477976Z",
     "shell.execute_reply": "2021-11-16T06:55:07.476949Z",
     "shell.execute_reply.started": "2021-11-16T06:54:57.819048Z"
    },
    "id": "_K9X71wkj7tP"
   },
   "outputs": [],
   "source": [
    "if not os.path.exists('/root/.cache/torch/hub/checkpoints/'):\n",
    "    os.makedirs('/root/.cache/torch/hub/checkpoints/')\n",
    "!cp '../input/swin-transformer/swin_large_patch4_window7_224_22kto1k.pth' '/root/.cache/torch/hub/checkpoints/swin_large_patch4_window7_224_22kto1k.pth'\n"
   ]
  },
  {
   "cell_type": "code",
   "execution_count": null,
   "metadata": {
    "editable": true,
    "execution": {
     "iopub.execute_input": "2021-11-16T06:55:07.481062Z",
     "iopub.status.busy": "2021-11-16T06:55:07.480753Z",
     "iopub.status.idle": "2021-11-16T06:55:07.488255Z",
     "shell.execute_reply": "2021-11-16T06:55:07.485859Z",
     "shell.execute_reply.started": "2021-11-16T06:55:07.481023Z"
    },
    "id": "dq47MacFj7tP"
   },
   "outputs": [],
   "source": [
    "seed=999\n",
    "set_seed(seed, reproducible=True)\n",
    "torch.manual_seed(seed)\n",
    "torch.cuda.manual_seed(seed)\n",
    "torch.backends.cudnn.deterministic = True\n",
    "torch.use_deterministic_algorithms = True"
   ]
  },
  {
   "cell_type": "code",
   "execution_count": null,
   "metadata": {
    "editable": true,
    "execution": {
     "iopub.execute_input": "2021-11-16T06:55:07.492461Z",
     "iopub.status.busy": "2021-11-16T06:55:07.491684Z",
     "iopub.status.idle": "2021-11-16T06:55:07.501006Z",
     "shell.execute_reply": "2021-11-16T06:55:07.500256Z",
     "shell.execute_reply.started": "2021-11-16T06:55:07.492416Z"
    },
    "id": "92Itv1pWj7tP"
   },
   "outputs": [],
   "source": [
    "#Sturges' rule\n",
    "num_bins = int(np.floor(1+(3.3)*(np.log2(len(train_df)))))\n",
    "# num_bins"
   ]
  },
  {
   "cell_type": "code",
   "execution_count": null,
   "metadata": {
    "editable": true,
    "execution": {
     "iopub.execute_input": "2021-11-16T06:55:07.502905Z",
     "iopub.status.busy": "2021-11-16T06:55:07.502385Z",
     "iopub.status.idle": "2021-11-16T06:55:07.752539Z",
     "shell.execute_reply": "2021-11-16T06:55:07.751792Z",
     "shell.execute_reply.started": "2021-11-16T06:55:07.502866Z"
    },
    "id": "XMPQgZPLj7tP"
   },
   "outputs": [],
   "source": [
    "train_df['bins'] = pd.cut(train_df['norm_score'], bins=num_bins, labels=False)\n",
    "train_df['bins'].hist()"
   ]
  },
  {
   "cell_type": "code",
   "execution_count": null,
   "metadata": {
    "editable": true,
    "execution": {
     "iopub.execute_input": "2021-11-16T06:55:07.754578Z",
     "iopub.status.busy": "2021-11-16T06:55:07.754099Z",
     "iopub.status.idle": "2021-11-16T06:55:07.984468Z",
     "shell.execute_reply": "2021-11-16T06:55:07.983783Z",
     "shell.execute_reply.started": "2021-11-16T06:55:07.754541Z"
    },
    "id": "GZxmwEA7j7tQ"
   },
   "outputs": [],
   "source": [
    "from sklearn.model_selection import KFold\n",
    "from sklearn.model_selection import StratifiedKFold\n",
    "\n",
    "train_df['fold'] = -1\n",
    "\n",
    "\n",
    "N_FOLDS = 10\n",
    "strat_kfold = StratifiedKFold(n_splits=N_FOLDS, random_state=seed, shuffle=True)\n",
    "for i, (_, train_index) in enumerate(strat_kfold.split(train_df.index, train_df['bins'])):\n",
    "    train_df.iloc[train_index, -1] = i\n",
    "    \n",
    "train_df['fold'] = train_df['fold'].astype('int')\n",
    "\n",
    "train_df.fold.value_counts().plot.bar()"
   ]
  },
  {
   "cell_type": "code",
   "execution_count": null,
   "metadata": {
    "editable": true,
    "execution": {
     "iopub.execute_input": "2021-11-16T06:55:07.986488Z",
     "iopub.status.busy": "2021-11-16T06:55:07.985732Z",
     "iopub.status.idle": "2021-11-16T06:55:08.007542Z",
     "shell.execute_reply": "2021-11-16T06:55:08.006783Z",
     "shell.execute_reply.started": "2021-11-16T06:55:07.98645Z"
    },
    "id": "z2oQWJnvj7tQ"
   },
   "outputs": [],
   "source": [
    "train_df[train_df['fold']==0].head()"
   ]
  },
  {
   "cell_type": "code",
   "execution_count": null,
   "metadata": {
    "editable": true,
    "execution": {
     "iopub.execute_input": "2021-11-16T06:55:08.009804Z",
     "iopub.status.busy": "2021-11-16T06:55:08.008811Z",
     "iopub.status.idle": "2021-11-16T06:55:08.019783Z",
     "shell.execute_reply": "2021-11-16T06:55:08.018799Z",
     "shell.execute_reply.started": "2021-11-16T06:55:08.009765Z"
    },
    "id": "cM6QMjT2j7tQ"
   },
   "outputs": [],
   "source": [
    "train_df[train_df['fold']==0]['bins'].value_counts()"
   ]
  },
  {
   "cell_type": "code",
   "execution_count": null,
   "metadata": {
    "editable": true,
    "execution": {
     "iopub.execute_input": "2021-11-16T06:55:08.022198Z",
     "iopub.status.busy": "2021-11-16T06:55:08.021746Z",
     "iopub.status.idle": "2021-11-16T06:55:08.032916Z",
     "shell.execute_reply": "2021-11-16T06:55:08.031894Z",
     "shell.execute_reply.started": "2021-11-16T06:55:08.022158Z"
    },
    "id": "mCwZ7PKjj7tR"
   },
   "outputs": [],
   "source": [
    "train_df[train_df['fold']==1]['bins'].value_counts()"
   ]
  },
  {
   "cell_type": "code",
   "execution_count": null,
   "metadata": {
    "editable": true,
    "execution": {
     "iopub.execute_input": "2021-11-16T06:55:08.035391Z",
     "iopub.status.busy": "2021-11-16T06:55:08.034836Z",
     "iopub.status.idle": "2021-11-16T06:55:08.041754Z",
     "shell.execute_reply": "2021-11-16T06:55:08.039885Z",
     "shell.execute_reply.started": "2021-11-16T06:55:08.035202Z"
    },
    "id": "JkeSgkc3j7tR"
   },
   "outputs": [],
   "source": [
    "def petfinder_rmse(input,target):\n",
    "    return 100*torch.sqrt(F.mse_loss(F.sigmoid(input.flatten()), target))"
   ]
  },
  {
   "cell_type": "code",
   "execution_count": null,
   "metadata": {
    "editable": true,
    "execution": {
     "iopub.execute_input": "2021-11-16T06:55:08.043474Z",
     "iopub.status.busy": "2021-11-16T06:55:08.043269Z",
     "iopub.status.idle": "2021-11-16T06:55:08.052148Z",
     "shell.execute_reply": "2021-11-16T06:55:08.051001Z",
     "shell.execute_reply.started": "2021-11-16T06:55:08.043449Z"
    },
    "id": "dZohLljUj7tR"
   },
   "outputs": [],
   "source": [
    "def get_data(fold):\n",
    "#     train_df_no_val = train_df.query(f'fold != {fold}')\n",
    "#     train_df_val = train_df.query(f'fold == {fold}')\n",
    "    \n",
    "#     train_df_bal = pd.concat([train_df_no_val,train_df_val.sample(frac=1).reset_index(drop=True)])\n",
    "    train_df_f = train_df.copy()\n",
    "    # add is_valid for validation fold\n",
    "    train_df_f['is_valid'] = (train_df_f['fold'] == fold)\n",
    "    \n",
    "    dls = ImageDataLoaders.from_df(train_df_f, #pass in train DataFrame\n",
    "#                                valid_pct=0.2, #80-20 train-validation random split\n",
    "                               valid_col='is_valid', #\n",
    "                               seed=999, #seed\n",
    "                               fn_col='path', #filename/path is in the second column of the DataFrame\n",
    "                               label_col='norm_score', #label is in the first column of the DataFrame\n",
    "                               y_block=RegressionBlock, #The type of target\n",
    "                               bs=BATCH_SIZE, #pass in batch size\n",
    "                               num_workers=8,\n",
    "                               item_tfms=Resize(224), #pass in item_tfms\n",
    "                               batch_tfms=setup_aug_tfms([Brightness(), Contrast(), Hue(), Saturation()])) #pass in batch_tfms\n",
    "    \n",
    "    return dls\n"
   ]
  },
  {
   "cell_type": "code",
   "execution_count": null,
   "metadata": {
    "editable": true,
    "execution": {
     "iopub.execute_input": "2021-11-16T06:55:08.054158Z",
     "iopub.status.busy": "2021-11-16T06:55:08.053886Z",
     "iopub.status.idle": "2021-11-16T06:55:12.627294Z",
     "shell.execute_reply": "2021-11-16T06:55:12.626437Z",
     "shell.execute_reply.started": "2021-11-16T06:55:08.054124Z"
    },
    "id": "KA-ss0lTj7tS"
   },
   "outputs": [],
   "source": [
    "#Valid Kfolder size\n",
    "the_data = get_data(0)\n",
    "assert (len(the_data.train) + len(the_data.valid)) == (len(train_df)//BATCH_SIZE)"
   ]
  },
  {
   "cell_type": "code",
   "execution_count": null,
   "metadata": {
    "editable": true,
    "execution": {
     "iopub.execute_input": "2021-11-16T06:55:12.629161Z",
     "iopub.status.busy": "2021-11-16T06:55:12.628869Z",
     "iopub.status.idle": "2021-11-16T06:55:12.635207Z",
     "shell.execute_reply": "2021-11-16T06:55:12.633975Z",
     "shell.execute_reply.started": "2021-11-16T06:55:12.629122Z"
    },
    "id": "EuCxLGrOj7tS"
   },
   "outputs": [],
   "source": [
    "def get_learner(fold_num):\n",
    "    data = get_data(fold_num)\n",
    "    \n",
    "    model = create_model('swin_large_patch4_window7_224', pretrained=True, num_classes=data.c)\n",
    "\n",
    "    learn = Learner(data, model, loss_func=BCEWithLogitsLossFlat(), metrics=petfinder_rmse).to_fp16()\n",
    "    \n",
    "    return learn"
   ]
  },
  {
   "cell_type": "code",
   "execution_count": null,
   "metadata": {
    "editable": true,
    "execution": {
     "iopub.execute_input": "2021-11-16T06:55:12.637218Z",
     "iopub.status.busy": "2021-11-16T06:55:12.636719Z",
     "iopub.status.idle": "2021-11-16T06:55:12.884722Z",
     "shell.execute_reply": "2021-11-16T06:55:12.88396Z",
     "shell.execute_reply.started": "2021-11-16T06:55:12.637182Z"
    },
    "id": "gCTeqy-Oj7tS"
   },
   "outputs": [],
   "source": [
    "test_df = pd.read_csv(dataset_path/'test.csv')\n",
    "test_df.head()"
   ]
  },
  {
   "cell_type": "code",
   "execution_count": null,
   "metadata": {
    "editable": true,
    "execution": {
     "iopub.execute_input": "2021-11-16T06:55:12.886826Z",
     "iopub.status.busy": "2021-11-16T06:55:12.886297Z",
     "iopub.status.idle": "2021-11-16T06:55:12.896442Z",
     "shell.execute_reply": "2021-11-16T06:55:12.895642Z",
     "shell.execute_reply.started": "2021-11-16T06:55:12.886786Z"
    },
    "id": "Oj7Z63mqj7tT"
   },
   "outputs": [],
   "source": [
    "test_df['Pawpularity'] = [1]*len(test_df)\n",
    "test_df['path'] = test_df['Id'].map(lambda x:str(dataset_path/'test'/x)+'.jpg')\n",
    "test_df = test_df.drop(columns=['Id'])\n",
    "train_df['norm_score'] = train_df['Pawpularity']/100"
   ]
  },
  {
   "cell_type": "code",
   "execution_count": null,
   "metadata": {
    "editable": true,
    "execution": {
     "iopub.execute_input": "2021-11-16T06:55:12.900099Z",
     "iopub.status.busy": "2021-11-16T06:55:12.898315Z",
     "iopub.status.idle": "2021-11-16T06:56:58.099632Z",
     "shell.execute_reply": "2021-11-16T06:56:58.097766Z",
     "shell.execute_reply.started": "2021-11-16T06:55:12.900059Z"
    },
    "id": "Tl4gYUNyj7tT"
   },
   "outputs": [],
   "source": [
    "get_learner(fold_num=0).lr_find(end_lr=3e-2)"
   ]
  },
  {
   "cell_type": "code",
   "execution_count": null,
   "metadata": {
    "editable": true,
    "execution": {
     "iopub.status.busy": "2021-11-16T06:56:58.10114Z",
     "iopub.status.idle": "2021-11-16T06:56:58.101783Z",
     "shell.execute_reply": "2021-11-16T06:56:58.101571Z",
     "shell.execute_reply.started": "2021-11-16T06:56:58.101546Z"
    },
    "id": "kCCC4Ysaj7tT"
   },
   "outputs": [],
   "source": [
    "import gc"
   ]
  },
  {
   "cell_type": "code",
   "execution_count": null,
   "metadata": {
    "editable": true,
    "execution": {
     "iopub.status.busy": "2021-11-16T06:56:58.103066Z",
     "iopub.status.idle": "2021-11-16T06:56:58.103681Z",
     "shell.execute_reply": "2021-11-16T06:56:58.103475Z",
     "shell.execute_reply.started": "2021-11-16T06:56:58.10345Z"
    },
    "id": "zLVqNqwVj7tT"
   },
   "outputs": [],
   "source": [
    "all_preds = []\n",
    "\n",
    "for i in range(N_FOLDS):\n",
    "\n",
    "    print(f'= {i} results')\n",
    "    \n",
    "    learn = get_learner(fold_num=i)\n",
    "\n",
    "    learn.fit_one_cycle(5, 2e-5, cbs=[SaveModelCallback(), EarlyStoppingCallback(monitor='petfinder_rmse', comp=np.less, patience=2)]) \n",
    "    \n",
    "    learn.recorder.plot_loss()\n",
    "\n",
    "    #learn = learn.to_fp32()\n",
    "    \n",
    "    #learn.export(f'model_fold_{i}.pkl')\n",
    "    #learn.save(f'model_fold_{i}.pkl')\n",
    "    \n",
    "    dls = ImageDataLoaders.from_df(train_df, #pass in train DataFrame\n",
    "                               valid_pct=0.2, #80-20 train-validation random split\n",
    "                               seed=999, #seed\n",
    "                               fn_col='path', #filename/path is in the second column of the DataFrame\n",
    "                               label_col='norm_score', #label is in the first column of the DataFrame\n",
    "                               y_block=RegressionBlock, #The type of target\n",
    "                               bs=BATCH_SIZE, #pass in batch size\n",
    "                               num_workers=8,\n",
    "                               item_tfms=Resize(224), #pass in item_tfms\n",
    "                               batch_tfms=setup_aug_tfms([Brightness(), Contrast(), Hue(), Saturation()])) \n",
    "    \n",
    "    test_dl = dls.test_dl(test_df)\n",
    "    \n",
    "    preds, _ = learn.tta(dl=test_dl, n=5, beta=0)\n",
    "    \n",
    "    all_preds.append(preds)\n",
    "    \n",
    "    del learn\n",
    "\n",
    "    torch.cuda.empty_cache()\n",
    "\n",
    "    gc.collect()"
   ]
  },
  {
   "cell_type": "code",
   "execution_count": null,
   "metadata": {
    "editable": true,
    "execution": {
     "iopub.status.busy": "2021-11-16T06:56:58.104849Z",
     "iopub.status.idle": "2021-11-16T06:56:58.105499Z",
     "shell.execute_reply": "2021-11-16T06:56:58.105291Z",
     "shell.execute_reply.started": "2021-11-16T06:56:58.105268Z"
    },
    "id": "8QCTxBTGj7tU"
   },
   "outputs": [],
   "source": [
    "all_preds"
   ]
  },
  {
   "cell_type": "code",
   "execution_count": null,
   "metadata": {
    "editable": true,
    "execution": {
     "iopub.status.busy": "2021-11-16T06:56:58.106679Z",
     "iopub.status.idle": "2021-11-16T06:56:58.107307Z",
     "shell.execute_reply": "2021-11-16T06:56:58.107101Z",
     "shell.execute_reply.started": "2021-11-16T06:56:58.107078Z"
    },
    "id": "obIDRoeKj7tU"
   },
   "outputs": [],
   "source": [
    "np.mean(np.stack(all_preds*100))"
   ]
  },
  {
   "cell_type": "code",
   "execution_count": null,
   "metadata": {
    "editable": true,
    "execution": {
     "iopub.status.busy": "2021-11-16T06:56:58.108473Z",
     "iopub.status.idle": "2021-11-16T06:56:58.109097Z",
     "shell.execute_reply": "2021-11-16T06:56:58.108876Z",
     "shell.execute_reply.started": "2021-11-16T06:56:58.108845Z"
    },
    "id": "Vqf1i_rtj7tU"
   },
   "outputs": [],
   "source": [
    "sample_df = pd.read_csv(dataset_path/'sample_submission.csv')\n",
    "preds = np.mean(np.stack(all_preds), axis=0)\n",
    "sample_df['Pawpularity'] = preds*100\n",
    "sample_df.to_csv('submission.csv',index=False)"
   ]
  },
  {
   "cell_type": "code",
   "execution_count": null,
   "metadata": {
    "editable": true,
    "execution": {
     "iopub.status.busy": "2021-11-16T06:56:58.110271Z",
     "iopub.status.idle": "2021-11-16T06:56:58.110909Z",
     "shell.execute_reply": "2021-11-16T06:56:58.110688Z",
     "shell.execute_reply.started": "2021-11-16T06:56:58.110664Z"
    },
    "id": "l1HS5ypTj7tV"
   },
   "outputs": [],
   "source": [
    "pd.read_csv('submission.csv').head()"
   ]
  },
  {
   "cell_type": "code",
   "execution_count": null,
   "metadata": {
    "editable": true,
    "id": "47DxW6L4j7tV"
   },
   "outputs": [],
   "source": [
    "#path = './models'\n",
    "#learn1 = load_learner('model_fold_2.pkl')"
   ]
  },
  {
   "cell_type": "markdown",
   "metadata": {
    "editable": true,
    "id": "mqgZm38oj7tV"
   },
   "source": [
    "# Model training\n",
    "\n",
    "Let's train a Swin Transformer model as a baseline. We will use the wonderful timm package by Ross Wightman to define the model. Since this competition doesn't allow internet access, I have added the pretrained weights from timm as a dataset, and the below code cell will allow timm to find the file:"
   ]
  },
  {
   "cell_type": "markdown",
   "metadata": {
    "editable": true,
    "id": "56pI_DdWj7tV"
   },
   "source": [
    "Let's now define the model."
   ]
  },
  {
   "cell_type": "markdown",
   "metadata": {
    "editable": true,
    "id": "jMWOceABj7tW"
   },
   "source": [
    "Let's also define the metric we will use. Note that we multiply by 100 to get a relevant RMSE for Pawpularity Score prediction, not prediction of the normalized score."
   ]
  },
  {
   "cell_type": "markdown",
   "metadata": {
    "editable": true,
    "id": "qfrWMBc1j7tW"
   },
   "source": [
    "In fastai, the trainer class is the `Learner`, which takes in the data, model, optimizer, loss function, etc. and allows you to train models, make predictions, etc. Let's define the `Learner` for this task, and also use mixed precision. Note that we use `BCEWithLogitsLoss` to treat this as a classification problem."
   ]
  },
  {
   "cell_type": "markdown",
   "metadata": {
    "editable": true,
    "id": "kEHq8BJkj7tW"
   },
   "source": [
    "We are now provided with a Learner object. In order to train a model, we need to find the most optimal learning rate, which can be done with fastai's learning rate finder:"
   ]
  },
  {
   "cell_type": "markdown",
   "metadata": {
    "editable": true,
    "id": "T01Hw92xj7tW"
   },
   "source": [
    "Let's now fine-tune the model with the desired learning rate of 2e-5. We'll save the best model and use the early stopping callback."
   ]
  },
  {
   "cell_type": "markdown",
   "metadata": {
    "editable": true,
    "id": "3xfJJp7uj7tX"
   },
   "source": [
    "We plotted the loss, put the model back to fp32, and now we can export the model if we want to use later (i.e. for an inference kernel):"
   ]
  },
  {
   "cell_type": "markdown",
   "metadata": {
    "editable": true,
    "id": "8hs5gH-uj7tX"
   },
   "source": [
    "## Inference\n",
    "\n",
    "It's very simple to perform inference with fastai. We preprocess the test CSV in the same way as the train CSV, and the `dls.test_dl` function allows you to create test dataloader using the same pipeline we defined earlier."
   ]
  },
  {
   "cell_type": "code",
   "execution_count": null,
   "metadata": {
    "editable": true,
    "id": "Oy8OXOlBj7tX"
   },
   "outputs": [],
   "source": [
    "# test_df = pd.read_csv(dataset_path/'test.csv')\n",
    "# test_df.head()"
   ]
  },
  {
   "cell_type": "code",
   "execution_count": null,
   "metadata": {
    "editable": true,
    "id": "LySYuQ5-j7tY"
   },
   "outputs": [],
   "source": [
    "# test_df['Pawpularity'] = [1]*len(test_df)\n",
    "# test_df['path'] = test_df['Id'].map(lambda x:str(dataset_path/'test'/x)+'.jpg')\n",
    "# test_df = test_df.drop(columns=['Id'])\n",
    "# train_df['norm_score'] = train_df['Pawpularity']/100"
   ]
  },
  {
   "cell_type": "code",
   "execution_count": null,
   "metadata": {
    "editable": true,
    "id": "4LqIw3Lcj7tY"
   },
   "outputs": [],
   "source": [
    "# dls = ImageDataLoaders.from_df(train_df, #pass in train DataFrame\n",
    "#                                valid_pct=0.2, #80-20 train-validation random split\n",
    "#                                seed=999, #seed\n",
    "#                                fn_col='path', #filename/path is in the second column of the DataFrame\n",
    "#                                label_col='norm_score', #label is in the first column of the DataFrame\n",
    "#                                y_block=RegressionBlock, #The type of target\n",
    "#                                bs=32, #pass in batch size\n",
    "#                                num_workers=8,\n",
    "#                                item_tfms=Resize(224), #pass in item_tfms\n",
    "#                                batch_tfms=setup_aug_tfms([Brightness(), Contrast(), Hue(), Saturation()])) \n",
    "# test_dl = dls.test_dl(test_df)"
   ]
  },
  {
   "cell_type": "code",
   "execution_count": null,
   "metadata": {
    "editable": true,
    "id": "vEpAG4I3j7tY"
   },
   "outputs": [],
   "source": [
    "# test_dl.show_batch()"
   ]
  },
  {
   "cell_type": "markdown",
   "metadata": {
    "editable": true,
    "id": "7y2juvp6j7tZ"
   },
   "source": [
    "We can easily confirm that the test_dl is correct (the example test images provided are just noise so this is expected):"
   ]
  },
  {
   "cell_type": "markdown",
   "metadata": {
    "editable": true,
    "execution": {
     "iopub.execute_input": "2021-10-11T01:23:46.803705Z",
     "iopub.status.busy": "2021-10-11T01:23:46.803428Z",
     "iopub.status.idle": "2021-10-11T01:24:17.582722Z",
     "shell.execute_reply": "2021-10-11T01:24:17.581988Z",
     "shell.execute_reply.started": "2021-10-11T01:23:46.803676Z"
    },
    "id": "BPbGLlGQj7tZ"
   },
   "source": [
    "Now let's pass the dataloader to the model and get predictions. Here I am using 5x test-time augmentation which further improves model performance."
   ]
  },
  {
   "cell_type": "code",
   "execution_count": null,
   "metadata": {
    "editable": true,
    "id": "Rdy-9Mnzj7tZ"
   },
   "outputs": [],
   "source": [
    "#preds, _ = learn1.tta(dl=test_dl, n=5, beta=0)"
   ]
  },
  {
   "cell_type": "markdown",
   "metadata": {
    "editable": true,
    "id": "MhQrT3aTj7tZ"
   },
   "source": [
    "Let's make a submission with these predictions!"
   ]
  },
  {
   "cell_type": "code",
   "execution_count": null,
   "metadata": {
    "editable": true,
    "id": "Dktc0Zykj7ta"
   },
   "outputs": [],
   "source": []
  },
  {
   "cell_type": "code",
   "execution_count": null,
   "metadata": {
    "editable": true,
    "id": "sHR37Ijoj7ta"
   },
   "outputs": [],
   "source": [
    "# sample_df = pd.read_csv(dataset_path/'sample_submission.csv')\n",
    "# sample_df['Pawpularity'] = preds.float().numpy()*100\n",
    "# sample_df.to_csv('submission.csv',index=False)"
   ]
  },
  {
   "cell_type": "code",
   "execution_count": null,
   "metadata": {
    "editable": true,
    "id": "v7Wu9f-rj7ta"
   },
   "outputs": [],
   "source": [
    "#pd.read_csv('submission.csv').head()"
   ]
  },
  {
   "cell_type": "markdown",
   "metadata": {
    "editable": true,
    "id": "iNEIo5rGj7ta"
   },
   "source": [
    "Now, **WE ARE DONE!**\n",
    "\n",
    "If you enjoyed this notebook, please give it an upvote. \n",
    "\n",
    "Stay tuned for improvements to this notebook, potentially including a version that uses the metadata as well.\n",
    "\n",
    "If you have any questions or suggestions, please leave a comment!"
   ]
  }
 ],
 "metadata": {
  "kernelspec": {
   "display_name": "Python 3 (ipykernel)",
   "language": "python",
   "name": "python3"
  },
  "language_info": {
   "codemirror_mode": {
    "name": "ipython",
    "version": 3
   },
   "file_extension": ".py",
   "mimetype": "text/x-python",
   "name": "python",
   "nbconvert_exporter": "python",
   "pygments_lexer": "ipython3",
   "version": "3.7.12"
  }
 },
 "nbformat": 4,
 "nbformat_minor": 4
}
