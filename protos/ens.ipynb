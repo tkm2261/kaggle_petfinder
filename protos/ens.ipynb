{
 "cells": [
  {
   "cell_type": "code",
   "execution_count": 1,
   "id": "4fe7c28d-90ab-46e3-8e84-266da060b4ef",
   "metadata": {},
   "outputs": [],
   "source": [
    "import numpy as np\n",
    "import pandas as pd\n",
    "import glob"
   ]
  },
  {
   "cell_type": "code",
   "execution_count": null,
   "id": "d77e04ef-1b08-439d-9db5-bf1544320962",
   "metadata": {},
   "outputs": [],
   "source": []
  },
  {
   "cell_type": "code",
   "execution_count": 2,
   "id": "3c3a645e-9902-4d4f-85d8-40e96492ee0e",
   "metadata": {},
   "outputs": [],
   "source": [
    "#df = pd.read_csv('../input/petfinder-pawpularity-score/train.csv')\n",
    "#tmp = pd.concat([df, pd.get_dummies(df['Pawpularity'])], axis=1)\n",
    "#aaa = tmp.corr()\n",
    "#tmp = pd.DataFrame([aaa[i].head(df.shape[1] - 1) for i in range(1, 101)])\n",
    "#tmp.abs().max()"
   ]
  },
  {
   "cell_type": "code",
   "execution_count": 3,
   "id": "263736a1-c915-4e45-9316-f54a09e5b513",
   "metadata": {},
   "outputs": [],
   "source": [
    "#np.load('train_df_prev_path.npy')"
   ]
  },
  {
   "cell_type": "code",
   "execution_count": 4,
   "id": "6b3c63fa-2a67-4f8d-837a-0ca13b4c4d02",
   "metadata": {},
   "outputs": [],
   "source": [
    "#df = pd.read_csv('../input/petfinder-adoption-prediction/train/train.csv')\n",
    "#df['path'] = '../input/petfinder-adoption-prediction/train_images/' + df['PetID'] + '-1.jpg'\n",
    "#tmp = df[~df['path'].isin(np.load('train_df_prev_path.npy'))]\n",
    "#import os\n",
    "#tmp = tmp[tmp['path'].map(os.path.exists)]"
   ]
  },
  {
   "cell_type": "code",
   "execution_count": 5,
   "id": "de69d7e8-4bce-40d4-81cf-0a13369e2582",
   "metadata": {},
   "outputs": [],
   "source": [
    "'''\n",
    "import os\n",
    "from PIL import Image\n",
    "import imagehash\n",
    "from tqdm.auto import tqdm\n",
    "df1 = pd.read_csv('../input/petfinder-adoption-prediction/train/train.csv')\n",
    "df1['path'] = '../input/petfinder-adoption-prediction/train_images/' + df1['PetID'] + '-1.jpg'\n",
    "df1 = df1[df1['path'].map(os.path.exists)]\n",
    "\n",
    "df2 = pd.read_csv('../input/petfinder-pawpularity-score/train.csv')\n",
    "df2['path'] = df2['Id'].map(lambda x:str(f'../input/petfinder-pawpularity-score/train/{x}.jpg'))\n",
    "\n",
    "df1['hash'] = [imagehash.average_hash(Image.open(x))\n",
    "                    for x in tqdm(df1['path'].values)]\n",
    "df2['hash'] = [imagehash.average_hash(Image.open(x))\n",
    "                    for x in tqdm(df2['path'].values)]\n",
    "#train_df_prev['hash'] = [imagehash.average_hash(Image.open(x))\n",
    "#                    for x in tqdm(train_df_prev['path'].values)]\n",
    "'''\n",
    "pass\n"
   ]
  },
  {
   "cell_type": "code",
   "execution_count": 6,
   "id": "a61125a7-4351-4580-94d8-f3272250a025",
   "metadata": {},
   "outputs": [],
   "source": [
    "#np.save('isin_prev.npy', df2[df2['hash'].isin(df1['hash'])].path.unique())"
   ]
  },
  {
   "cell_type": "code",
   "execution_count": 7,
   "id": "68ec3c0a-7463-4409-a175-cb4c4f9908d2",
   "metadata": {},
   "outputs": [],
   "source": [
    "#hashes = {x: imagehash.average_hash(Image.open(x)) \n",
    "# for x in tqdm(glob.glob('../input/petfinder-adoption-prediction/train_images/*jpg'))}"
   ]
  },
  {
   "cell_type": "code",
   "execution_count": 8,
   "id": "59e8d7c8-ad5c-4092-8e13-f32195fd9a1b",
   "metadata": {},
   "outputs": [],
   "source": [
    "#df_all = pd.Series(hashes).to_frame('hash').reset_index()\n",
    "#df_all['cat'] = df_all['index'].map(lambda x: int(x.split('-')[-1].split('.')[0]))\n",
    "#df_all"
   ]
  },
  {
   "cell_type": "code",
   "execution_count": 9,
   "id": "dfd23462-d307-44dc-9ad4-1f01e7d445e4",
   "metadata": {},
   "outputs": [
    {
     "name": "stdout",
     "output_type": "stream",
     "text": [
      "0.17980080406492202\n",
      "0.2019913432173226\n"
     ]
    },
    {
     "data": {
      "text/plain": [
       "<matplotlib.legend.Legend at 0x7f88e9c6b050>"
      ]
     },
     "execution_count": 9,
     "metadata": {},
     "output_type": "execute_result"
    },
    {
     "data": {
      "image/png": "[encoded data removed]",
      "text/plain": [
       "<Figure size 432x288 with 1 Axes>"
      ]
     },
     "metadata": {
      "needs_background": "light"
     },
     "output_type": "display_data"
    }
   ],
   "source": [
    "df = pd.read_csv('ens_exp4.csv')\n",
    "df['loss'] = (df['pred'] - df['norm_score']) ** 2\n",
    "print(np.sqrt(df['loss'].mean()))\n",
    "df['pred'].hist(bins=100, alpha=0.5, label='orig pred')\n",
    "\n",
    "df['pred'] = (df['pred'] - df['pred'].mean()) / df['pred'].std()\n",
    "df['pred'] = (df['pred'] * df['norm_score'].std()) + df['norm_score'].mean()\n",
    "df['pred'] = df['pred'].clip(0.01, 1)\n",
    "df['pred'].hist(bins=100, alpha=0.5, label='calib pred')\n",
    "\n",
    "df['norm_score'].hist(bins=100, alpha=0.5, label='label')\n",
    "\n",
    "df['loss'] = (df['pred'].clip(0.01, 1) - df['norm_score']) ** 2\n",
    "print(np.sqrt(df['loss'].mean()))\n",
    "\n",
    "import matplotlib.pyplot as plt\n",
    "plt.legend()\n",
    "#m = df['pred'].mean()\n",
    "#df['pred'] -= m\n",
    "#df['pred'] = np.where(df['pred'] > df['pred'].quantile(1 - 0.029055690072639227), 1, df['pred'])\n",
    "#df['pred'] += m\n",
    "#df['loss'] = (df['pred'].clip(0.01, 1) - df['norm_score']) ** 2\n",
    "#print(np.sqrt(df['loss'].mean()))"
   ]
  },
  {
   "cell_type": "code",
   "execution_count": 10,
   "id": "2850b632-7be8-4090-b758-3d120d15484c",
   "metadata": {},
   "outputs": [
    {
     "data": {
      "text/plain": [
       "17.93050612782584"
      ]
     },
     "execution_count": 10,
     "metadata": {},
     "output_type": "execute_result"
    }
   ],
   "source": [
    "np.sqrt(321.50305)"
   ]
  },
  {
   "cell_type": "code",
   "execution_count": 11,
   "id": "a7f720c7-a62f-44e4-9573-b7d706156469",
   "metadata": {},
   "outputs": [
    {
     "data": {
      "text/plain": [
       "Subject Focus   -0.009853\n",
       "Eyes            -0.006686\n",
       "Face             0.008018\n",
       "Near             0.001001\n",
       "Action          -0.001373\n",
       "Accessory        0.013287\n",
       "Group            0.016469\n",
       "Collage          0.001732\n",
       "Human            0.003983\n",
       "Occlusion        0.001979\n",
       "Info            -0.004735\n",
       "Blur            -0.023540\n",
       "Pawpularity      1.000000\n",
       "norm_score       1.000000\n",
       "bins             0.999479\n",
       "fold             0.000028\n",
       "pred             0.492157\n",
       "loss             0.159404\n",
       "Name: Pawpularity, dtype: float64"
      ]
     },
     "execution_count": 11,
     "metadata": {},
     "output_type": "execute_result"
    }
   ],
   "source": [
    "df.corr()['Pawpularity']"
   ]
  },
  {
   "cell_type": "code",
   "execution_count": 12,
   "id": "76292c5b-8aae-4f0e-b28e-c629172bdb48",
   "metadata": {},
   "outputs": [
    {
     "data": {
      "text/plain": [
       "<AxesSubplot:>"
      ]
     },
     "execution_count": 12,
     "metadata": {},
     "output_type": "execute_result"
    },
    {
     "data": {
      "image/png": "[encoded data removed]",
      "text/plain": [
       "<Figure size 432x288 with 1 Axes>"
      ]
     },
     "metadata": {
      "needs_background": "light"
     },
     "output_type": "display_data"
    }
   ],
   "source": [
    "df['Pawpularity'].hist(bins=100)"
   ]
  },
  {
   "cell_type": "code",
   "execution_count": 13,
   "id": "220f1bfb-faab-492f-a46b-115c48dfd964",
   "metadata": {},
   "outputs": [
    {
     "data": {
      "text/plain": [
       "<AxesSubplot:xlabel='Pawpularity'>"
      ]
     },
     "execution_count": 13,
     "metadata": {},
     "output_type": "execute_result"
    },
    {
     "data": {
      "image/png": "[encoded data removed]",
      "text/plain": [
       "<Figure size 432x288 with 1 Axes>"
      ]
     },
     "metadata": {
      "needs_background": "light"
     },
     "output_type": "display_data"
    },
    {
     "data": {
      "image/png": "[encoded data removed]",
      "text/plain": [
       "<Figure size 432x288 with 1 Axes>"
      ]
     },
     "metadata": {
      "needs_background": "light"
     },
     "output_type": "display_data"
    }
   ],
   "source": [
    "df.groupby('Pawpularity')[['loss']].mean().plot(kind='bar')\n",
    "df.groupby('Pawpularity')[['loss']].sum().plot(kind='bar')"
   ]
  },
  {
   "cell_type": "code",
   "execution_count": 14,
   "id": "5ce738f6-f3d3-403b-b73e-dce731b20a66",
   "metadata": {},
   "outputs": [
    {
     "data": {
      "text/plain": [
       "0.029055690072639227"
      ]
     },
     "execution_count": 14,
     "metadata": {},
     "output_type": "execute_result"
    }
   ],
   "source": [
    "(df['Pawpularity'] == 100).mean()"
   ]
  },
  {
   "cell_type": "code",
   "execution_count": null,
   "id": "ec0416ff-202c-4cad-b2a9-a4106a90f62a",
   "metadata": {},
   "outputs": [],
   "source": []
  },
  {
   "cell_type": "code",
   "execution_count": 15,
   "id": "f37bcbac-46f2-48a3-9477-1d786822594c",
   "metadata": {},
   "outputs": [
    {
     "data": {
      "text/plain": [
       "index           -0.006309\n",
       "Subject Focus    0.019256\n",
       "Eyes            -0.025973\n",
       "Face            -0.018834\n",
       "Near             0.008557\n",
       "Action          -0.004260\n",
       "Accessory        0.000893\n",
       "Group            0.000525\n",
       "Collage          0.007749\n",
       "Human            0.011669\n",
       "Occlusion       -0.011295\n",
       "Info             0.009076\n",
       "Blur            -0.016934\n",
       "Pawpularity      0.159404\n",
       "norm_score       0.159404\n",
       "bins             0.158565\n",
       "fold             0.007180\n",
       "pred             0.354108\n",
       "loss             1.000000\n",
       "Name: loss, dtype: float64"
      ]
     },
     "execution_count": 15,
     "metadata": {},
     "output_type": "execute_result"
    }
   ],
   "source": [
    "df.reset_index().corr()['loss']"
   ]
  },
  {
   "cell_type": "code",
   "execution_count": 16,
   "id": "92912582-8b9b-4fa3-9061-079107d51251",
   "metadata": {},
   "outputs": [
    {
     "data": {
      "text/plain": [
       "['../exps/exp4_beit_large_patch16_224/train_cv_score.csv',\n",
       " '../exps/exp4_cait_m36_384/train_cv_score.csv',\n",
       " '../exps/exp4_cait_s24_384/train_cv_score.csv',\n",
       " '../exps/exp4_cait_xs24_384/train_cv_score.csv',\n",
       " '../exps/exp4_crossvit_15_dagger_408/train_cv_score.csv',\n",
       " '../exps/exp4_crossvit_18_240/train_cv_score.csv',\n",
       " '../exps/exp4_crossvit_18_dagger_408/train_cv_score.csv',\n",
       " '../exps/exp4_crossvit_base_240/train_cv_score.csv',\n",
       " '../exps/exp4_crossvit_small_240/train_cv_score.csv',\n",
       " '../exps/exp4_pit_b_224/train_cv_score.csv',\n",
       " '../exps/exp4_xcit_large_24_p16_384_dist/train_cv_score.csv',\n",
       " '../exps/exp4_xcit_medium_24_p8_224/train_cv_score.csv',\n",
       " '../exps/exp4_xcit_medium_24_p8_224_dist/train_cv_score.csv',\n",
       " '../exps/exp4_xcit_small_24_p16_384_dist/train_cv_score.csv',\n",
       " '../exps/exp4_xcit_small_24_p8_224_dist/train_cv_score.csv',\n",
       " '../exps/exp4_xcit_small_24_p8_384_dist/train_cv_score.csv']"
      ]
     },
     "execution_count": 16,
     "metadata": {},
     "output_type": "execute_result"
    }
   ],
   "source": [
    "import os\n",
    "[os.path.dirname(path) + '/train_cv_score.csv' for path in sorted(glob.glob('../exps/exp4_*/*_4.pth'))]"
   ]
  },
  {
   "cell_type": "code",
   "execution_count": 17,
   "id": "0f57df74-72b5-4ac5-8b78-ea6137409985",
   "metadata": {
    "tags": []
   },
   "outputs": [
    {
     "name": "stdout",
     "output_type": "stream",
     "text": [
      "(9912, 15)\n"
     ]
    },
    {
     "data": {
      "text/html": [
       "<div>\n",
       "<style scoped>\n",
       "    .dataframe tbody tr th:only-of-type {\n",
       "        vertical-align: middle;\n",
       "    }\n",
       "\n",
       "    .dataframe tbody tr th {\n",
       "        vertical-align: top;\n",
       "    }\n",
       "\n",
       "    .dataframe thead th {\n",
       "        text-align: right;\n",
       "    }\n",
       "</style>\n",
       "<table border=\"1\" class=\"dataframe\">\n",
       "  <thead>\n",
       "    <tr style=\"text-align: right;\">\n",
       "      <th></th>\n",
       "      <th>0</th>\n",
       "      <th>1</th>\n",
       "      <th>2</th>\n",
       "      <th>3</th>\n",
       "      <th>4</th>\n",
       "    </tr>\n",
       "  </thead>\n",
       "  <tbody>\n",
       "    <tr>\n",
       "      <th>exp7_cait_m36_384</th>\n",
       "      <td>0.301156</td>\n",
       "      <td>0.454472</td>\n",
       "      <td>0.386127</td>\n",
       "      <td>0.251648</td>\n",
       "      <td>0.360827</td>\n",
       "    </tr>\n",
       "    <tr>\n",
       "      <th>exp4_xcit_small_24_p16_384_dist</th>\n",
       "      <td>0.407569</td>\n",
       "      <td>0.436862</td>\n",
       "      <td>0.355999</td>\n",
       "      <td>0.257765</td>\n",
       "      <td>0.305387</td>\n",
       "    </tr>\n",
       "    <tr>\n",
       "      <th>exp4_crossvit_18_dagger_408</th>\n",
       "      <td>0.409929</td>\n",
       "      <td>0.506530</td>\n",
       "      <td>0.319334</td>\n",
       "      <td>0.269614</td>\n",
       "      <td>0.327776</td>\n",
       "    </tr>\n",
       "    <tr>\n",
       "      <th>exp4_xcit_small_24_p8_384_dist</th>\n",
       "      <td>0.350199</td>\n",
       "      <td>0.394726</td>\n",
       "      <td>0.294215</td>\n",
       "      <td>0.297878</td>\n",
       "      <td>0.317109</td>\n",
       "    </tr>\n",
       "    <tr>\n",
       "      <th>exp15_vit_base_patch16_224_miil_in21k</th>\n",
       "      <td>0.375981</td>\n",
       "      <td>0.394025</td>\n",
       "      <td>0.281597</td>\n",
       "      <td>0.285473</td>\n",
       "      <td>0.283251</td>\n",
       "    </tr>\n",
       "    <tr>\n",
       "      <th>exp7_swin_large_patch4_window12_384_in22k</th>\n",
       "      <td>0.349422</td>\n",
       "      <td>0.497883</td>\n",
       "      <td>0.329068</td>\n",
       "      <td>0.294316</td>\n",
       "      <td>0.340376</td>\n",
       "    </tr>\n",
       "    <tr>\n",
       "      <th>exp9_cait_m36_384</th>\n",
       "      <td>0.260000</td>\n",
       "      <td>0.320000</td>\n",
       "      <td>0.320000</td>\n",
       "      <td>0.260000</td>\n",
       "      <td>0.280000</td>\n",
       "    </tr>\n",
       "    <tr>\n",
       "      <th>exp7_vit_base_patch16_224_miil_in21k</th>\n",
       "      <td>0.354992</td>\n",
       "      <td>0.432782</td>\n",
       "      <td>0.280616</td>\n",
       "      <td>0.289171</td>\n",
       "      <td>0.306423</td>\n",
       "    </tr>\n",
       "    <tr>\n",
       "      <th>exp7_swin_base_patch4_window12_384</th>\n",
       "      <td>0.432363</td>\n",
       "      <td>0.565179</td>\n",
       "      <td>0.325413</td>\n",
       "      <td>0.228329</td>\n",
       "      <td>0.346652</td>\n",
       "    </tr>\n",
       "    <tr>\n",
       "      <th>exp7_jx_nest_base</th>\n",
       "      <td>0.364438</td>\n",
       "      <td>0.503971</td>\n",
       "      <td>0.342022</td>\n",
       "      <td>0.220678</td>\n",
       "      <td>0.282295</td>\n",
       "    </tr>\n",
       "    <tr>\n",
       "      <th>exp8_vit_base_patch16_224_miil_in21k</th>\n",
       "      <td>0.383789</td>\n",
       "      <td>0.331299</td>\n",
       "      <td>0.345703</td>\n",
       "      <td>0.219849</td>\n",
       "      <td>0.354980</td>\n",
       "    </tr>\n",
       "    <tr>\n",
       "      <th>exp7_vit_base_r50_s16_384</th>\n",
       "      <td>0.300438</td>\n",
       "      <td>0.423398</td>\n",
       "      <td>0.277963</td>\n",
       "      <td>0.285671</td>\n",
       "      <td>0.308919</td>\n",
       "    </tr>\n",
       "    <tr>\n",
       "      <th>exp15_vit_large_patch16_224</th>\n",
       "      <td>0.381902</td>\n",
       "      <td>0.401796</td>\n",
       "      <td>0.329863</td>\n",
       "      <td>0.283251</td>\n",
       "      <td>0.358063</td>\n",
       "    </tr>\n",
       "    <tr>\n",
       "      <th>exp20_convnext_base</th>\n",
       "      <td>0.349866</td>\n",
       "      <td>0.558929</td>\n",
       "      <td>0.326379</td>\n",
       "      <td>0.258513</td>\n",
       "      <td>0.262842</td>\n",
       "    </tr>\n",
       "    <tr>\n",
       "      <th>exp20_convnext_large</th>\n",
       "      <td>0.334807</td>\n",
       "      <td>0.439537</td>\n",
       "      <td>0.395134</td>\n",
       "      <td>0.227985</td>\n",
       "      <td>0.299208</td>\n",
       "    </tr>\n",
       "  </tbody>\n",
       "</table>\n",
       "</div>"
      ],
      "text/plain": [
       "                                                  0         1         2  \\\n",
       "exp7_cait_m36_384                          0.301156  0.454472  0.386127   \n",
       "exp4_xcit_small_24_p16_384_dist            0.407569  0.436862  0.355999   \n",
       "exp4_crossvit_18_dagger_408                0.409929  0.506530  0.319334   \n",
       "exp4_xcit_small_24_p8_384_dist             0.350199  0.394726  0.294215   \n",
       "exp15_vit_base_patch16_224_miil_in21k      0.375981  0.394025  0.281597   \n",
       "exp7_swin_large_patch4_window12_384_in22k  0.349422  0.497883  0.329068   \n",
       "exp9_cait_m36_384                          0.260000  0.320000  0.320000   \n",
       "exp7_vit_base_patch16_224_miil_in21k       0.354992  0.432782  0.280616   \n",
       "exp7_swin_base_patch4_window12_384         0.432363  0.565179  0.325413   \n",
       "exp7_jx_nest_base                          0.364438  0.503971  0.342022   \n",
       "exp8_vit_base_patch16_224_miil_in21k       0.383789  0.331299  0.345703   \n",
       "exp7_vit_base_r50_s16_384                  0.300438  0.423398  0.277963   \n",
       "exp15_vit_large_patch16_224                0.381902  0.401796  0.329863   \n",
       "exp20_convnext_base                        0.349866  0.558929  0.326379   \n",
       "exp20_convnext_large                       0.334807  0.439537  0.395134   \n",
       "\n",
       "                                                  3         4  \n",
       "exp7_cait_m36_384                          0.251648  0.360827  \n",
       "exp4_xcit_small_24_p16_384_dist            0.257765  0.305387  \n",
       "exp4_crossvit_18_dagger_408                0.269614  0.327776  \n",
       "exp4_xcit_small_24_p8_384_dist             0.297878  0.317109  \n",
       "exp15_vit_base_patch16_224_miil_in21k      0.285473  0.283251  \n",
       "exp7_swin_large_patch4_window12_384_in22k  0.294316  0.340376  \n",
       "exp9_cait_m36_384                          0.260000  0.280000  \n",
       "exp7_vit_base_patch16_224_miil_in21k       0.289171  0.306423  \n",
       "exp7_swin_base_patch4_window12_384         0.228329  0.346652  \n",
       "exp7_jx_nest_base                          0.220678  0.282295  \n",
       "exp8_vit_base_patch16_224_miil_in21k       0.219849  0.354980  \n",
       "exp7_vit_base_r50_s16_384                  0.285671  0.308919  \n",
       "exp15_vit_large_patch16_224                0.283251  0.358063  \n",
       "exp20_convnext_base                        0.258513  0.262842  \n",
       "exp20_convnext_large                       0.227985  0.299208  "
      ]
     },
     "execution_count": 17,
     "metadata": {},
     "output_type": "execute_result"
    }
   ],
   "source": [
    "def proc(path):\n",
    "    if 'exp15' in path:\n",
    "        pred = pd.read_csv(path)['pred'].values\n",
    "        return (np.exp(pred) / 100).clip(0, 1)\n",
    "    elif 'exp9_' in path or 'exp12' in path:\n",
    "        pred = np.load(path.replace('train_cv_score.csv', 'all_preds.npy'))\n",
    "        return (pred.argmax(axis=1) + 1) / 100\n",
    "    else:\n",
    "        return pd.read_csv(path)['pred'].values.clip(0, 1)\n",
    "    \n",
    "tmp = {path: proc(path) for path in sorted(glob.glob('../exps/*/train_cv_score.csv')) \n",
    "       #if 'exp4' in path or\n",
    "                       if 'exp7' in path or 'exp8' in path or 'exp9' in path# or 'exp10' in path #or 'exp11' in path or 'exp13' in path\n",
    "                        or 'exp15' in path\n",
    "                       }\n",
    "\n",
    "tmp2 = {path: proc(path) for path in \n",
    "        {#'../exps/exp15_vit_base_patch16_224_miil_in21k/train_cv_score.csv': 0.041669382180644136,\n",
    "         #'../exps/exp15_vit_large_patch16_224/train_cv_score.csv': 0.036433702767550785,\n",
    "         '../exps/exp4_beit_large_patch16_224/train_cv_score.csv': 0.04157925116345851,\n",
    "         '../exps/exp4_cait_s24_384/train_cv_score.csv': 0.03626225324782954,\n",
    "         '../exps/exp4_cait_xs24_384/train_cv_score.csv': 0.033548283307570384,\n",
    "         '../exps/exp4_crossvit_18_240/train_cv_score.csv': 0.020268622957772993,\n",
    "         '../exps/exp4_crossvit_base_240/train_cv_score.csv': 0.03342541754138878,\n",
    "         '../exps/exp4_crossvit_small_240/train_cv_score.csv': 0.023644372470063985,\n",
    "         '../exps/exp4_xcit_large_24_p16_384_dist/train_cv_score.csv': 0.02707225235987081,\n",
    "         '../exps/exp4_xcit_medium_24_p8_224/train_cv_score.csv': 0.03435188141379989,\n",
    "         '../exps/exp4_xcit_medium_24_p8_224_dist/train_cv_score.csv': 0.040880336959548104,\n",
    "         '../exps/exp4_xcit_small_24_p16_384_dist/train_cv_score.csv': 0.06097324647029762,\n",
    "         '../exps/exp4_xcit_small_24_p8_224_dist/train_cv_score.csv': 0.026740977176253886,\n",
    "         '../exps/exp4_xcit_small_24_p8_384_dist/train_cv_score.csv': 0.036393214379281544,\n",
    "         #'../exps/exp7_beit_large_patch16_224/train_cv_score.csv': 0.023597631189670003,\n",
    "         #'../exps/exp7_cait_m36_384/train_cv_score.csv': 0.05398382914029286,\n",
    "         #'../exps/exp7_crossvit_15_dagger_408/train_cv_score.csv': 0.02226082283996187,\n",
    "         #'../exps/exp7_jx_nest_base/train_cv_score.csv': 0.02909928526067165,\n",
    "         #'../exps/exp7_swin_base_patch4_window12_384/train_cv_score.csv': 0.08108241179594691,\n",
    "         #'../exps/exp7_swin_large_patch4_window12_384_in22k/train_cv_score.csv': 0.04432892894221474,\n",
    "         #'../exps/exp7_vit_base_patch16_224_miil_in21k/train_cv_score.csv': 0.07464224384654214,\n",
    "         #'../exps/exp7_vit_base_r50_s16_384/train_cv_score.csv': 0.03813415593090443,\n",
    "         #'../exps/exp8_vit_base_patch16_224_miil_in21k/train_cv_score.csv': 0.0369948148648268,\n",
    "         #'../exps/exp9_cait_m36_384/train_cv_score.csv': 0.037488237951416155,\n",
    "         #'../exps/exp9_crossvit_18_dagger_408/train_cv_score.csv': 0.02953369828305828,\n",
    "         #'../exps/exp9_crossvit_base_240/train_cv_score.csv': 0.023471591270792364\n",
    "        }}\n",
    "\n",
    "aaa = [os.path.dirname(path) + '/train_cv_score.csv' for path in sorted(glob.glob('../exps/exp4_*/*_4.pth'))]\n",
    "tmp2 = {path: proc(path) for path in aaa}\n",
    "\n",
    "tmp.update(tmp2)\n",
    "\n",
    "'''\n",
    "tmp = {path: proc(path + '/train_cv_score.csv') for path in [\n",
    "                                    '../exps/exp7_vit_base_patch16_224_miil_in21k',\n",
    "                                    '../exps/exp7_swin_base_patch4_window12_384',\n",
    "                                    '../exps/exp7_swin_large_patch4_window12_384_in22k',\n",
    "                                    '../exps/exp4_xcit_small_24_p16_384_dist',\n",
    "                                    '../exps/exp7_beit_large_patch16_224',\n",
    "                                    '../exps/exp4_crossvit_15_dagger_408',\n",
    "                                    '../exps/exp4_crossvit_18_dagger_408',\n",
    "                                    '../exps/exp4_xcit_small_24_p8_384_dist',\n",
    "                                    '../exps/exp15_vit_base_patch16_224_miil_in21k',\n",
    "                                    '../exps/exp4_pit_b_224',\n",
    "                                    '../exps/exp8_vit_base_patch16_224_miil_in21k',\n",
    "                                    '../exps/exp4_cait_m36_384',\n",
    "                                    '../exps/exp7_cait_m36_384',\n",
    "                                    '../exps/exp9_cait_m36_384',]}\n",
    "'''\n",
    "\n",
    "\n",
    "tmp = {path: proc('../exps/' + path + '/train_cv_score.csv') for path in {\n",
    "    'exp7_cait_m36_384': 0.10573687177566875,\n",
    " 'exp4_xcit_small_24_p16_384_dist': 0.09017084075938603,\n",
    " 'exp4_crossvit_18_dagger_408': 0.0864555998708494,\n",
    " 'exp4_xcit_small_24_p8_384_dist': 0.08478909740799544,\n",
    " 'exp15_vit_base_patch16_224_miil_in21k': 0.08388133976905879,\n",
    " 'exp7_swin_large_patch4_window12_384_in22k': 0.08162600824050978,\n",
    " 'exp9_cait_m36_384': 0.07951668818830163,\n",
    " 'exp7_vit_base_patch16_224_miil_in21k': 0.07448271317999128,\n",
    " 'exp7_swin_base_patch4_window12_384': 0.07014647726439097,\n",
    " 'exp7_jx_nest_base': 0.06841255969223342,\n",
    " 'exp8_vit_base_patch16_224_miil_in21k': 0.06359775694462852,\n",
    " 'exp7_vit_base_r50_s16_384': 0.061862705948120524,\n",
    " 'exp15_vit_large_patch16_224': 0.0546458052004623,\n",
    " 'exp20_convnext_base': None,\n",
    "    'exp20_convnext_large': None,\n",
    "}}\n",
    "\n",
    "df_pred = pd.DataFrame(tmp)\n",
    "\n",
    "#df_pred['bias'] = 1\n",
    "print(df_pred.shape)\n",
    "pd.options.display.max_rows = 999\n",
    "df_pred.head().T"
   ]
  },
  {
   "cell_type": "code",
   "execution_count": 18,
   "id": "74313e43-5ce9-4bb2-a3f0-b5b1d15ec541",
   "metadata": {},
   "outputs": [
    {
     "name": "stdout",
     "output_type": "stream",
     "text": [
      "../exps/exp20.py\n",
      "\n",
      "../exps/exp20_convnext_base:\n",
      "convnext_base_0.pth  convnext_base_3.pth  train_cv_score.csv\n",
      "convnext_base_1.pth  convnext_base_4.pth\n",
      "convnext_base_2.pth  hist.log\n",
      "\n",
      "../exps/exp20_convnext_large:\n",
      "_tmp.pth\t      convnext_large_2.pth  hist.log\n",
      "convnext_large_0.pth  convnext_large_3.pth  train_cv_score.csv\n",
      "convnext_large_1.pth  convnext_large_4.pth\n"
     ]
    }
   ],
   "source": [
    "!ls ../exps/exp20*"
   ]
  },
  {
   "cell_type": "code",
   "execution_count": 19,
   "id": "089a9c89-61e8-4f90-9df8-b45ca08f11f5",
   "metadata": {},
   "outputs": [],
   "source": [
    "#pred = np.load('../exps/exp9_swin_base_patch4_window12_384/all_preds.npy')\n",
    "#tmp = pd.DataFrame({'pred': pred.argmax(axis=1) + 1, 'label': (target * 100).astype(int)})\n",
    "#tmp['ok'] = tmp['pred'] == tmp['label']\n",
    "#tmp['ok'].mean()\n",
    "#np.sqrt(((tmp['pred'] - tmp['label']) ** 2).mean())\n",
    "#tmp.groupby('label')[['ok']].mean().sort_values('ok')"
   ]
  },
  {
   "cell_type": "code",
   "execution_count": 20,
   "id": "e5bbf781-4d8c-4a24-9190-0c83a9d67d07",
   "metadata": {},
   "outputs": [],
   "source": [
    "#df_pred2 = df_pred.copy()\n",
    "#df_pred2['Pawpularity'] = pd.read_csv('../exps/exp1_swin_base_patch4_window12_384/train_cv_score.csv')['Pawpularity'].values\n",
    "#df_pred2['Id'] = pd.read_csv('../exps/exp1_swin_base_patch4_window12_384/train_cv_score.csv')['path'].values\n",
    "#df_pred2['Id'] = df_pred2['Id'].map(lambda x: x.split('/')[-1][:-4])\n",
    "#df_pred2 = df_pred2[['Id', 'Pawpularity'] + df_pred.columns.values.tolist()]\n",
    "#df_pred2.sort_values('Id').to_csv('cv_prediction.csv', index=False)"
   ]
  },
  {
   "cell_type": "code",
   "execution_count": 21,
   "id": "357b7674-8055-4b43-80c5-7f032afb0b13",
   "metadata": {},
   "outputs": [],
   "source": [
    "#df_pred2['Id'].map(lambda x: x.split('/')[-1][:-4])"
   ]
  },
  {
   "cell_type": "code",
   "execution_count": 22,
   "id": "4ea14f1b-9006-4854-b686-ae0f3a221498",
   "metadata": {},
   "outputs": [
    {
     "data": {
      "text/html": [
       "<div>\n",
       "<style scoped>\n",
       "    .dataframe tbody tr th:only-of-type {\n",
       "        vertical-align: middle;\n",
       "    }\n",
       "\n",
       "    .dataframe tbody tr th {\n",
       "        vertical-align: top;\n",
       "    }\n",
       "\n",
       "    .dataframe thead th {\n",
       "        text-align: right;\n",
       "    }\n",
       "</style>\n",
       "<table border=\"1\" class=\"dataframe\">\n",
       "  <thead>\n",
       "    <tr style=\"text-align: right;\">\n",
       "      <th></th>\n",
       "      <th>rmse</th>\n",
       "    </tr>\n",
       "  </thead>\n",
       "  <tbody>\n",
       "    <tr>\n",
       "      <th>exp7_cait_m36_384</th>\n",
       "      <td>17.661636</td>\n",
       "    </tr>\n",
       "    <tr>\n",
       "      <th>exp7_swin_large_patch4_window12_384_in22k</th>\n",
       "      <td>17.687250</td>\n",
       "    </tr>\n",
       "    <tr>\n",
       "      <th>exp20_convnext_large</th>\n",
       "      <td>17.741086</td>\n",
       "    </tr>\n",
       "    <tr>\n",
       "      <th>exp7_vit_base_patch16_224_miil_in21k</th>\n",
       "      <td>17.772114</td>\n",
       "    </tr>\n",
       "    <tr>\n",
       "      <th>exp20_convnext_base</th>\n",
       "      <td>17.823614</td>\n",
       "    </tr>\n",
       "    <tr>\n",
       "      <th>exp4_xcit_small_24_p16_384_dist</th>\n",
       "      <td>17.861272</td>\n",
       "    </tr>\n",
       "    <tr>\n",
       "      <th>exp7_swin_base_patch4_window12_384</th>\n",
       "      <td>17.864037</td>\n",
       "    </tr>\n",
       "    <tr>\n",
       "      <th>exp7_jx_nest_base</th>\n",
       "      <td>17.880826</td>\n",
       "    </tr>\n",
       "    <tr>\n",
       "      <th>exp4_crossvit_18_dagger_408</th>\n",
       "      <td>17.893266</td>\n",
       "    </tr>\n",
       "    <tr>\n",
       "      <th>exp4_xcit_small_24_p8_384_dist</th>\n",
       "      <td>17.953217</td>\n",
       "    </tr>\n",
       "    <tr>\n",
       "      <th>exp8_vit_base_patch16_224_miil_in21k</th>\n",
       "      <td>18.021636</td>\n",
       "    </tr>\n",
       "    <tr>\n",
       "      <th>exp15_vit_base_patch16_224_miil_in21k</th>\n",
       "      <td>18.085443</td>\n",
       "    </tr>\n",
       "    <tr>\n",
       "      <th>exp7_vit_base_r50_s16_384</th>\n",
       "      <td>18.115582</td>\n",
       "    </tr>\n",
       "    <tr>\n",
       "      <th>exp15_vit_large_patch16_224</th>\n",
       "      <td>18.223578</td>\n",
       "    </tr>\n",
       "    <tr>\n",
       "      <th>exp9_cait_m36_384</th>\n",
       "      <td>23.401867</td>\n",
       "    </tr>\n",
       "  </tbody>\n",
       "</table>\n",
       "</div>"
      ],
      "text/plain": [
       "                                                rmse\n",
       "exp7_cait_m36_384                          17.661636\n",
       "exp7_swin_large_patch4_window12_384_in22k  17.687250\n",
       "exp20_convnext_large                       17.741086\n",
       "exp7_vit_base_patch16_224_miil_in21k       17.772114\n",
       "exp20_convnext_base                        17.823614\n",
       "exp4_xcit_small_24_p16_384_dist            17.861272\n",
       "exp7_swin_base_patch4_window12_384         17.864037\n",
       "exp7_jx_nest_base                          17.880826\n",
       "exp4_crossvit_18_dagger_408                17.893266\n",
       "exp4_xcit_small_24_p8_384_dist             17.953217\n",
       "exp8_vit_base_patch16_224_miil_in21k       18.021636\n",
       "exp15_vit_base_patch16_224_miil_in21k      18.085443\n",
       "exp7_vit_base_r50_s16_384                  18.115582\n",
       "exp15_vit_large_patch16_224                18.223578\n",
       "exp9_cait_m36_384                          23.401867"
      ]
     },
     "execution_count": 22,
     "metadata": {},
     "output_type": "execute_result"
    }
   ],
   "source": [
    "target = pd.read_csv('../exps/exp8_beit_base_patch16_224_in22k/train_cv_score.csv')['norm_score'].values\n",
    "pd.Series({col: np.sqrt(((df_pred[col] - target) ** 2).mean()) * 100 for col in df_pred}).sort_values().to_frame('rmse')"
   ]
  },
  {
   "cell_type": "code",
   "execution_count": 23,
   "id": "e3a03e8d-037d-4c66-9486-9fc53205c55b",
   "metadata": {},
   "outputs": [
    {
     "data": {
      "text/plain": [
       "array([[<AxesSubplot:title={'center':'norm_score'}>,\n",
       "        <AxesSubplot:title={'center':'pred'}>]], dtype=object)"
      ]
     },
     "execution_count": 23,
     "metadata": {},
     "output_type": "execute_result"
    },
    {
     "data": {
      "image/png": "[encoded data removed]",
      "text/plain": [
       "<Figure size 432x288 with 2 Axes>"
      ]
     },
     "metadata": {
      "needs_background": "light"
     },
     "output_type": "display_data"
    }
   ],
   "source": [
    "df = pd.read_csv('../exps/exp1_swin_base_patch4_window12_384/train_cv_score.csv')\n",
    "df[['norm_score', 'pred']].hist(bins=100)"
   ]
  },
  {
   "cell_type": "code",
   "execution_count": 24,
   "id": "80f14bc2-326d-4db3-ab9e-09da761d8dc4",
   "metadata": {},
   "outputs": [
    {
     "data": {
      "text/plain": [
       "(38.03904358353511, 424.030056516317)"
      ]
     },
     "execution_count": 24,
     "metadata": {},
     "output_type": "execute_result"
    }
   ],
   "source": [
    "df['Pawpularity'].mean(), df['Pawpularity'].var()"
   ]
  },
  {
   "cell_type": "code",
   "execution_count": 25,
   "id": "38fef785-16aa-4d77-8598-6f42179e7333",
   "metadata": {},
   "outputs": [],
   "source": [
    "#print(train_df_prev.shape)\n",
    "#train_df_prev = train_df_prev[train_df_prev['path'].isin(np.load('train_df_prev_path.npy'))]\n",
    "#print(train_df_prev.shape)"
   ]
  },
  {
   "cell_type": "code",
   "execution_count": 26,
   "id": "81202725-c179-4c49-acf1-f33521fd3d4d",
   "metadata": {},
   "outputs": [
    {
     "name": "stderr",
     "output_type": "stream",
     "text": [
      "/opt/conda/lib/python3.7/site-packages/ipykernel_launcher.py:1: FutureWarning: `rcond` parameter will change to the default of machine precision times ``max(M, N)`` where M and N are the input matrix dimensions.\n",
      "To use the future default and silence this warning we advise to pass `rcond=None`, to keep using the old, explicitly pass `rcond=-1`.\n",
      "  \"\"\"Entry point for launching an IPython kernel.\n"
     ]
    },
    {
     "data": {
      "text/plain": [
       "<AxesSubplot:>"
      ]
     },
     "execution_count": 26,
     "metadata": {},
     "output_type": "execute_result"
    },
    {
     "data": {
      "image/png": "[encoded data removed]",
      "text/plain": [
       "<Figure size 432x288 with 1 Axes>"
      ]
     },
     "metadata": {
      "needs_background": "light"
     },
     "output_type": "display_data"
    }
   ],
   "source": [
    "coef = np.linalg.lstsq(df_pred.values, target)[0]\n",
    "pd.Series(coef).plot(kind='bar')"
   ]
  },
  {
   "cell_type": "code",
   "execution_count": 27,
   "id": "b0b15f10-01e9-4bc1-98fb-2c5430184e07",
   "metadata": {},
   "outputs": [
    {
     "data": {
      "text/html": [
       "<div>\n",
       "<style scoped>\n",
       "    .dataframe tbody tr th:only-of-type {\n",
       "        vertical-align: middle;\n",
       "    }\n",
       "\n",
       "    .dataframe tbody tr th {\n",
       "        vertical-align: top;\n",
       "    }\n",
       "\n",
       "    .dataframe thead th {\n",
       "        text-align: right;\n",
       "    }\n",
       "</style>\n",
       "<table border=\"1\" class=\"dataframe\">\n",
       "  <thead>\n",
       "    <tr style=\"text-align: right;\">\n",
       "      <th></th>\n",
       "      <th>coef</th>\n",
       "    </tr>\n",
       "  </thead>\n",
       "  <tbody>\n",
       "    <tr>\n",
       "      <th>exp20_convnext_large</th>\n",
       "      <td>0.102893</td>\n",
       "    </tr>\n",
       "    <tr>\n",
       "      <th>exp15_vit_base_patch16_224_miil_in21k</th>\n",
       "      <td>0.084460</td>\n",
       "    </tr>\n",
       "    <tr>\n",
       "      <th>exp7_cait_m36_384</th>\n",
       "      <td>0.083736</td>\n",
       "    </tr>\n",
       "    <tr>\n",
       "      <th>exp9_cait_m36_384</th>\n",
       "      <td>0.076852</td>\n",
       "    </tr>\n",
       "    <tr>\n",
       "      <th>exp4_xcit_small_24_p16_384_dist</th>\n",
       "      <td>0.074807</td>\n",
       "    </tr>\n",
       "    <tr>\n",
       "      <th>exp4_xcit_small_24_p8_384_dist</th>\n",
       "      <td>0.072112</td>\n",
       "    </tr>\n",
       "    <tr>\n",
       "      <th>exp7_vit_base_patch16_224_miil_in21k</th>\n",
       "      <td>0.071608</td>\n",
       "    </tr>\n",
       "    <tr>\n",
       "      <th>exp7_swin_large_patch4_window12_384_in22k</th>\n",
       "      <td>0.071521</td>\n",
       "    </tr>\n",
       "    <tr>\n",
       "      <th>exp4_crossvit_18_dagger_408</th>\n",
       "      <td>0.071037</td>\n",
       "    </tr>\n",
       "    <tr>\n",
       "      <th>exp7_vit_base_r50_s16_384</th>\n",
       "      <td>0.058498</td>\n",
       "    </tr>\n",
       "    <tr>\n",
       "      <th>exp7_swin_base_patch4_window12_384</th>\n",
       "      <td>0.055928</td>\n",
       "    </tr>\n",
       "    <tr>\n",
       "      <th>exp8_vit_base_patch16_224_miil_in21k</th>\n",
       "      <td>0.055493</td>\n",
       "    </tr>\n",
       "    <tr>\n",
       "      <th>exp15_vit_large_patch16_224</th>\n",
       "      <td>0.053193</td>\n",
       "    </tr>\n",
       "    <tr>\n",
       "      <th>exp7_jx_nest_base</th>\n",
       "      <td>0.052151</td>\n",
       "    </tr>\n",
       "    <tr>\n",
       "      <th>exp20_convnext_base</th>\n",
       "      <td>0.020282</td>\n",
       "    </tr>\n",
       "  </tbody>\n",
       "</table>\n",
       "</div>"
      ],
      "text/plain": [
       "                                               coef\n",
       "exp20_convnext_large                       0.102893\n",
       "exp15_vit_base_patch16_224_miil_in21k      0.084460\n",
       "exp7_cait_m36_384                          0.083736\n",
       "exp9_cait_m36_384                          0.076852\n",
       "exp4_xcit_small_24_p16_384_dist            0.074807\n",
       "exp4_xcit_small_24_p8_384_dist             0.072112\n",
       "exp7_vit_base_patch16_224_miil_in21k       0.071608\n",
       "exp7_swin_large_patch4_window12_384_in22k  0.071521\n",
       "exp4_crossvit_18_dagger_408                0.071037\n",
       "exp7_vit_base_r50_s16_384                  0.058498\n",
       "exp7_swin_base_patch4_window12_384         0.055928\n",
       "exp8_vit_base_patch16_224_miil_in21k       0.055493\n",
       "exp15_vit_large_patch16_224                0.053193\n",
       "exp7_jx_nest_base                          0.052151\n",
       "exp20_convnext_base                        0.020282"
      ]
     },
     "execution_count": 27,
     "metadata": {},
     "output_type": "execute_result"
    }
   ],
   "source": [
    "pd.options.display.max_rows = 999\n",
    "pd.Series(coef, index=df_pred.columns.values).sort_values(ascending=False).to_frame('coef')\n",
    "#coef"
   ]
  },
  {
   "cell_type": "code",
   "execution_count": 28,
   "id": "99bc7874-c75d-42d1-a7cc-2e7610d6a522",
   "metadata": {
    "tags": []
   },
   "outputs": [
    {
     "name": "stderr",
     "output_type": "stream",
     "text": [
      "/opt/conda/lib/python3.7/site-packages/ipykernel_launcher.py:4: FutureWarning: `rcond` parameter will change to the default of machine precision times ``max(M, N)`` where M and N are the input matrix dimensions.\n",
      "To use the future default and silence this warning we advise to pass `rcond=None`, to keep using the old, explicitly pass `rcond=-1`.\n",
      "  after removing the cwd from sys.path.\n"
     ]
    },
    {
     "data": {
      "text/plain": [
       "(array([0.05555433, 0.05460188, 0.05634504, 0.05739068, 0.05860054,\n",
       "        0.07255285, 0.0721025 , 0.07195491, 0.07345537, 0.07615824,\n",
       "        0.07699896, 0.08676664, 0.08459694, 0.10757345]),\n",
       " 1.0046523114136765)"
      ]
     },
     "execution_count": 28,
     "metadata": {},
     "output_type": "execute_result"
    }
   ],
   "source": [
    "df_pred2 = df_pred.copy()\n",
    "\n",
    "for i in range(200):\n",
    "    coef = np.linalg.lstsq(df_pred2.values, target)[0]\n",
    "    cols = df_pred2.columns[np.argsort(coef)][1:]\n",
    "    if min(coef) > 0.05:\n",
    "        break\n",
    "    df_pred2 = df_pred2[cols]\n",
    "    #print(df_pred2.shape)\n",
    "coef, coef.sum()"
   ]
  },
  {
   "cell_type": "code",
   "execution_count": 29,
   "id": "251d04fc-b615-4162-b798-722d3eb07aef",
   "metadata": {},
   "outputs": [
    {
     "data": {
      "text/plain": [
       "0.17213361474052205"
      ]
     },
     "execution_count": 29,
     "metadata": {},
     "output_type": "execute_result"
    }
   ],
   "source": [
    "np.sqrt(((np.dot(df_pred2, coef) - target) ** 2).mean())"
   ]
  },
  {
   "cell_type": "code",
   "execution_count": 30,
   "id": "be8f9adf-5974-4762-8b74-0c2c4608fbf7",
   "metadata": {},
   "outputs": [
    {
     "data": {
      "text/html": [
       "<div>\n",
       "<style scoped>\n",
       "    .dataframe tbody tr th:only-of-type {\n",
       "        vertical-align: middle;\n",
       "    }\n",
       "\n",
       "    .dataframe tbody tr th {\n",
       "        vertical-align: top;\n",
       "    }\n",
       "\n",
       "    .dataframe thead th {\n",
       "        text-align: right;\n",
       "    }\n",
       "</style>\n",
       "<table border=\"1\" class=\"dataframe\">\n",
       "  <thead>\n",
       "    <tr style=\"text-align: right;\">\n",
       "      <th></th>\n",
       "      <th>exp7_jx_nest_base</th>\n",
       "      <th>exp15_vit_large_patch16_224</th>\n",
       "      <th>exp8_vit_base_patch16_224_miil_in21k</th>\n",
       "      <th>exp7_swin_base_patch4_window12_384</th>\n",
       "      <th>exp7_vit_base_r50_s16_384</th>\n",
       "      <th>exp4_crossvit_18_dagger_408</th>\n",
       "      <th>exp7_swin_large_patch4_window12_384_in22k</th>\n",
       "      <th>exp7_vit_base_patch16_224_miil_in21k</th>\n",
       "      <th>exp4_xcit_small_24_p8_384_dist</th>\n",
       "      <th>exp4_xcit_small_24_p16_384_dist</th>\n",
       "      <th>exp9_cait_m36_384</th>\n",
       "      <th>exp7_cait_m36_384</th>\n",
       "      <th>exp15_vit_base_patch16_224_miil_in21k</th>\n",
       "      <th>exp20_convnext_large</th>\n",
       "    </tr>\n",
       "  </thead>\n",
       "  <tbody>\n",
       "    <tr>\n",
       "      <th>0</th>\n",
       "      <td>0.364438</td>\n",
       "      <td>0.381902</td>\n",
       "      <td>0.383789</td>\n",
       "      <td>0.432363</td>\n",
       "      <td>0.300438</td>\n",
       "      <td>0.409929</td>\n",
       "      <td>0.349422</td>\n",
       "      <td>0.354992</td>\n",
       "      <td>0.350199</td>\n",
       "      <td>0.407569</td>\n",
       "      <td>0.26</td>\n",
       "      <td>0.301156</td>\n",
       "      <td>0.375981</td>\n",
       "      <td>0.334807</td>\n",
       "    </tr>\n",
       "    <tr>\n",
       "      <th>1</th>\n",
       "      <td>0.503971</td>\n",
       "      <td>0.401796</td>\n",
       "      <td>0.331299</td>\n",
       "      <td>0.565179</td>\n",
       "      <td>0.423398</td>\n",
       "      <td>0.506530</td>\n",
       "      <td>0.497883</td>\n",
       "      <td>0.432782</td>\n",
       "      <td>0.394726</td>\n",
       "      <td>0.436862</td>\n",
       "      <td>0.32</td>\n",
       "      <td>0.454472</td>\n",
       "      <td>0.394025</td>\n",
       "      <td>0.439537</td>\n",
       "    </tr>\n",
       "    <tr>\n",
       "      <th>2</th>\n",
       "      <td>0.342022</td>\n",
       "      <td>0.329863</td>\n",
       "      <td>0.345703</td>\n",
       "      <td>0.325413</td>\n",
       "      <td>0.277963</td>\n",
       "      <td>0.319334</td>\n",
       "      <td>0.329068</td>\n",
       "      <td>0.280616</td>\n",
       "      <td>0.294215</td>\n",
       "      <td>0.355999</td>\n",
       "      <td>0.32</td>\n",
       "      <td>0.386127</td>\n",
       "      <td>0.281597</td>\n",
       "      <td>0.395134</td>\n",
       "    </tr>\n",
       "    <tr>\n",
       "      <th>3</th>\n",
       "      <td>0.220678</td>\n",
       "      <td>0.283251</td>\n",
       "      <td>0.219849</td>\n",
       "      <td>0.228329</td>\n",
       "      <td>0.285671</td>\n",
       "      <td>0.269614</td>\n",
       "      <td>0.294316</td>\n",
       "      <td>0.289171</td>\n",
       "      <td>0.297878</td>\n",
       "      <td>0.257765</td>\n",
       "      <td>0.26</td>\n",
       "      <td>0.251648</td>\n",
       "      <td>0.285473</td>\n",
       "      <td>0.227985</td>\n",
       "    </tr>\n",
       "    <tr>\n",
       "      <th>4</th>\n",
       "      <td>0.282295</td>\n",
       "      <td>0.358063</td>\n",
       "      <td>0.354980</td>\n",
       "      <td>0.346652</td>\n",
       "      <td>0.308919</td>\n",
       "      <td>0.327776</td>\n",
       "      <td>0.340376</td>\n",
       "      <td>0.306423</td>\n",
       "      <td>0.317109</td>\n",
       "      <td>0.305387</td>\n",
       "      <td>0.28</td>\n",
       "      <td>0.360827</td>\n",
       "      <td>0.283251</td>\n",
       "      <td>0.299208</td>\n",
       "    </tr>\n",
       "    <tr>\n",
       "      <th>...</th>\n",
       "      <td>...</td>\n",
       "      <td>...</td>\n",
       "      <td>...</td>\n",
       "      <td>...</td>\n",
       "      <td>...</td>\n",
       "      <td>...</td>\n",
       "      <td>...</td>\n",
       "      <td>...</td>\n",
       "      <td>...</td>\n",
       "      <td>...</td>\n",
       "      <td>...</td>\n",
       "      <td>...</td>\n",
       "      <td>...</td>\n",
       "      <td>...</td>\n",
       "    </tr>\n",
       "    <tr>\n",
       "      <th>9907</th>\n",
       "      <td>0.445650</td>\n",
       "      <td>0.378930</td>\n",
       "      <td>0.370605</td>\n",
       "      <td>0.408690</td>\n",
       "      <td>0.377828</td>\n",
       "      <td>0.360939</td>\n",
       "      <td>0.402333</td>\n",
       "      <td>0.427636</td>\n",
       "      <td>0.451206</td>\n",
       "      <td>0.458409</td>\n",
       "      <td>0.35</td>\n",
       "      <td>0.351200</td>\n",
       "      <td>0.431907</td>\n",
       "      <td>0.481957</td>\n",
       "    </tr>\n",
       "    <tr>\n",
       "      <th>9908</th>\n",
       "      <td>0.519735</td>\n",
       "      <td>0.567731</td>\n",
       "      <td>0.447266</td>\n",
       "      <td>0.521212</td>\n",
       "      <td>0.563078</td>\n",
       "      <td>0.532729</td>\n",
       "      <td>0.534370</td>\n",
       "      <td>0.530115</td>\n",
       "      <td>0.468517</td>\n",
       "      <td>0.510756</td>\n",
       "      <td>1.00</td>\n",
       "      <td>0.452113</td>\n",
       "      <td>0.480887</td>\n",
       "      <td>0.489938</td>\n",
       "    </tr>\n",
       "    <tr>\n",
       "      <th>9909</th>\n",
       "      <td>0.359589</td>\n",
       "      <td>0.270809</td>\n",
       "      <td>0.296143</td>\n",
       "      <td>0.218003</td>\n",
       "      <td>0.349977</td>\n",
       "      <td>0.283781</td>\n",
       "      <td>0.204342</td>\n",
       "      <td>0.255901</td>\n",
       "      <td>0.393502</td>\n",
       "      <td>0.344443</td>\n",
       "      <td>0.30</td>\n",
       "      <td>0.265499</td>\n",
       "      <td>0.275073</td>\n",
       "      <td>0.299925</td>\n",
       "    </tr>\n",
       "    <tr>\n",
       "      <th>9910</th>\n",
       "      <td>0.387459</td>\n",
       "      <td>0.467003</td>\n",
       "      <td>0.398193</td>\n",
       "      <td>0.370453</td>\n",
       "      <td>0.403684</td>\n",
       "      <td>0.352648</td>\n",
       "      <td>0.310694</td>\n",
       "      <td>0.359027</td>\n",
       "      <td>0.369656</td>\n",
       "      <td>0.418103</td>\n",
       "      <td>0.30</td>\n",
       "      <td>0.387053</td>\n",
       "      <td>0.428546</td>\n",
       "      <td>0.390011</td>\n",
       "    </tr>\n",
       "    <tr>\n",
       "      <th>9911</th>\n",
       "      <td>0.384277</td>\n",
       "      <td>0.384897</td>\n",
       "      <td>0.383057</td>\n",
       "      <td>0.401336</td>\n",
       "      <td>0.361503</td>\n",
       "      <td>0.455683</td>\n",
       "      <td>0.512441</td>\n",
       "      <td>0.475012</td>\n",
       "      <td>0.328529</td>\n",
       "      <td>0.512510</td>\n",
       "      <td>0.40</td>\n",
       "      <td>0.511503</td>\n",
       "      <td>0.428546</td>\n",
       "      <td>0.586227</td>\n",
       "    </tr>\n",
       "  </tbody>\n",
       "</table>\n",
       "<p>9912 rows × 14 columns</p>\n",
       "</div>"
      ],
      "text/plain": [
       "      exp7_jx_nest_base  exp15_vit_large_patch16_224  \\\n",
       "0              0.364438                     0.381902   \n",
       "1              0.503971                     0.401796   \n",
       "2              0.342022                     0.329863   \n",
       "3              0.220678                     0.283251   \n",
       "4              0.282295                     0.358063   \n",
       "...                 ...                          ...   \n",
       "9907           0.445650                     0.378930   \n",
       "9908           0.519735                     0.567731   \n",
       "9909           0.359589                     0.270809   \n",
       "9910           0.387459                     0.467003   \n",
       "9911           0.384277                     0.384897   \n",
       "\n",
       "      exp8_vit_base_patch16_224_miil_in21k  \\\n",
       "0                                 0.383789   \n",
       "1                                 0.331299   \n",
       "2                                 0.345703   \n",
       "3                                 0.219849   \n",
       "4                                 0.354980   \n",
       "...                                    ...   \n",
       "9907                              0.370605   \n",
       "9908                              0.447266   \n",
       "9909                              0.296143   \n",
       "9910                              0.398193   \n",
       "9911                              0.383057   \n",
       "\n",
       "      exp7_swin_base_patch4_window12_384  exp7_vit_base_r50_s16_384  \\\n",
       "0                               0.432363                   0.300438   \n",
       "1                               0.565179                   0.423398   \n",
       "2                               0.325413                   0.277963   \n",
       "3                               0.228329                   0.285671   \n",
       "4                               0.346652                   0.308919   \n",
       "...                                  ...                        ...   \n",
       "9907                            0.408690                   0.377828   \n",
       "9908                            0.521212                   0.563078   \n",
       "9909                            0.218003                   0.349977   \n",
       "9910                            0.370453                   0.403684   \n",
       "9911                            0.401336                   0.361503   \n",
       "\n",
       "      exp4_crossvit_18_dagger_408  exp7_swin_large_patch4_window12_384_in22k  \\\n",
       "0                        0.409929                                   0.349422   \n",
       "1                        0.506530                                   0.497883   \n",
       "2                        0.319334                                   0.329068   \n",
       "3                        0.269614                                   0.294316   \n",
       "4                        0.327776                                   0.340376   \n",
       "...                           ...                                        ...   \n",
       "9907                     0.360939                                   0.402333   \n",
       "9908                     0.532729                                   0.534370   \n",
       "9909                     0.283781                                   0.204342   \n",
       "9910                     0.352648                                   0.310694   \n",
       "9911                     0.455683                                   0.512441   \n",
       "\n",
       "      exp7_vit_base_patch16_224_miil_in21k  exp4_xcit_small_24_p8_384_dist  \\\n",
       "0                                 0.354992                        0.350199   \n",
       "1                                 0.432782                        0.394726   \n",
       "2                                 0.280616                        0.294215   \n",
       "3                                 0.289171                        0.297878   \n",
       "4                                 0.306423                        0.317109   \n",
       "...                                    ...                             ...   \n",
       "9907                              0.427636                        0.451206   \n",
       "9908                              0.530115                        0.468517   \n",
       "9909                              0.255901                        0.393502   \n",
       "9910                              0.359027                        0.369656   \n",
       "9911                              0.475012                        0.328529   \n",
       "\n",
       "      exp4_xcit_small_24_p16_384_dist  exp9_cait_m36_384  exp7_cait_m36_384  \\\n",
       "0                            0.407569               0.26           0.301156   \n",
       "1                            0.436862               0.32           0.454472   \n",
       "2                            0.355999               0.32           0.386127   \n",
       "3                            0.257765               0.26           0.251648   \n",
       "4                            0.305387               0.28           0.360827   \n",
       "...                               ...                ...                ...   \n",
       "9907                         0.458409               0.35           0.351200   \n",
       "9908                         0.510756               1.00           0.452113   \n",
       "9909                         0.344443               0.30           0.265499   \n",
       "9910                         0.418103               0.30           0.387053   \n",
       "9911                         0.512510               0.40           0.511503   \n",
       "\n",
       "      exp15_vit_base_patch16_224_miil_in21k  exp20_convnext_large  \n",
       "0                                  0.375981              0.334807  \n",
       "1                                  0.394025              0.439537  \n",
       "2                                  0.281597              0.395134  \n",
       "3                                  0.285473              0.227985  \n",
       "4                                  0.283251              0.299208  \n",
       "...                                     ...                   ...  \n",
       "9907                               0.431907              0.481957  \n",
       "9908                               0.480887              0.489938  \n",
       "9909                               0.275073              0.299925  \n",
       "9910                               0.428546              0.390011  \n",
       "9911                               0.428546              0.586227  \n",
       "\n",
       "[9912 rows x 14 columns]"
      ]
     },
     "execution_count": 30,
     "metadata": {},
     "output_type": "execute_result"
    }
   ],
   "source": [
    "df_pred2"
   ]
  },
  {
   "cell_type": "code",
   "execution_count": 31,
   "id": "4b47fc28-691c-4035-8fc6-ba3693f5da6a",
   "metadata": {},
   "outputs": [
    {
     "name": "stdout",
     "output_type": "stream",
     "text": [
      "Requirement already satisfied: cvxopt in /opt/conda/lib/python3.7/site-packages (1.2.7)\n",
      "\u001b[33mWARNING: Error parsing requirements for pybind11: [Errno 2] No such file or directory: '/opt/conda/lib/python3.7/site-packages/pybind11-2.8.1.dist-info/METADATA'\u001b[0m\n",
      "\u001b[33mWARNING: Running pip as the 'root' user can result in broken permissions and conflicting behaviour with the system package manager. It is recommended to use a virtual environment instead: https://pip.pypa.io/warnings/venv\u001b[0m\n"
     ]
    }
   ],
   "source": [
    "!pip install cvxopt"
   ]
  },
  {
   "cell_type": "code",
   "execution_count": 46,
   "id": "c11ce42b-6bf8-408c-ae3b-f6e83164791c",
   "metadata": {
    "tags": []
   },
   "outputs": [
    {
     "name": "stdout",
     "output_type": "stream",
     "text": [
      "     pcost       dcost       gap    pres   dres\n",
      " 0: -7.8040e+02 -7.8144e+02  1e+00  0e+00  7e-04\n",
      " 1: -7.8040e+02 -7.8042e+02  2e-02  5e-17  1e-05\n",
      " 2: -7.8040e+02 -7.8040e+02  2e-04  6e-17  1e-07\n",
      " 3: -7.8040e+02 -7.8040e+02  2e-06  5e-17  1e-09\n",
      "Optimal solution found.\n",
      "(9912, 14)\n",
      "     pcost       dcost       gap    pres   dres\n",
      " 0: -7.8040e+02 -7.8144e+02  1e+00  0e+00  7e-04\n",
      " 1: -7.8040e+02 -7.8041e+02  1e-02  4e-17  1e-05\n",
      " 2: -7.8040e+02 -7.8040e+02  1e-04  3e-17  1e-07\n",
      "Optimal solution found.\n"
     ]
    }
   ],
   "source": [
    "from cvxopt import matrix, solvers\n",
    "df_pred2 = df_pred.copy()\n",
    "for i in range(200):\n",
    "    Q = np.dot(df_pred2.T, df_pred2)\n",
    "    q = - np.dot(target, df_pred2)\n",
    "    G = - np.eye(Q.shape[0])\n",
    "    h = np.zeros(Q.shape[0])\n",
    "    sol = solvers.qp(matrix(Q), matrix(q), matrix(G), matrix(h))\n",
    "\n",
    "    coef = np.array(sol['x'])[:, 0]\n",
    "    cols = df_pred2.columns[np.argsort(coef)][1:]\n",
    "    if min(coef) > 0.05:\n",
    "        break\n",
    "    df_pred2 = df_pred2[cols]\n",
    "    print(df_pred2.shape)\n",
    "    \n"
   ]
  },
  {
   "cell_type": "code",
   "execution_count": 47,
   "id": "5a8e9a78-9184-4419-871c-109af19b4edc",
   "metadata": {},
   "outputs": [
    {
     "data": {
      "text/plain": [
       "<AxesSubplot:>"
      ]
     },
     "execution_count": 47,
     "metadata": {},
     "output_type": "execute_result"
    },
    {
     "data": {
      "image/png": "[encoded data removed]",
      "text/plain": [
       "<Figure size 432x288 with 1 Axes>"
      ]
     },
     "metadata": {
      "needs_background": "light"
     },
     "output_type": "display_data"
    }
   ],
   "source": [
    "pd.Series(np.array(sol['x'])[:, 0]).plot(kind='bar')"
   ]
  },
  {
   "cell_type": "code",
   "execution_count": 54,
   "id": "ca651d3c-1131-4682-881a-3d7ad9262b05",
   "metadata": {},
   "outputs": [],
   "source": [
    "#df['pred'] = np.dot(df_pred2, coef)\n",
    "#df.to_csv('ens_exp20.csv', index=False)"
   ]
  },
  {
   "cell_type": "code",
   "execution_count": 49,
   "id": "ae6caf8e-4adb-431a-8b52-e2a65dcad22f",
   "metadata": {},
   "outputs": [
    {
     "name": "stdout",
     "output_type": "stream",
     "text": [
      "hist.log\t\t\t xcit_small_24_p8_384_dist_2.pth\n",
      "train_cv_score.csv\t\t xcit_small_24_p8_384_dist_3.pth\n",
      "xcit_small_24_p8_384_dist_0.pth  xcit_small_24_p8_384_dist_4.pth\n",
      "xcit_small_24_p8_384_dist_1.pth\n"
     ]
    }
   ],
   "source": [
    "!ls ../exps/exp4_xcit_small_24_p8_384_dist/"
   ]
  },
  {
   "cell_type": "code",
   "execution_count": 50,
   "id": "2e994401-7563-494f-a30f-89e81045ee8d",
   "metadata": {},
   "outputs": [
    {
     "name": "stdout",
     "output_type": "stream",
     "text": [
      "all_preds.npy\t\t crossvit_base_240_2.pth  hist.log\n",
      "crossvit_base_240_0.pth  crossvit_base_240_3.pth  train_cv_score.csv\n",
      "crossvit_base_240_1.pth  crossvit_base_240_4.pth\n"
     ]
    }
   ],
   "source": [
    "!ls ../exps/exp9_crossvit_base_240"
   ]
  },
  {
   "cell_type": "code",
   "execution_count": 51,
   "id": "303e1911-4e9e-41f8-acef-ada8ae1d45ef",
   "metadata": {},
   "outputs": [
    {
     "data": {
      "text/plain": [
       "{'exp15_vit_base_patch16_224_miil_in21k': 0.08459557519051042,\n",
       " 'exp15_vit_large_patch16_224': 0.054602278608471444,\n",
       " 'exp20_convnext_large': 0.10757113794966554,\n",
       " 'exp4_crossvit_18_dagger_408': 0.07255291221705243,\n",
       " 'exp4_xcit_small_24_p16_384_dist': 0.07615822693896708,\n",
       " 'exp4_xcit_small_24_p8_384_dist': 0.07345531269210354,\n",
       " 'exp7_cait_m36_384': 0.08676476831055598,\n",
       " 'exp7_jx_nest_base': 0.05555615759973762,\n",
       " 'exp7_swin_base_patch4_window12_384': 0.0573931578726199,\n",
       " 'exp7_swin_large_patch4_window12_384_in22k': 0.07210228959069125,\n",
       " 'exp7_vit_base_patch16_224_miil_in21k': 0.07195345528468275,\n",
       " 'exp7_vit_base_r50_s16_384': 0.058601333331186556,\n",
       " 'exp8_vit_base_patch16_224_miil_in21k': 0.05634679166402379,\n",
       " 'exp9_cait_m36_384': 0.0769990055041272}"
      ]
     },
     "execution_count": 51,
     "metadata": {},
     "output_type": "execute_result"
    }
   ],
   "source": [
    "res = pd.DataFrame({'col': df_pred2.columns, 'coef': coef}).sort_values('coef', ascending=False)\n",
    "res\n",
    "res.set_index('col')['coef'].sort_index().to_dict()"
   ]
  },
  {
   "cell_type": "code",
   "execution_count": 53,
   "id": "45dd6a16-6891-4099-985c-00cd6bcaccff",
   "metadata": {},
   "outputs": [
    {
     "data": {
      "text/html": [
       "<div>\n",
       "<style scoped>\n",
       "    .dataframe tbody tr th:only-of-type {\n",
       "        vertical-align: middle;\n",
       "    }\n",
       "\n",
       "    .dataframe tbody tr th {\n",
       "        vertical-align: top;\n",
       "    }\n",
       "\n",
       "    .dataframe thead th {\n",
       "        text-align: right;\n",
       "    }\n",
       "</style>\n",
       "<table border=\"1\" class=\"dataframe\">\n",
       "  <thead>\n",
       "    <tr style=\"text-align: right;\">\n",
       "      <th></th>\n",
       "      <th>col</th>\n",
       "      <th>coef</th>\n",
       "    </tr>\n",
       "  </thead>\n",
       "  <tbody>\n",
       "    <tr>\n",
       "      <th>13</th>\n",
       "      <td>exp20_convnext_large</td>\n",
       "      <td>0.107571</td>\n",
       "    </tr>\n",
       "    <tr>\n",
       "      <th>11</th>\n",
       "      <td>exp7_cait_m36_384</td>\n",
       "      <td>0.086765</td>\n",
       "    </tr>\n",
       "    <tr>\n",
       "      <th>12</th>\n",
       "      <td>exp15_vit_base_patch16_224_miil_in21k</td>\n",
       "      <td>0.084596</td>\n",
       "    </tr>\n",
       "    <tr>\n",
       "      <th>10</th>\n",
       "      <td>exp9_cait_m36_384</td>\n",
       "      <td>0.076999</td>\n",
       "    </tr>\n",
       "    <tr>\n",
       "      <th>9</th>\n",
       "      <td>exp4_xcit_small_24_p16_384_dist</td>\n",
       "      <td>0.076158</td>\n",
       "    </tr>\n",
       "    <tr>\n",
       "      <th>8</th>\n",
       "      <td>exp4_xcit_small_24_p8_384_dist</td>\n",
       "      <td>0.073455</td>\n",
       "    </tr>\n",
       "    <tr>\n",
       "      <th>5</th>\n",
       "      <td>exp4_crossvit_18_dagger_408</td>\n",
       "      <td>0.072553</td>\n",
       "    </tr>\n",
       "    <tr>\n",
       "      <th>6</th>\n",
       "      <td>exp7_swin_large_patch4_window12_384_in22k</td>\n",
       "      <td>0.072102</td>\n",
       "    </tr>\n",
       "    <tr>\n",
       "      <th>7</th>\n",
       "      <td>exp7_vit_base_patch16_224_miil_in21k</td>\n",
       "      <td>0.071953</td>\n",
       "    </tr>\n",
       "    <tr>\n",
       "      <th>4</th>\n",
       "      <td>exp7_vit_base_r50_s16_384</td>\n",
       "      <td>0.058601</td>\n",
       "    </tr>\n",
       "    <tr>\n",
       "      <th>3</th>\n",
       "      <td>exp7_swin_base_patch4_window12_384</td>\n",
       "      <td>0.057393</td>\n",
       "    </tr>\n",
       "    <tr>\n",
       "      <th>2</th>\n",
       "      <td>exp8_vit_base_patch16_224_miil_in21k</td>\n",
       "      <td>0.056347</td>\n",
       "    </tr>\n",
       "    <tr>\n",
       "      <th>0</th>\n",
       "      <td>exp7_jx_nest_base</td>\n",
       "      <td>0.055556</td>\n",
       "    </tr>\n",
       "    <tr>\n",
       "      <th>1</th>\n",
       "      <td>exp15_vit_large_patch16_224</td>\n",
       "      <td>0.054602</td>\n",
       "    </tr>\n",
       "  </tbody>\n",
       "</table>\n",
       "</div>"
      ],
      "text/plain": [
       "                                          col      coef\n",
       "13                       exp20_convnext_large  0.107571\n",
       "11                          exp7_cait_m36_384  0.086765\n",
       "12      exp15_vit_base_patch16_224_miil_in21k  0.084596\n",
       "10                          exp9_cait_m36_384  0.076999\n",
       "9             exp4_xcit_small_24_p16_384_dist  0.076158\n",
       "8              exp4_xcit_small_24_p8_384_dist  0.073455\n",
       "5                 exp4_crossvit_18_dagger_408  0.072553\n",
       "6   exp7_swin_large_patch4_window12_384_in22k  0.072102\n",
       "7        exp7_vit_base_patch16_224_miil_in21k  0.071953\n",
       "4                   exp7_vit_base_r50_s16_384  0.058601\n",
       "3          exp7_swin_base_patch4_window12_384  0.057393\n",
       "2        exp8_vit_base_patch16_224_miil_in21k  0.056347\n",
       "0                           exp7_jx_nest_base  0.055556\n",
       "1                 exp15_vit_large_patch16_224  0.054602"
      ]
     },
     "execution_count": 53,
     "metadata": {},
     "output_type": "execute_result"
    }
   ],
   "source": [
    "res"
   ]
  },
  {
   "cell_type": "code",
   "execution_count": 39,
   "id": "beaefc9d-d2f9-4a18-baa8-a2ada2959a3a",
   "metadata": {},
   "outputs": [
    {
     "name": "stdout",
     "output_type": "stream",
     "text": [
      "gsutil -m cp -r  gs://takami-kaggle-12/pet/\n",
      "gsutil -m cp -r  gs://takami-kaggle-12/pet/\n",
      "gsutil -m cp -r  gs://takami-kaggle-12/pet/\n",
      "gsutil -m cp -r  gs://takami-kaggle-12/pet/\n",
      "gsutil -m cp -r  gs://takami-kaggle-12/pet/\n",
      "gsutil -m cp -r  gs://takami-kaggle-12/pet/\n",
      "gsutil -m cp -r  gs://takami-kaggle-12/pet/\n",
      "gsutil -m cp -r  gs://takami-kaggle-12/pet/\n",
      "gsutil -m cp -r  gs://takami-kaggle-12/pet/\n",
      "gsutil -m cp -r  gs://takami-kaggle-12/pet/\n",
      "gsutil -m cp -r  gs://takami-kaggle-12/pet/\n",
      "gsutil -m cp -r  gs://takami-kaggle-12/pet/\n",
      "gsutil -m cp -r  gs://takami-kaggle-12/pet/\n",
      "gsutil -m cp -r  gs://takami-kaggle-12/pet/\n",
      "gsutil -m cp -r  gs://takami-kaggle-12/pet/\n"
     ]
    }
   ],
   "source": [
    "for path in res['col'].sort_values().values:\n",
    "    if 1:#not 'exp7' in path and not 'exp4' in path and not 'exp9' in path:\n",
    "        print('gsutil -m cp -r', os.path.dirname(path), 'gs://takami-kaggle-12/pet/')"
   ]
  },
  {
   "cell_type": "code",
   "execution_count": null,
   "id": "39f5e127-4dec-4583-9194-d99a72cdb55f",
   "metadata": {},
   "outputs": [],
   "source": []
  },
  {
   "cell_type": "code",
   "execution_count": 40,
   "id": "b362ac15-7187-44e9-bc23-24b90f2b5407",
   "metadata": {
    "tags": []
   },
   "outputs": [
    {
     "data": {
      "text/plain": [
       "['exp15_vit_base_patch16_224_miil_in21k',\n",
       " 'exp15_vit_large_patch16_224',\n",
       " 'exp20_convnext_base',\n",
       " 'exp20_convnext_large',\n",
       " 'exp4_crossvit_18_dagger_408',\n",
       " 'exp4_xcit_small_24_p16_384_dist',\n",
       " 'exp4_xcit_small_24_p8_384_dist',\n",
       " 'exp7_cait_m36_384',\n",
       " 'exp7_jx_nest_base',\n",
       " 'exp7_swin_base_patch4_window12_384',\n",
       " 'exp7_swin_large_patch4_window12_384_in22k',\n",
       " 'exp7_vit_base_patch16_224_miil_in21k',\n",
       " 'exp7_vit_base_r50_s16_384',\n",
       " 'exp8_vit_base_patch16_224_miil_in21k',\n",
       " 'exp9_cait_m36_384']"
      ]
     },
     "execution_count": 40,
     "metadata": {},
     "output_type": "execute_result"
    }
   ],
   "source": [
    "res.col.sort_values().values.tolist()"
   ]
  },
  {
   "cell_type": "code",
   "execution_count": 41,
   "id": "735b8638-354d-4693-ad5a-f4b9ad326a81",
   "metadata": {},
   "outputs": [
    {
     "name": "stdout",
     "output_type": "stream",
     "text": [
      "_base_patch16_224_miil_in21k\n",
      "_base_patch16_224_miil_in21k\n",
      "_base_r50_s16_384\n",
      "n_base_patch4_window12_384\n",
      "n_large_patch4_window12_384_in22k\n",
      "nest_base\n",
      "nvnext_base\n",
      "nvnext_large\n",
      "ssvit_18_dagger_408\n",
      "t_base_patch16_224_miil_in21k\n",
      "t_large_patch16_224\n",
      "t_m36_384\n",
      "t_m36_384\n",
      "t_small_24_p16_384_dist\n",
      "t_small_24_p8_384_dist\n"
     ]
    }
   ],
   "source": [
    "print('\\n'.join(sorted([c[8:].split('/')[0] for c in res['col'].values.tolist()])))"
   ]
  },
  {
   "cell_type": "code",
   "execution_count": 42,
   "id": "15ffa115-b4ae-4f45-b54d-cc9a7b0468c6",
   "metadata": {},
   "outputs": [
    {
     "data": {
      "text/plain": [
       "0.17213125104274188"
      ]
     },
     "execution_count": 42,
     "metadata": {},
     "output_type": "execute_result"
    }
   ],
   "source": [
    "pred = np.dot(df_pred2, coef)\n",
    "#pred = pred - pred.mean() + 0.3803904358353526\n",
    "np.sqrt(((pred - target) ** 2).mean())"
   ]
  },
  {
   "cell_type": "code",
   "execution_count": 43,
   "id": "9419aa0d-6ac4-4af3-b768-d5b35f9a92cc",
   "metadata": {},
   "outputs": [
    {
     "data": {
      "text/plain": [
       "0.17211686757035963"
      ]
     },
     "execution_count": 43,
     "metadata": {},
     "output_type": "execute_result"
    }
   ],
   "source": [
    "pred = np.dot(df_pred2, coef)\n",
    "pred = pred - pred.mean() + 0.3803904358353526\n",
    "pred = pred.clip(0.01, 1)\n",
    "np.sqrt(((pred - target) ** 2).mean())"
   ]
  },
  {
   "cell_type": "code",
   "execution_count": 44,
   "id": "85f7f071-a40a-44c2-8363-bcb3b4b5bf41",
   "metadata": {},
   "outputs": [
    {
     "data": {
      "text/plain": [
       "[(nan, 0.17271177601929089)]"
      ]
     },
     "execution_count": 44,
     "metadata": {},
     "output_type": "execute_result"
    }
   ],
   "source": [
    "[(np.nan, 0.17271177601929089)]"
   ]
  },
  {
   "cell_type": "code",
   "execution_count": 45,
   "id": "83e4ac0b-a39a-4a07-b653-54ae1fb003fa",
   "metadata": {},
   "outputs": [
    {
     "ename": "IndentationError",
     "evalue": "expected an indented block (1107677758.py, line 4)",
     "output_type": "error",
     "traceback": [
      "\u001b[0;36m  File \u001b[0;32m\"/tmp/ipykernel_267065/1107677758.py\"\u001b[0;36m, line \u001b[0;32m4\u001b[0m\n\u001b[0;31m    pred = np.dot(df_pred2, coef)\u001b[0m\n\u001b[0m       ^\u001b[0m\n\u001b[0;31mIndentationError\u001b[0m\u001b[0;31m:\u001b[0m expected an indented block\n"
     ]
    }
   ],
   "source": [
    "aaa = []\n",
    "i = np.nan\n",
    "for i in np.linspace(0, 0.5, 100):\n",
    "pred = np.dot(df_pred2, coef)\n",
    "mu = pred.mean()\n",
    "pred = (pred - mu)\n",
    "pred = np.where(pred > 0, pred * 1.1, pred * 1.12) + 0.3803904358353526\n",
    "pred = pred.clip(0.01, 1)\n",
    "aaa.append((i, np.sqrt(((pred - target) ** 2).mean())))\n",
    "\n",
    "sorted(aaa, key=lambda x: x[1])"
   ]
  },
  {
   "cell_type": "code",
   "execution_count": null,
   "id": "2941f8a6-39d3-4b3b-96f1-0f9b609a8dc6",
   "metadata": {},
   "outputs": [],
   "source": [
    "_pred = np.dot(df_pred2, coef)\n",
    "def score(mu, sigma):\n",
    "    pred = _pred * sigma - mu\n",
    "    pred = pred.clip(0.01, 1)\n",
    "    return np.sqrt(((pred - target) ** 2).mean())\n",
    "\n",
    "aaa = [((m, s), score(m, s)) for m in np.linspace(0, 0.5, 100) for s in np.linspace(0.5, 1.5, 100)]"
   ]
  },
  {
   "cell_type": "code",
   "execution_count": null,
   "id": "cf080eec-434a-4c84-8f88-5d5c4b76d2f7",
   "metadata": {
    "tags": []
   },
   "outputs": [],
   "source": [
    "#sorted(aaa, key=lambda x: x[1])"
   ]
  },
  {
   "cell_type": "code",
   "execution_count": null,
   "id": "0d336d03-875f-4fe1-a4c7-9933426d277d",
   "metadata": {},
   "outputs": [],
   "source": [
    "pred = np.dot(df_pred2, coef)\n",
    "for i in range(100):\n",
    "    pred = pred / pred.mean() * 0.3803904358353526\n",
    "    pred = pred.clip(0.01, 1)\n",
    "np.sqrt(((pred - target) ** 2).mean())"
   ]
  },
  {
   "cell_type": "code",
   "execution_count": null,
   "id": "26249229-7159-4088-9bce-a539ce93625d",
   "metadata": {},
   "outputs": [],
   "source": [
    "pred = np.dot(df_pred2, coef)\n",
    "for i in range(100):\n",
    "    pred = pred - pred.mean() + 0.3803904358353526\n",
    "    pred = pred.clip(0.01, 1)\n",
    "np.sqrt(((pred - target) ** 2).mean())"
   ]
  },
  {
   "cell_type": "code",
   "execution_count": null,
   "id": "1afc3221-d8f8-4914-8b17-ba4f93314f9d",
   "metadata": {},
   "outputs": [],
   "source": [
    "0.17139471886213498"
   ]
  },
  {
   "cell_type": "code",
   "execution_count": null,
   "id": "f0aa4817-5307-448f-b3dd-75bc7eaefcb8",
   "metadata": {},
   "outputs": [],
   "source": [
    "pred = np.dot(df_pred2, coef)\n",
    "pred = (pred - pred.mean()) / pred.std()\n",
    "pred = pred * (target.std()) + 0.3803904358353526\n",
    "pred = pred.clip(0.01, 1)\n",
    "np.sqrt(((pred - target) ** 2).mean())"
   ]
  },
  {
   "cell_type": "code",
   "execution_count": null,
   "id": "515e8b66-e526-4f28-a61a-b92eed881629",
   "metadata": {},
   "outputs": [],
   "source": [
    "np.corrcoef(np.dot(df_pred2, coef), target)"
   ]
  },
  {
   "cell_type": "code",
   "execution_count": null,
   "id": "e3e1fb2b-7265-4546-a80b-238c810dd1c9",
   "metadata": {},
   "outputs": [],
   "source": [
    "res.set_index('col')['coef'].to_dict()"
   ]
  },
  {
   "cell_type": "code",
   "execution_count": null,
   "id": "be7e1af1-fc3a-47f5-83d9-c6eceaa33668",
   "metadata": {},
   "outputs": [],
   "source": [
    "res.set_index('col')['coef'].sum()"
   ]
  },
  {
   "cell_type": "code",
   "execution_count": null,
   "id": "c75cdcd1-97a5-459d-b859-3363d9a9430a",
   "metadata": {},
   "outputs": [],
   "source": [
    "df['pred'] = np.dot(df_pred2, coef)\n",
    "#df.to_csv('ens_exp9.csv', index=False)"
   ]
  },
  {
   "cell_type": "code",
   "execution_count": null,
   "id": "9f4f5fb2-8df2-40cb-93f3-c8639afb11f9",
   "metadata": {},
   "outputs": [],
   "source": [
    "df"
   ]
  }
 ],
 "metadata": {
  "kernelspec": {
   "display_name": "Python 3 (ipykernel)",
   "language": "python",
   "name": "python3"
  },
  "language_info": {
   "codemirror_mode": {
    "name": "ipython",
    "version": 3
   },
   "file_extension": ".py",
   "mimetype": "text/x-python",
   "name": "python",
   "nbconvert_exporter": "python",
   "pygments_lexer": "ipython3",
   "version": "3.7.12"
  }
 },
 "nbformat": 4,
 "nbformat_minor": 5
}
